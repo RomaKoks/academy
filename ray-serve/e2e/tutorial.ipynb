{
 "cells": [
  {
   "cell_type": "markdown",
   "id": "liberal-business",
   "metadata": {},
   "source": [
    "Notebook created: 2022-01-26 17:17:37  \n",
    "Generated from: serve/end_to_end_tutorial.rst  "
   ]
  },
  {
   "cell_type": "markdown",
   "id": "sized-individual",
   "metadata": {},
   "source": [
    "\n",
    "<a id='end-to-end-tutorial'></a>"
   ]
  },
  {
   "cell_type": "markdown",
   "id": "complimentary-slide",
   "metadata": {},
   "source": [
    "# End-to-End Tutorial\n",
    "\n",
    "By the end of this tutorial you will have learned how to deploy a machine\n",
    "learning model locally via Ray Serve.\n",
    "\n",
    "First, install Ray Serve and all of its dependencies by running the following\n",
    "command in your terminal:"
   ]
  },
  {
   "cell_type": "markdown",
   "id": "rough-holocaust",
   "metadata": {
    "hide-output": false
   },
   "source": [
    "```bash\n",
    "$ pip install \"ray[serve]\"\n",
    "```\n"
   ]
  },
  {
   "cell_type": "markdown",
   "id": "different-factor",
   "metadata": {},
   "source": [
    "For this tutorial, we’ll use [HuggingFace’s SummarizationPipeline](https://huggingface.co/docs/transformers/main_classes/pipelines#transformers.SummarizationPipeline)\n",
    "to access a model that summarizes text."
   ]
  },
  {
   "cell_type": "markdown",
   "id": "pressed-therapist",
   "metadata": {},
   "source": [
    "## Example Model\n",
    "\n",
    "Let’s first take a look at how the model works, without using Ray Serve.\n",
    "This is the code for the model:"
   ]
  },
  {
   "cell_type": "markdown",
   "id": "cheap-single",
   "metadata": {
    "hide-output": false
   },
   "source": [
    "```python\n",
    "# File name: local_model.py\n",
    "from transformers import pipeline\n",
    "\n",
    "\n",
    "def summarize(text):\n",
    "    # Load model\n",
    "    summarizer = pipeline(\"summarization\", model=\"t5-small\")\n",
    "\n",
    "    # Run inference\n",
    "    summary_list = summarizer(text)\n",
    "\n",
    "    # Post-process output to return only the summary text\n",
    "    summary = summary_list[0][\"summary_text\"]\n",
    "\n",
    "    return summary\n",
    "\n",
    "\n",
    "article_text = (\n",
    "    \"HOUSTON -- Men have landed and walked on the moon. \"\n",
    "    \"Two Americans, astronauts of Apollo 11, steered their fragile \"\n",
    "    \"four-legged lunar module safely and smoothly to the historic landing \"\n",
    "    \"yesterday at 4:17:40 P.M., Eastern daylight time. Neil A. Armstrong, the \"\n",
    "    \"38-year-old commander, radioed to earth and the mission control room \"\n",
    "    \"here: \\\"Houston, Tranquility Base here. The Eagle has landed.\\\" The \"\n",
    "    \"first men to reach the moon -- Armstrong and his co-pilot, Col. Edwin E. \"\n",
    "    \"Aldrin Jr. of the Air Force -- brought their ship to rest on a level, \"\n",
    "    \"rock-strewn plain near the southwestern shore of the arid Sea of \"\n",
    "    \"Tranquility. About six and a half hours later, Armstrong opened the \"\n",
    "    \"landing craft\\'s hatch, stepped slowly down the ladder and declared as \"\n",
    "    \"he planted the first human footprint on the lunar crust: \\\"That\\'s one \"\n",
    "    \"small step for man, one giant leap for mankind.\\\" His first step on the \"\n",
    "    \"moon came at 10:56:20 P.M., as a television camera outside the craft \"\n",
    "    \"transmitted his every move to an awed and excited audience of hundreds \"\n",
    "    \"of millions of people on earth.\")\n",
    "\n",
    "summary = summarize(article_text)\n",
    "print(summary)\n",
    "```\n"
   ]
  },
  {
   "cell_type": "markdown",
   "id": "accessible-individual",
   "metadata": {},
   "source": [
    "The Python file, called `local_model.py` uses the `summarize` function to\n",
    "generate summaries of text.\n",
    "\n",
    "- The `summarizer` variable on line 7 inside `summarize` points to a\n",
    "  function that uses the [t5-small](https://huggingface.co/t5-small)\n",
    "  model to summarize text.  \n",
    "- When `summarizer` is called on a Python String, it returns summarized text\n",
    "  inside a dictionary formatted as `[{\"summary_text\": \"...\", ...}, ...]`.  \n",
    "- `summarize` then extracts the summarized text on line 13 by indexing into\n",
    "  the dictionary.  \n",
    "\n",
    "\n",
    "The file can be run locally by executing the Python script, which uses the\n",
    "model to summarize an article about the Apollo 11 moon landing <sup>[1](#f1)</sup>."
   ]
  },
  {
   "cell_type": "markdown",
   "id": "biblical-wellington",
   "metadata": {
    "hide-output": false
   },
   "source": [
    "```bash\n",
    "$ python local_model.py\n",
    "\n",
    "\"two astronauts steered their fragile lunar module safely and smoothly to the\n",
    "historic landing . the first men to reach the moon -- Armstrong and his\n",
    "co-pilot, col. Edwin E. Aldrin Jr. of the air force -- brought their ship to\n",
    "rest on a level, rock-strewn plain .\"\n",
    "```\n"
   ]
  },
  {
   "cell_type": "markdown",
   "id": "athletic-report",
   "metadata": {},
   "source": [
    "Keep in mind that the `SummarizationPipeline` is an example machine learning\n",
    "model for this tutorial. You can follow along using arbitrary models in any\n",
    "framework that has a Python API. Check out our tutorials on sckit-learn,\n",
    "PyTorch, and Tensorflow for more info and examples:\n",
    "\n",
    "- [Scikit-Learn Tutorial](tutorials/sklearn.ipynb#serve-sklearn-tutorial)  \n",
    "- [PyTorch Tutorial](tutorials/pytorch.ipynb#serve-pytorch-tutorial)  \n",
    "- [Keras and Tensorflow Tutorial](tutorials/tensorflow.ipynb#serve-tensorflow-tutorial)  "
   ]
  },
  {
   "cell_type": "markdown",
   "id": "indirect-blues",
   "metadata": {},
   "source": [
    "## Converting to Ray Serve Deployment\n",
    "\n",
    "This tutorial’s goal is to deploy this model using Ray Serve, so it can be\n",
    "scaled up and queried over HTTP. We’ll start by converting the above Python\n",
    "function into a Ray Serve deployment that can be launched locally on a laptop.\n",
    "\n",
    "We start by opening a new Python file. First, we need to import `ray` and\n",
    "`ray serve`, to use features in Ray Serve such as `deployments`, which\n",
    "provide HTTP access to our model."
   ]
  },
  {
   "cell_type": "markdown",
   "id": "harmful-connection",
   "metadata": {
    "hide-output": false
   },
   "source": [
    "```python\n",
    "import ray\n",
    "from ray import serve\n",
    "```\n"
   ]
  },
  {
   "cell_type": "markdown",
   "id": "final-tourist",
   "metadata": {},
   "source": [
    "After these imports, we can include our model code from above.\n",
    "We won’t call our `summarize` function just yet though!\n",
    "We will soon add logic to handle HTTP requests, so the `summarize` function\n",
    "can operate on article text sent via HTTP request."
   ]
  },
  {
   "cell_type": "markdown",
   "id": "solar-middle",
   "metadata": {
    "hide-output": false
   },
   "source": [
    "```python\n",
    "from transformers import pipeline\n",
    "\n",
    "\n",
    "def summarize(text):\n",
    "    summarizer = pipeline(\"summarization\", model=\"t5-small\")\n",
    "    summary_list = summarizer(text)\n",
    "    summary = summary_list[0][\"summary_text\"]\n",
    "    return summary\n",
    "```\n"
   ]
  },
  {
   "cell_type": "markdown",
   "id": "streaming-oriental",
   "metadata": {},
   "source": [
    "Ray Serve needs to run on top of a Ray cluster, so we connect to a local one.\n",
    "See [Deploying Ray Serve](deployment.ipynb#serve-deploy-tutorial) to learn more about starting a Ray Serve\n",
    "instance and deploying to a Ray cluster."
   ]
  },
  {
   "cell_type": "markdown",
   "id": "secret-excitement",
   "metadata": {
    "hide-output": false
   },
   "source": [
    "```python\n",
    "ray.init(address=\"auto\", namespace=\"serve\")\n",
    "```\n"
   ]
  },
  {
   "cell_type": "markdown",
   "id": "native-discussion",
   "metadata": {},
   "source": [
    "The `address` parameter in `ray.init()` connects your Serve script to a\n",
    "running local Ray cluster. Later, we’ll discuss how to start a local Ray\n",
    "cluster.\n",
    "\n",
    ">**Note**\n",
    ">\n",
    ">`ray.init()` connects to or starts a single-node Ray cluster on your\n",
    "local machine,  which allows you to use all your CPU cores to serve\n",
    "requests in parallel. To start a multi-node cluster, see\n",
    "[Deploying Ray Serve](deployment.ipynb#serve-deploy-tutorial).\n",
    "\n",
    "Next, we start the Ray Serve runtime:"
   ]
  },
  {
   "cell_type": "markdown",
   "id": "cooked-visiting",
   "metadata": {
    "hide-output": false
   },
   "source": [
    "```python\n",
    "serve.start(detached=True)\n",
    "```\n"
   ]
  },
  {
   "cell_type": "markdown",
   "id": "elder-enemy",
   "metadata": {},
   "source": [
    ">**Note**\n",
    ">\n",
    ">`detached=True` means Ray Serve will continue running even when the Python\n",
    "script exits. If you would rather stop Ray Serve after the script exits, use\n",
    "`serve.start()` instead (see [Lifetime of a Ray Serve Instance](deployment.ipynb#ray-serve-instance-lifetime) for\n",
    "details).\n",
    "\n",
    "Now that we have defined our `summarize` function, connected to a Ray\n",
    "Cluster, and started the Ray Serve runtime, we can define a function that\n",
    "accepts HTTP requests and routes them to the `summarize` function. We\n",
    "define a function called `router` that takes in a Starlette `request`\n",
    "object <sup>[2](#f2)</sup>:"
   ]
  },
  {
   "cell_type": "markdown",
   "id": "healthy-cabin",
   "metadata": {
    "hide-output": false
   },
   "source": [
    "```python\n",
    "@serve.deployment\n",
    "def router(request):\n",
    "    txt = request.query_params[\"txt\"]\n",
    "    return summarize(txt)\n",
    "```\n"
   ]
  },
  {
   "cell_type": "markdown",
   "id": "vocational-token",
   "metadata": {},
   "source": [
    "- In line 1, we add the decorator `@serve.deployment`\n",
    "  to the `router` function to turn the function into a Serve `Deployment`\n",
    "  object.  \n",
    "- In line 3, `router` uses the `\"txt\"` query parameter in the `request`\n",
    "  to get the article text to summarize.  \n",
    "- In line 4, it then passes this article text into the `summarize` function\n",
    "  and returns the value.  \n",
    "\n",
    "\n",
    ">**Note**\n",
    ">\n",
    ">Lines 3 and 4 define our HTTP request schema. The HTTP requests sent to this\n",
    "endpoint must have a `\"txt\"` query parameter that contains a string.\n",
    "In general, you can accept HTTP data using query parameters or the\n",
    "request body. Additionally, you can add other Serve deployments with\n",
    "different names to create more endpoints that can accept different schemas.\n",
    "For more complex validation, you can also use FastAPI (see\n",
    "[FastAPI HTTP Deployments](http-servehandle.ipynb#serve-fastapi-http) for more info).\n",
    "\n",
    "This routing function’s name doesn’t have to be `router`.\n",
    "It can be any function name as long as the corresponding name is present in\n",
    "the HTTP request. If you want the function name to be different than the name\n",
    "in the HTTP request, you can add the `name` keyword parameter to the\n",
    "`@serve.deployment` decorator to specify the name sent in the HTTP request.\n",
    "\n",
    "For example, if the decorator is `@serve.deployment(name=\"responder\")` and\n",
    "the function signature is `def request_manager(request)`, the HTTP request\n",
    "should use `responder`, not `request_manager`. If no `name` is passed\n",
    "into `@serve.deployment`, the `request` uses the function’s name by\n",
    "default. For example, if the decorator is `@serve.deployment` and the\n",
    "function’s signature is `def manager(request)`, the HTTP request should use\n",
    "`manager`.\n",
    "\n",
    "Since `@serve.deployment` makes `router` a `Deployment` object, it can be\n",
    "deployed using `router.deploy()`:"
   ]
  },
  {
   "cell_type": "markdown",
   "id": "painted-cooper",
   "metadata": {
    "hide-output": false
   },
   "source": [
    "```python\n",
    "router.deploy()\n",
    "```\n"
   ]
  },
  {
   "cell_type": "markdown",
   "id": "legislative-mississippi",
   "metadata": {},
   "source": [
    "Once we deploy `router`, we can query the model over HTTP.\n",
    "With that, we can run our model on Ray Serve!\n",
    "Here’s the full Ray Serve deployment script that we built for our model:"
   ]
  },
  {
   "cell_type": "markdown",
   "id": "rural-submission",
   "metadata": {
    "hide-output": false
   },
   "source": [
    "```python\n",
    "# File name: model_on_ray_serve.py\n",
    "import ray\n",
    "from ray import serve\n",
    "from transformers import pipeline\n",
    "\n",
    "\n",
    "def summarize(text):\n",
    "    summarizer = pipeline(\"summarization\", model=\"t5-small\")\n",
    "    summary_list = summarizer(text)\n",
    "    summary = summary_list[0][\"summary_text\"]\n",
    "    return summary\n",
    "\n",
    "\n",
    "ray.init(address=\"auto\", namespace=\"serve\")\n",
    "serve.start(detached=True)\n",
    "\n",
    "\n",
    "@serve.deployment\n",
    "def router(request):\n",
    "    txt = request.query_params[\"txt\"]\n",
    "    return summarize(txt)\n",
    "\n",
    "\n",
    "router.deploy()\n",
    "```\n"
   ]
  },
  {
   "cell_type": "markdown",
   "id": "actual-discrimination",
   "metadata": {},
   "source": [
    "To deploy `router`, we first start a local Ray cluster:"
   ]
  },
  {
   "cell_type": "markdown",
   "id": "flying-platinum",
   "metadata": {
    "hide-output": false
   },
   "source": [
    "```bash\n",
    "$ ray start --head\n",
    "```\n"
   ]
  },
  {
   "cell_type": "markdown",
   "id": "thousand-intermediate",
   "metadata": {},
   "source": [
    "The Ray cluster that this command launches is the same Ray cluster that the\n",
    "Python code connects to using `ray.init(address=\"auto\", namespace=\"serve\")`.\n",
    "It is also the same Ray cluster that keeps Ray Serve (and any deployments on\n",
    "it, such as `router`) alive even after the Python script exits as long as\n",
    "`detached=True` inside `serve.start()`.\n",
    "\n",
    "To stop the Ray cluster, run the command `ray stop`.\n",
    "\n",
    "After starting the Ray cluster, we can run the Python file to deploy `router`\n",
    "and begin accepting HTTP requests:"
   ]
  },
  {
   "cell_type": "markdown",
   "id": "radio-moderator",
   "metadata": {
    "hide-output": false
   },
   "source": [
    "```bash\n",
    "$ python model_on_ray_serve.py\n",
    "```\n"
   ]
  },
  {
   "cell_type": "markdown",
   "id": "honest-modem",
   "metadata": {},
   "source": [
    "## Testing the Ray Serve Deployment\n",
    "\n",
    "We can now test our model over HTTP. The structure of our HTTP query is:\n",
    "\n",
    "`http://127.0.0.1:8000/[Deployment Name]?[Parameter Name-1]=[Parameter Value-1]&[Parameter Name-2]=[Parameter Value-2]&...&[Parameter Name-n]=[Parameter Value-n]`\n",
    "\n",
    "Since the cluster is deployed locally in this tutorial, the `127.0.0.1:8000`\n",
    "refers to a localhost with port 8000. The `[Deployment Name]` refers to\n",
    "either the name of the function that we called `.deploy()` on (in our case,\n",
    "this is `router`), or the `name` keyword parameter’s value in\n",
    "`@serve.deployment` (see the Tip under the `router` function definition\n",
    "above for more info).\n",
    "\n",
    "Each `[Parameter Name]` refers to a field’s name in the\n",
    "request’s `query_params` dictionary for our deployed function. In our\n",
    "example, the only parameter we need to pass in is `txt`. This parameter is\n",
    "referenced in the `txt = request.query_params[\"txt\"]` line in the `router`\n",
    "function. Each [Parameter Name] object has a corresponding [Parameter Value]\n",
    "object. The `txt`’s [Parameter Value] is a string containing the article\n",
    "text to summarize. We can chain together any number of the name-value pairs\n",
    "using the `&` symbol in the request URL.\n",
    "\n",
    "Now that the `summarize` function is deployed on Ray Serve, we can make HTTP\n",
    "requests to it. Here’s a client script that requests a summary from the same\n",
    "article as the original Python script:"
   ]
  },
  {
   "cell_type": "markdown",
   "id": "surrounded-advance",
   "metadata": {
    "hide-output": false
   },
   "source": [
    "```python\n",
    "# File name: router_client.py\n",
    "import requests\n",
    "\n",
    "article_text = (\n",
    "    \"HOUSTON -- Men have landed and walked on the moon. \"\n",
    "    \"Two Americans, astronauts of Apollo 11, steered their fragile \"\n",
    "    \"four-legged lunar module safely and smoothly to the historic landing \"\n",
    "    \"yesterday at 4:17:40 P.M., Eastern daylight time. Neil A. Armstrong, the \"\n",
    "    \"38-year-old commander, radioed to earth and the mission control room \"\n",
    "    \"here: \\\"Houston, Tranquility Base here. The Eagle has landed.\\\" The \"\n",
    "    \"first men to reach the moon -- Armstrong and his co-pilot, Col. Edwin E. \"\n",
    "    \"Aldrin Jr. of the Air Force -- brought their ship to rest on a level, \"\n",
    "    \"rock-strewn plain near the southwestern shore of the arid Sea of \"\n",
    "    \"Tranquility. About six and a half hours later, Armstrong opened the \"\n",
    "    \"landing craft\\'s hatch, stepped slowly down the ladder and declared as \"\n",
    "    \"he planted the first human footprint on the lunar crust: \\\"That\\'s one \"\n",
    "    \"small step for man, one giant leap for mankind.\\\" His first step on the \"\n",
    "    \"moon came at 10:56:20 P.M., as a television camera outside the craft \"\n",
    "    \"transmitted his every move to an awed and excited audience of hundreds \"\n",
    "    \"of millions of people on earth.\")\n",
    "\n",
    "response = requests.get(\"http://127.0.0.1:8000/router?txt=\" +\n",
    "                        article_text).text\n",
    "\n",
    "print(response)\n",
    "```\n"
   ]
  },
  {
   "cell_type": "markdown",
   "id": "following-evans",
   "metadata": {},
   "source": [
    "We can run this script while the model is deployed to get a response over HTTP:"
   ]
  },
  {
   "cell_type": "markdown",
   "id": "filled-turkey",
   "metadata": {
    "hide-output": false
   },
   "source": [
    "```bash\n",
    "$ python router_client.py\n",
    "\n",
    "\"two astronauts steered their fragile lunar module safely and smoothly to the\n",
    "historic landing . the first men to reach the moon -- Armstrong and his\n",
    "co-pilot, col. Edwin E. Aldrin Jr. of the air force -- brought their ship to\n",
    "rest on a level, rock-strewn plain .\"\n",
    "```\n"
   ]
  },
  {
   "cell_type": "markdown",
   "id": "sonic-quick",
   "metadata": {},
   "source": [
    "## Using Classes in the Ray Serve Deployment\n",
    "\n",
    "Our application is still a bit inefficient though. In particular, the\n",
    "`summarize` function loads the model on each call when it sets the\n",
    "`summarizer` variable. However, the model never changes, so it would be more\n",
    "efficient to define `summarizer` only once and keep its value in memory\n",
    "instead of reloading it for each HTTP query.\n",
    "\n",
    "We can achieve this by converting our `summarize` function into a class:"
   ]
  },
  {
   "cell_type": "markdown",
   "id": "welsh-serial",
   "metadata": {
    "hide-output": false
   },
   "source": [
    "```python\n",
    "# File name: summarizer_on_ray_serve.py\n",
    "import ray\n",
    "from ray import serve\n",
    "from transformers import pipeline\n",
    "\n",
    "ray.init(address=\"auto\", namespace=\"serve\")\n",
    "serve.start(detached=True)\n",
    "\n",
    "\n",
    "@serve.deployment\n",
    "class Summarizer:\n",
    "    def __init__(self):\n",
    "        self.summarize = pipeline(\"summarization\", model=\"t5-small\")\n",
    "\n",
    "    def __call__(self, request):\n",
    "        txt = request.query_params[\"txt\"]\n",
    "        summary_list = self.summarize(txt)\n",
    "        summary = summary_list[0][\"summary_text\"]\n",
    "        return summary\n",
    "\n",
    "\n",
    "Summarizer.deploy()\n",
    "```\n"
   ]
  },
  {
   "cell_type": "markdown",
   "id": "disciplinary-weekly",
   "metadata": {},
   "source": [
    "In this configuration, we can query the `Summarizer` class directly.\n",
    "The `Summarizer` is initialized once (after calling `Summarizer.deploy()`).\n",
    "In line 13, its `__init__` function loads and stores the model in\n",
    "`self.summarize`. HTTP queries for the `Summarizer` class are routed to its\n",
    "`__call__` method by default, which takes in the Starlette `request`\n",
    "object. The `Summarizer` class can then take the request’s `txt` data and\n",
    "call the `self.summarize` function on it without loading the model on each\n",
    "query.\n",
    "\n",
    "Instance variables can also store state. For example, to\n",
    "count the number of requests served, a `@serve.deployment` class can define\n",
    "a `self.counter` instance variable in its `__init__` function and set it\n",
    "to 0. When the class is queried, it can increment the `self.counter`\n",
    "variable inside of the function responding to the query. The `self.counter`\n",
    "will keep track of the number of requests served across requests.\n",
    "\n",
    "HTTP queries for the Ray Serve class deployments follow a similar format to Ray\n",
    "Serve function deployments. Here’s an example client script for the\n",
    "`Summarizer` class. Notice that the only difference from the `router`’s\n",
    "client script is that the URL uses the `Summarizer` path instead of\n",
    "`router`."
   ]
  },
  {
   "cell_type": "markdown",
   "id": "broad-compound",
   "metadata": {
    "hide-output": false
   },
   "source": [
    "```python\n",
    "# File name: summarizer_client.py\n",
    "import requests\n",
    "\n",
    "article_text = (\n",
    "    \"HOUSTON -- Men have landed and walked on the moon. \"\n",
    "    \"Two Americans, astronauts of Apollo 11, steered their fragile \"\n",
    "    \"four-legged lunar module safely and smoothly to the historic landing \"\n",
    "    \"yesterday at 4:17:40 P.M., Eastern daylight time. Neil A. Armstrong, the \"\n",
    "    \"38-year-old commander, radioed to earth and the mission control room \"\n",
    "    \"here: \\\"Houston, Tranquility Base here. The Eagle has landed.\\\" The \"\n",
    "    \"first men to reach the moon -- Armstrong and his co-pilot, Col. Edwin E. \"\n",
    "    \"Aldrin Jr. of the Air Force -- brought their ship to rest on a level, \"\n",
    "    \"rock-strewn plain near the southwestern shore of the arid Sea of \"\n",
    "    \"Tranquility. About six and a half hours later, Armstrong opened the \"\n",
    "    \"landing craft\\'s hatch, stepped slowly down the ladder and declared as \"\n",
    "    \"he planted the first human footprint on the lunar crust: \\\"That\\'s one \"\n",
    "    \"small step for man, one giant leap for mankind.\\\" His first step on the \"\n",
    "    \"moon came at 10:56:20 P.M., as a television camera outside the craft \"\n",
    "    \"transmitted his every move to an awed and excited audience of hundreds \"\n",
    "    \"of millions of people on earth.\")\n",
    "\n",
    "response = requests.get(\"http://127.0.0.1:8000/Summarizer?txt=\" +\n",
    "                        article_text).text\n",
    "\n",
    "print(response)\n",
    "```\n"
   ]
  },
  {
   "cell_type": "markdown",
   "id": "textile-disclosure",
   "metadata": {},
   "source": [
    "We can deploy the class-based model on Serve without stopping the Ray cluster.\n",
    "However, for the purposes of this tutorial, let’s restart the cluster, deploy\n",
    "the model, and query it over HTTP:"
   ]
  },
  {
   "cell_type": "markdown",
   "id": "opponent-preservation",
   "metadata": {
    "hide-output": false
   },
   "source": [
    "```bash\n",
    "$ ray stop\n",
    "$ ray start --head\n",
    "$ python summarizer_on_ray_serve.py\n",
    "$ python summarizer_client.py\n",
    "\n",
    "\"two astronauts steered their fragile lunar module safely and smoothly to the\n",
    "historic landing . the first men to reach the moon -- Armstrong and his\n",
    "co-pilot, col. Edwin E. Aldrin Jr. of the air force -- brought their ship to\n",
    "rest on a level, rock-strewn plain .\"\n",
    "```\n"
   ]
  },
  {
   "cell_type": "markdown",
   "id": "precise-shepherd",
   "metadata": {},
   "source": [
    "## Adding Functionality with FastAPI\n",
    "\n",
    "Now suppose we want to expose additional functionality in our model. In\n",
    "particular, the `summarize` function also has `min_length` and\n",
    "`max_length` parameters. Although we could expose these options as additional\n",
    "parameters in URL, Ray Serve also allows us to add more route options to the\n",
    "URL itself and handle each route separately.\n",
    "\n",
    "Because this logic can get complex, Serve integrates with\n",
    "[FastAPI](https://fastapi.tiangolo.com/). This allows us to define a Serve\n",
    "deployment by adding the `@serve.ingress` decorator to a FastAPI app. For\n",
    "more info about FastAPI with Serve, please see [FastAPI HTTP Deployments](http-servehandle.ipynb#serve-fastapi-http).\n",
    "\n",
    "As an example of FastAPI, here’s a modified version of our `Summarizer` class\n",
    "with route options to request a minimum or maximum length of ten words in the\n",
    "summaries:"
   ]
  },
  {
   "cell_type": "markdown",
   "id": "revised-retro",
   "metadata": {
    "hide-output": false
   },
   "source": [
    "```python\n",
    "# File name: serve_with_fastapi.py\n",
    "import ray\n",
    "from ray import serve\n",
    "from fastapi import FastAPI\n",
    "from transformers import pipeline\n",
    "\n",
    "app = FastAPI()\n",
    "\n",
    "ray.init(address=\"auto\", namespace=\"serve\")\n",
    "serve.start(detached=True)\n",
    "\n",
    "\n",
    "@serve.deployment\n",
    "@serve.ingress(app)\n",
    "class Summarizer:\n",
    "    def __init__(self):\n",
    "        self.summarize = pipeline(\"summarization\", model=\"t5-small\")\n",
    "\n",
    "    @app.get(\"/\")\n",
    "    def get_summary(self, txt: str):\n",
    "        summary_list = self.summarize(txt)\n",
    "        summary = summary_list[0][\"summary_text\"]\n",
    "        return summary\n",
    "\n",
    "    @app.get(\"/min10\")\n",
    "    def get_summary_min10(self, txt: str):\n",
    "        summary_list = self.summarize(txt, min_length=10)\n",
    "        summary = summary_list[0][\"summary_text\"]\n",
    "        return summary\n",
    "\n",
    "    @app.get(\"/max10\")\n",
    "    def get_summary_max10(self, txt: str):\n",
    "        summary_list = self.summarize(txt, max_length=10)\n",
    "        summary = summary_list[0][\"summary_text\"]\n",
    "        return summary\n",
    "\n",
    "\n",
    "Summarizer.deploy()\n",
    "```\n"
   ]
  },
  {
   "cell_type": "markdown",
   "id": "empirical-composite",
   "metadata": {},
   "source": [
    "The class now exposes three routes:\n",
    "\n",
    "- `/Summarizer`: As before, this route takes in article text and returns\n",
    "  a summary.  \n",
    "- `/Summarizer/min10`: This route takes in article text and returns a\n",
    "  summary with at least 10 words.  \n",
    "- `/Summarizer/max10`: This route takes in article text and returns a\n",
    "  summary with at most 10 words.  \n",
    "\n",
    "\n",
    "Notice that `Summarizer`’s methods no longer take in a Starlette `request`\n",
    "object. Instead, they take in the URL’s txt parameter directly with FastAPI’s\n",
    "[query parameter](https://fastapi.tiangolo.com/tutorial/query-params/)\n",
    "feature.\n",
    "\n",
    "Since we still deploy our model locally, the full URL still uses the\n",
    "localhost IP. This means each of our three routes comes after the\n",
    "`http://127.0.0.1:8000` IP and port address. As an example, we can make\n",
    "requests to the `max10` route using this client script:"
   ]
  },
  {
   "cell_type": "markdown",
   "id": "handled-million",
   "metadata": {
    "hide-output": false
   },
   "source": [
    "```python\n",
    "# File name: fastapi_client.py\n",
    "import requests\n",
    "\n",
    "article_text = (\n",
    "    \"HOUSTON -- Men have landed and walked on the moon. \"\n",
    "    \"Two Americans, astronauts of Apollo 11, steered their fragile \"\n",
    "    \"four-legged lunar module safely and smoothly to the historic landing \"\n",
    "    \"yesterday at 4:17:40 P.M., Eastern daylight time. Neil A. Armstrong, the \"\n",
    "    \"38-year-old commander, radioed to earth and the mission control room \"\n",
    "    \"here: \\\"Houston, Tranquility Base here. The Eagle has landed.\\\" The \"\n",
    "    \"first men to reach the moon -- Armstrong and his co-pilot, Col. Edwin E. \"\n",
    "    \"Aldrin Jr. of the Air Force -- brought their ship to rest on a level, \"\n",
    "    \"rock-strewn plain near the southwestern shore of the arid Sea of \"\n",
    "    \"Tranquility. About six and a half hours later, Armstrong opened the \"\n",
    "    \"landing craft\\'s hatch, stepped slowly down the ladder and declared as \"\n",
    "    \"he planted the first human footprint on the lunar crust: \\\"That\\'s one \"\n",
    "    \"small step for man, one giant leap for mankind.\\\" His first step on the \"\n",
    "    \"moon came at 10:56:20 P.M., as a television camera outside the craft \"\n",
    "    \"transmitted his every move to an awed and excited audience of hundreds \"\n",
    "    \"of millions of people on earth.\")\n",
    "\n",
    "response = requests.get(\"http://127.0.0.1:8000/Summarizer/max10?txt=\" +\n",
    "                        article_text).text\n",
    "\n",
    "print(response)\n",
    "```\n"
   ]
  },
  {
   "cell_type": "markdown",
   "id": "southeast-investor",
   "metadata": {
    "hide-output": false
   },
   "source": [
    "```bash\n",
    "$ ray stop\n",
    "$ ray start --head\n",
    "$ python serve_with_fastapi.py\n",
    "$ python fastapi_client.py\n",
    "\n",
    "\"two astronauts steered their fragile lunar\"\n",
    "```\n"
   ]
  },
  {
   "cell_type": "markdown",
   "id": "italic-clark",
   "metadata": {},
   "source": [
    "Congratulations! You just built and deployed a machine learning model on Ray\n",
    "Serve! You should now have enough context to dive into the [Core API: Deployments](core-apis.ipynb) to\n",
    "get a deeper understanding of Ray Serve.\n",
    "\n",
    "To learn more about how to start a multi-node cluster for your Ray Serve\n",
    "deployments, see [Deploying Ray Serve](deployment.ipynb#serve-deploy-tutorial). For more interesting example\n",
    "applications, including integrations with popular machine learning frameworks\n",
    "and Python web servers, be sure to check out [Advanced Tutorials](tutorials/index.ipynb)."
   ]
  },
  {
   "cell_type": "markdown",
   "id": "optical-criticism",
   "metadata": {},
   "source": [
    "**Footnotes**\n",
    "\n",
    "<a id='f1'></a>\n",
    "**[1]** The article text comes from the New York Times article “Astronauts\n",
    "Land on Plain; Collect Rocks, Plant Flag” archived\n",
    "[here](https://archive.nytimes.com/www.nytimes.com/library/national/science/nasa/072169sci-nasa.html).\n",
    "\n",
    "<a id='f2'></a>\n",
    "**[2]** [Starlette](https://www.starlette.io/) is a web server framework\n",
    "used by Ray Serve. Its [Request](https://www.starlette.io/requests/) class\n",
    "provides a nice interface for incoming HTTP requests."
   ]
  }
 ],
 "metadata": {
  "date": 1643246257.62908,
  "filename": "end_to_end_tutorial.rst",
  "kernelspec": {
   "display_name": "Python",
   "language": "python3",
   "name": "python3"
  },
  "title": "End-to-End Tutorial"
 },
 "nbformat": 4,
 "nbformat_minor": 5
}