{
 "cells": [
  {
   "cell_type": "markdown",
   "metadata": {},
   "source": [
    "# Ray Serve - Overview\n",
    "\n",
    "© 2019-2022, Anyscale. All Rights Reserved\n",
    "\n",
    "![Anyscale Academy](../images/AnyscaleAcademyLogo.png)\n",
    "\n",
    "## Watch Ray Summit 2021 on demand!\n",
    "\n",
    "Ray Summit 2021 [virtual conference](https://www.anyscale.com/ray-summit-2021) was on June 22-24, 2021. We had an amazing lineup of luminar keynote speakers and breakout sessions on the Ray ecosystem, third-party Ray libraries, and applications of Ray in the real world.\n",
    "\n",
    "For information about other online events, see [anyscale.com/events](https://anyscale.com/events).\n",
    "\n",
    "## About This Tutorial\n",
    "\n",
    "This tutorial, part of [Anyscale Academy](https://anyscale.com/academy), introduces [Ray Serve](https://docs.ray.io/en/latest/serve/index.html), Ray's comprehensive library for scalable model serving.\n",
    "\n",
    "![Ray Serve](../images/ray_serve_logo.png)\n",
    "\n",
    "See the instructions in the [README](../README.md) for setting up your environment to use this tutorial.\n",
    "\n",
    "Go [here](../Overview.ipynb) for an overview of all tutorials.\n",
    "\n",
    "**NOTE**: Addtional notebooks have been added to run with the lastest version of Ray and Ray Serve. They will not match with the Summit video, which is two years old."
   ]
  },
  {
   "cell_type": "markdown",
   "metadata": {},
   "source": [
    "|     | Lesson | Description |\n",
    "| :-- | :----- | :---------- |\n",
    "| 00  | [Ray Serve Overview](00_Ray-Serve-Overview.ipynb) | Overview of this tutorial. |\n",
    "| 01  | [Model Serving Challenges](01-Model-Serving-Challenges.ipynb) | An explanation of common challenges moving models from research to production, and how Ray Serve addresses those challenges. |\n",
    "| 02  | [Creating, Deploying, and Accessing Deployments](02-Ray-Serve-Create-and-Access-Deployments.ipynb) | An example of creating, deploying and accessing deployments with Ray Serve. |\n",
    "| 03  | [Ray Serve Example ](03-Ray-Serve-Example.ipynb) | A Ray Serve example classification. |\n",
    "| 04  | [Model Composition]( 04-Mode-Composition.ipynb) | Pipeline and model composition with Ray Serve. |\n",
    "| 05  | [Sentiment Analysis with Ray Serve ](05-Ray-Serve-SentimentAnalysis.ipynb) | A sentiment analysis example with `VaderSentiment` Library. |\n",
    "| 06  | [Ray Serve and MLflow Integration ](06-Ray-Serve-and-MLflow.ipynb) | A simple model trained, logged to MLflow, served in a Ray Serve deployment. |\n",
    "| 07  | [Ray Serve and FastAPI Integration ](07-Ray-Serve-and-FastAPI.ipynb) | A simple XGBoost model trained, deployed, and accesses via FastAPI endpoints |\n",
    "| 08  | [Python Script: Ray Serve and FastAPI Integration](xgboost_fastapi.py) | A Python script: simple XGBoost model trained, deployed, and accesses via FastAPI endpoints |\n",
    "| 09  | [Python script: Ray Serve and FastAPI Integration](send_request.py) | A Python script: A CLI simple POST requests to FastAPI endpoints |"
   ]
  },
  {
   "cell_type": "markdown",
   "metadata": {},
   "source": [
    "## Getting Help\n",
    "\n",
    "* The [#tutorial channel](https://ray-distributed.slack.com/archives/C011ML23W5B) on the [Ray Slack](https://ray-distributed.slack.com). [Click here](https://forms.gle/9TSdDYUgxYs8SA9e8) to join.\n",
    "* [Email](mailto:academy@anyscale.com)\n",
    "\n",
    "Find an issue? Please report it!\n",
    "\n",
    "* [GitHub issues](https://github.com/anyscale/academy/issues)"
   ]
  },
  {
   "cell_type": "markdown",
   "metadata": {},
   "source": [
    "## Give Us Feedback!\n",
    "\n",
    "Let us know what you like and don't like about this Model Serving with Ray Serve tutorial.\n",
    "\n",
    "* [Survey](https://forms.gle/7nko5QMdLzt6TmCb9)"
   ]
  }
 ],
 "metadata": {
  "kernelspec": {
   "display_name": "Python 3 (ipykernel)",
   "language": "python",
   "name": "python3"
  },
  "language_info": {
   "codemirror_mode": {
    "name": "ipython",
    "version": 3
   },
   "file_extension": ".py",
   "mimetype": "text/x-python",
   "name": "python",
   "nbconvert_exporter": "python",
   "pygments_lexer": "ipython3",
   "version": "3.8.10"
  }
 },
 "nbformat": 4,
 "nbformat_minor": 4
}
