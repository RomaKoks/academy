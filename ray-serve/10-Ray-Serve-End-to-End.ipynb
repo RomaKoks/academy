{
 "cells": [
  {
   "cell_type": "markdown",
   "id": "9c0e73d7-e9ab-4bae-88d7-58ece7ae3563",
   "metadata": {},
   "source": [
    "# Ray Tune - An end-to-end example of using XGBoost with Ray Tune and Ray Serve\n"
   ]
  },
  {
   "cell_type": "markdown",
   "id": "baf75060-cb6e-4baf-b389-4595800ac0c8",
   "metadata": {
    "tags": []
   },
   "source": [
    "<img src=\"https://raw.githubusercontent.com/dmlc/dmlc.github.io/master/img/logo-m/xgboost.png\" width=\"40%\" height=\"20%\" aligh=\"center\">\n",
    "\n",
    "XGBoost is currently one of the most popular machine learning algorithms for regression and classification. It performs very well on a large selection of tasks, and is the key to success in many Kaggle competitions.\n",
    "\n",
    "Derived maily from [documentaton](https://docs.ray.io/en/latest/tune/tutorials/tune-xgboost.html), this tutorial will give you a quick introduction to XGBoost, show you how to train an XGBoost model, and then guide you on how to optimize XGBoost parameters using Ray Tune to get the best performance. In particular, we will cover the following:\n",
    "\n",
    " * What is XGBoost\n",
    " * Training a simple XGBoost classifier\n",
    " * XGBoost Hyperparameters\n",
    " * Tuning the configuration parameters\n",
    " * Early stopping\n",
    " * Conclusion\n",
    " * Further References"
   ]
  },
  {
   "cell_type": "markdown",
   "id": "6b1e9230-25bd-4ae2-aa80-412e03264a59",
   "metadata": {},
   "source": [
    "### What is XGBoost\n",
    "XGBoost is an acronym for eXtreme Gradient Boosting. Internally, XGBoost uses decision trees. Instead of training just one large decision tree, XGBoost and other related algorithms train many small decision trees. The intuition behind this is that even though single decision trees can be inaccurate and suffer from high variance, combining the output of a large number of these weak learners can actually lead to strong learner, resulting in better predictions and less variance.\n",
    "\n",
    "<img src=\"https://docs.ray.io/en/latest/_images/tune-xgboost-ensemble.svg\" width=\"70%\" height=\"50%\"> \n",
    "\n",
    "A single decision tree (left) might be able to get to an accuracy of 70% for a binary classification task. By combining the output of several small decision trees, an ensemble learner (right) might end up with a higher accuracy of 90%.¶\n",
    "\n",
    "Boosting algorithms start with a single small decision tree and evaluate how well it predicts the given examples. When building the next tree, those samples that have been misclassified before have a higher chance of being used to generate the tree. This is useful because it avoids overfitting to samples that can be easily classified and instead tries to come up with models that are able to classify hard examples, too. Please [see here](https://towardsdatascience.com/ensemble-methods-bagging-boosting-and-stacking-c9214a10a205) for a more thorough introduction to bagging and boosting algorithms.\n",
    "\n",
    "There are many boosting algorithms. In their core, they are all very similar. XGBoost uses second-level derivatives to find splits that maximize the **gain** (the inverse of the **loss**) - hence the name. In practice, there really is no drawback in using XGBoost over other boosting algorithms - in fact, it usually shows the best performance."
   ]
  },
  {
   "cell_type": "markdown",
   "id": "7fee9882-088c-4b8a-bad7-2935a54cb4ee",
   "metadata": {},
   "source": [
    "### Training a simple XGBoost classifier\n",
    "\n",
    "Let’s first see how a simple XGBoost classifier can be trained. We’ll use the `breast_cancer` dataset included in the sklearn dataset collection. This is a `binary classification` dataset. Given 30 different input features, our task is to learn to identify subjects with breast cancer and those without."
   ]
  },
  {
   "cell_type": "code",
   "execution_count": 1,
   "id": "04bfa35f-d4cc-4741-a9ee-173111b2554c",
   "metadata": {},
   "outputs": [
    {
     "name": "stdout",
     "output_type": "stream",
     "text": [
      "Requirement already satisfied: xgboost in /usr/local/anaconda3/envs/ray-core/lib/python3.8/site-packages (1.5.2)\n",
      "Requirement already satisfied: ray[serve,tune] in /usr/local/anaconda3/envs/ray-core/lib/python3.8/site-packages (1.11.0)\n",
      "Requirement already satisfied: numpy in /usr/local/anaconda3/envs/ray-core/lib/python3.8/site-packages (from xgboost) (1.22.0)\n",
      "Requirement already satisfied: scipy in /usr/local/anaconda3/envs/ray-core/lib/python3.8/site-packages (from xgboost) (1.7.3)\n",
      "Requirement already satisfied: redis>=3.5.0 in /usr/local/anaconda3/envs/ray-core/lib/python3.8/site-packages (from ray[serve,tune]) (4.1.0)\n",
      "Requirement already satisfied: grpcio<=1.43.0,>=1.28.1 in /usr/local/anaconda3/envs/ray-core/lib/python3.8/site-packages (from ray[serve,tune]) (1.43.0)\n",
      "Requirement already satisfied: filelock in /usr/local/anaconda3/envs/ray-core/lib/python3.8/site-packages (from ray[serve,tune]) (3.4.2)\n",
      "Requirement already satisfied: click>=7.0 in /usr/local/anaconda3/envs/ray-core/lib/python3.8/site-packages (from ray[serve,tune]) (8.0.3)\n",
      "Requirement already satisfied: pyyaml in /usr/local/anaconda3/envs/ray-core/lib/python3.8/site-packages (from ray[serve,tune]) (6.0)\n",
      "Requirement already satisfied: protobuf>=3.15.3 in /usr/local/anaconda3/envs/ray-core/lib/python3.8/site-packages (from ray[serve,tune]) (3.19.1)\n",
      "Requirement already satisfied: attrs in /usr/local/anaconda3/envs/ray-core/lib/python3.8/site-packages (from ray[serve,tune]) (21.4.0)\n",
      "Requirement already satisfied: jsonschema in /usr/local/anaconda3/envs/ray-core/lib/python3.8/site-packages (from ray[serve,tune]) (4.3.3)\n",
      "Requirement already satisfied: msgpack<2.0.0,>=1.0.0 in /usr/local/anaconda3/envs/ray-core/lib/python3.8/site-packages (from ray[serve,tune]) (1.0.3)\n",
      "Requirement already satisfied: frozenlist in /usr/local/anaconda3/envs/ray-core/lib/python3.8/site-packages (from ray[serve,tune]) (1.2.0)\n",
      "Requirement already satisfied: py-spy>=0.2.0 in /usr/local/anaconda3/envs/ray-core/lib/python3.8/site-packages (from ray[serve,tune]) (0.3.11)\n",
      "Requirement already satisfied: uvicorn==0.16.0 in /usr/local/anaconda3/envs/ray-core/lib/python3.8/site-packages (from ray[serve,tune]) (0.16.0)\n",
      "Requirement already satisfied: aiosignal in /usr/local/anaconda3/envs/ray-core/lib/python3.8/site-packages (from ray[serve,tune]) (1.2.0)\n",
      "Requirement already satisfied: prometheus-client>=0.7.1 in /usr/local/anaconda3/envs/ray-core/lib/python3.8/site-packages (from ray[serve,tune]) (0.12.0)\n",
      "Requirement already satisfied: gpustat>=1.0.0b1 in /usr/local/anaconda3/envs/ray-core/lib/python3.8/site-packages (from ray[serve,tune]) (1.0.0b1)\n",
      "Requirement already satisfied: aiohttp-cors in /usr/local/anaconda3/envs/ray-core/lib/python3.8/site-packages (from ray[serve,tune]) (0.7.0)\n",
      "Requirement already satisfied: starlette in /usr/local/anaconda3/envs/ray-core/lib/python3.8/site-packages (from ray[serve,tune]) (0.17.1)\n",
      "Requirement already satisfied: aioredis<2 in /usr/local/anaconda3/envs/ray-core/lib/python3.8/site-packages (from ray[serve,tune]) (1.3.1)\n",
      "Requirement already satisfied: opencensus in /usr/local/anaconda3/envs/ray-core/lib/python3.8/site-packages (from ray[serve,tune]) (0.8.0)\n",
      "Requirement already satisfied: aiohttp>=3.7 in /usr/local/anaconda3/envs/ray-core/lib/python3.8/site-packages (from ray[serve,tune]) (3.7.4.post0)\n",
      "Requirement already satisfied: aiorwlock in /usr/local/anaconda3/envs/ray-core/lib/python3.8/site-packages (from ray[serve,tune]) (1.3.0)\n",
      "Requirement already satisfied: requests in /usr/local/anaconda3/envs/ray-core/lib/python3.8/site-packages (from ray[serve,tune]) (2.27.1)\n",
      "Requirement already satisfied: fastapi in /usr/local/anaconda3/envs/ray-core/lib/python3.8/site-packages (from ray[serve,tune]) (0.75.0)\n",
      "Requirement already satisfied: colorful in /usr/local/anaconda3/envs/ray-core/lib/python3.8/site-packages (from ray[serve,tune]) (0.5.4)\n",
      "Requirement already satisfied: smart-open in /usr/local/anaconda3/envs/ray-core/lib/python3.8/site-packages (from ray[serve,tune]) (5.2.1)\n",
      "Requirement already satisfied: pandas in /usr/local/anaconda3/envs/ray-core/lib/python3.8/site-packages (from ray[serve,tune]) (1.3.5)\n",
      "Requirement already satisfied: tabulate in /usr/local/anaconda3/envs/ray-core/lib/python3.8/site-packages (from ray[serve,tune]) (0.8.9)\n",
      "Requirement already satisfied: tensorboardX>=1.9 in /usr/local/anaconda3/envs/ray-core/lib/python3.8/site-packages (from ray[serve,tune]) (2.4.1)\n",
      "Requirement already satisfied: asgiref>=3.4.0 in /usr/local/anaconda3/envs/ray-core/lib/python3.8/site-packages (from uvicorn==0.16.0->ray[serve,tune]) (3.4.1)\n",
      "Requirement already satisfied: h11>=0.8 in /usr/local/anaconda3/envs/ray-core/lib/python3.8/site-packages (from uvicorn==0.16.0->ray[serve,tune]) (0.12.0)\n",
      "Requirement already satisfied: typing-extensions>=3.6.5 in /usr/local/anaconda3/envs/ray-core/lib/python3.8/site-packages (from aiohttp>=3.7->ray[serve,tune]) (4.0.1)\n",
      "Requirement already satisfied: multidict<7.0,>=4.5 in /usr/local/anaconda3/envs/ray-core/lib/python3.8/site-packages (from aiohttp>=3.7->ray[serve,tune]) (5.2.0)\n",
      "Requirement already satisfied: async-timeout<4.0,>=3.0 in /usr/local/anaconda3/envs/ray-core/lib/python3.8/site-packages (from aiohttp>=3.7->ray[serve,tune]) (3.0.1)\n",
      "Requirement already satisfied: yarl<2.0,>=1.0 in /usr/local/anaconda3/envs/ray-core/lib/python3.8/site-packages (from aiohttp>=3.7->ray[serve,tune]) (1.7.2)\n",
      "Requirement already satisfied: chardet<5.0,>=2.0 in /usr/local/anaconda3/envs/ray-core/lib/python3.8/site-packages (from aiohttp>=3.7->ray[serve,tune]) (4.0.0)\n",
      "Requirement already satisfied: hiredis in /usr/local/anaconda3/envs/ray-core/lib/python3.8/site-packages (from aioredis<2->ray[serve,tune]) (2.0.0)\n",
      "Requirement already satisfied: six>=1.7 in /usr/local/anaconda3/envs/ray-core/lib/python3.8/site-packages (from gpustat>=1.0.0b1->ray[serve,tune]) (1.16.0)\n",
      "Requirement already satisfied: blessed>=1.17.1 in /usr/local/anaconda3/envs/ray-core/lib/python3.8/site-packages (from gpustat>=1.0.0b1->ray[serve,tune]) (1.19.0)\n",
      "Requirement already satisfied: nvidia-ml-py3>=7.352.0 in /usr/local/anaconda3/envs/ray-core/lib/python3.8/site-packages (from gpustat>=1.0.0b1->ray[serve,tune]) (7.352.0)\n",
      "Requirement already satisfied: psutil in /usr/local/anaconda3/envs/ray-core/lib/python3.8/site-packages (from gpustat>=1.0.0b1->ray[serve,tune]) (5.9.0)\n",
      "Requirement already satisfied: wcwidth>=0.1.4 in /usr/local/anaconda3/envs/ray-core/lib/python3.8/site-packages (from blessed>=1.17.1->gpustat>=1.0.0b1->ray[serve,tune]) (0.2.5)\n",
      "Requirement already satisfied: deprecated>=1.2.3 in /usr/local/anaconda3/envs/ray-core/lib/python3.8/site-packages (from redis>=3.5.0->ray[serve,tune]) (1.2.13)\n",
      "Requirement already satisfied: packaging>=21.3 in /usr/local/anaconda3/envs/ray-core/lib/python3.8/site-packages (from redis>=3.5.0->ray[serve,tune]) (21.3)\n",
      "Requirement already satisfied: wrapt<2,>=1.10 in /usr/local/anaconda3/envs/ray-core/lib/python3.8/site-packages (from deprecated>=1.2.3->redis>=3.5.0->ray[serve,tune]) (1.13.3)\n",
      "Requirement already satisfied: pyparsing!=3.0.5,>=2.0.2 in /usr/local/anaconda3/envs/ray-core/lib/python3.8/site-packages (from packaging>=21.3->redis>=3.5.0->ray[serve,tune]) (3.0.6)\n",
      "Requirement already satisfied: idna>=2.0 in /usr/local/anaconda3/envs/ray-core/lib/python3.8/site-packages (from yarl<2.0,>=1.0->aiohttp>=3.7->ray[serve,tune]) (3.3)\n",
      "Requirement already satisfied: pydantic!=1.7,!=1.7.1,!=1.7.2,!=1.7.3,!=1.8,!=1.8.1,<2.0.0,>=1.6.2 in /usr/local/anaconda3/envs/ray-core/lib/python3.8/site-packages (from fastapi->ray[serve,tune]) (1.9.0)\n",
      "Requirement already satisfied: anyio<4,>=3.0.0 in /usr/local/anaconda3/envs/ray-core/lib/python3.8/site-packages (from starlette->ray[serve,tune]) (3.4.0)\n",
      "Requirement already satisfied: sniffio>=1.1 in /usr/local/anaconda3/envs/ray-core/lib/python3.8/site-packages (from anyio<4,>=3.0.0->starlette->ray[serve,tune]) (1.2.0)\n",
      "Requirement already satisfied: pyrsistent!=0.17.0,!=0.17.1,!=0.17.2,>=0.14.0 in /usr/local/anaconda3/envs/ray-core/lib/python3.8/site-packages (from jsonschema->ray[serve,tune]) (0.18.0)\n",
      "Requirement already satisfied: importlib-resources>=1.4.0 in /usr/local/anaconda3/envs/ray-core/lib/python3.8/site-packages (from jsonschema->ray[serve,tune]) (5.4.0)\n",
      "Requirement already satisfied: zipp>=3.1.0 in /usr/local/anaconda3/envs/ray-core/lib/python3.8/site-packages (from importlib-resources>=1.4.0->jsonschema->ray[serve,tune]) (3.7.0)\n",
      "Requirement already satisfied: google-api-core<3.0.0,>=1.0.0 in /usr/local/anaconda3/envs/ray-core/lib/python3.8/site-packages (from opencensus->ray[serve,tune]) (2.3.2)\n",
      "Requirement already satisfied: opencensus-context==0.1.2 in /usr/local/anaconda3/envs/ray-core/lib/python3.8/site-packages (from opencensus->ray[serve,tune]) (0.1.2)\n",
      "Requirement already satisfied: google-auth<3.0dev,>=1.25.0 in /usr/local/anaconda3/envs/ray-core/lib/python3.8/site-packages (from google-api-core<3.0.0,>=1.0.0->opencensus->ray[serve,tune]) (2.3.3)\n",
      "Requirement already satisfied: googleapis-common-protos<2.0dev,>=1.52.0 in /usr/local/anaconda3/envs/ray-core/lib/python3.8/site-packages (from google-api-core<3.0.0,>=1.0.0->opencensus->ray[serve,tune]) (1.54.0)\n",
      "Requirement already satisfied: setuptools>=40.3.0 in /usr/local/anaconda3/envs/ray-core/lib/python3.8/site-packages (from google-api-core<3.0.0,>=1.0.0->opencensus->ray[serve,tune]) (58.0.4)\n",
      "Requirement already satisfied: pyasn1-modules>=0.2.1 in /usr/local/anaconda3/envs/ray-core/lib/python3.8/site-packages (from google-auth<3.0dev,>=1.25.0->google-api-core<3.0.0,>=1.0.0->opencensus->ray[serve,tune]) (0.2.8)\n",
      "Requirement already satisfied: cachetools<5.0,>=2.0.0 in /usr/local/anaconda3/envs/ray-core/lib/python3.8/site-packages (from google-auth<3.0dev,>=1.25.0->google-api-core<3.0.0,>=1.0.0->opencensus->ray[serve,tune]) (4.2.4)\n",
      "Requirement already satisfied: rsa<5,>=3.1.4 in /usr/local/anaconda3/envs/ray-core/lib/python3.8/site-packages (from google-auth<3.0dev,>=1.25.0->google-api-core<3.0.0,>=1.0.0->opencensus->ray[serve,tune]) (4.8)\n",
      "Requirement already satisfied: pyasn1<0.5.0,>=0.4.6 in /usr/local/anaconda3/envs/ray-core/lib/python3.8/site-packages (from pyasn1-modules>=0.2.1->google-auth<3.0dev,>=1.25.0->google-api-core<3.0.0,>=1.0.0->opencensus->ray[serve,tune]) (0.4.8)\n",
      "Requirement already satisfied: charset-normalizer~=2.0.0 in /usr/local/anaconda3/envs/ray-core/lib/python3.8/site-packages (from requests->ray[serve,tune]) (2.0.10)\n",
      "Requirement already satisfied: certifi>=2017.4.17 in /usr/local/anaconda3/envs/ray-core/lib/python3.8/site-packages (from requests->ray[serve,tune]) (2021.10.8)\n",
      "Requirement already satisfied: urllib3<1.27,>=1.21.1 in /usr/local/anaconda3/envs/ray-core/lib/python3.8/site-packages (from requests->ray[serve,tune]) (1.26.8)\n",
      "Requirement already satisfied: python-dateutil>=2.7.3 in /usr/local/anaconda3/envs/ray-core/lib/python3.8/site-packages (from pandas->ray[serve,tune]) (2.8.2)\n",
      "Requirement already satisfied: pytz>=2017.3 in /usr/local/anaconda3/envs/ray-core/lib/python3.8/site-packages (from pandas->ray[serve,tune]) (2021.3)\n"
     ]
    }
   ],
   "source": [
    "!pip install -U xgboost \"ray[tune, serve]\""
   ]
  },
  {
   "cell_type": "code",
   "execution_count": 20,
   "id": "fb2a938b-92b9-458d-99be-d0cd9841fdb5",
   "metadata": {},
   "outputs": [],
   "source": [
    "import os\n",
    "os.environ['KMP_DUPLICATE_LIB_OK']='True'\n",
    "PIMA_INDIAN_DATA_FILE=os.path.join(os.getcwd(), \"pima-indians-diabetes.data.csv\")"
   ]
  },
  {
   "cell_type": "code",
   "execution_count": 21,
   "id": "8548e8e0-8f3f-421d-b196-0231f4cda2ff",
   "metadata": {},
   "outputs": [],
   "source": [
    "import sklearn.metrics\n",
    "from sklearn.model_selection import train_test_split\n",
    "import xgboost as xgb\n",
    "import numpy as np\n",
    "from numpy import loadtxt"
   ]
  },
  {
   "cell_type": "markdown",
   "id": "d6ef767f-579e-4921-98f1-222cc050c25a",
   "metadata": {},
   "source": [
    "### Load the data"
   ]
  },
  {
   "cell_type": "code",
   "execution_count": 22,
   "id": "a4603825-af7d-4aa5-a15d-6eadf25931cb",
   "metadata": {},
   "outputs": [],
   "source": [
    "# Utility functino to load the data\n",
    "def get_pima_data():\n",
    "    dataset = loadtxt(PIMA_INDIAN_DATA_FILE, delimiter=\",\")\n",
    "    # split data into X and y\n",
    "    X = dataset[:, 0:8]\n",
    "    y = dataset[:, 8]\n",
    "    # Split into train and test set\n",
    "    X_train, X_test, y_train, y_test = train_test_split(X, y, test_size=0.33, random_state=7)\n",
    "    \n",
    "    return X_train, X_test, y_train, y_test"
   ]
  },
  {
   "cell_type": "markdown",
   "id": "83ae2490-ca85-4fb4-b69f-8273e799bad1",
   "metadata": {},
   "source": [
    "Let's define our standard or regular XGBoost trainer (function). It takes in XGBoost configuration parameters."
   ]
  },
  {
   "cell_type": "code",
   "execution_count": 23,
   "id": "7235317f-8db8-492f-8ed3-65c8b96faf89",
   "metadata": {},
   "outputs": [],
   "source": [
    "def train_pima_model(config):\n",
    "    # Load dataset\n",
    "\n",
    "    train_x, test_x, train_y, test_y = get_pima_data()\n",
    "    \n",
    "    # Build input DMatrices for XGBoost\n",
    "    train_set = xgb.DMatrix(train_x, label=train_y)\n",
    "    test_set  = xgb.DMatrix(test_x, label=test_y)\n",
    "    \n",
    "    # Train the classifier\n",
    "    results = {}\n",
    "    bst = xgb.train(\n",
    "        config,\n",
    "        train_set,\n",
    "        evals=[(test_set, \"eval\")],\n",
    "        evals_result=results,\n",
    "        verbose_eval=True)\n",
    "    return results"
   ]
  },
  {
   "cell_type": "markdown",
   "id": "b0b6be96-a6fc-46a3-b728-31deedbfc3ce",
   "metadata": {},
   "source": [
    "Define our basic minimal and default configurations for XGBoost"
   ]
  },
  {
   "cell_type": "code",
   "execution_count": 24,
   "id": "d76b6b17-39d5-43dc-8b22-f712ebe81936",
   "metadata": {},
   "outputs": [],
   "source": [
    "configs = {\n",
    "    \"objective\": \"binary:logistic\",\n",
    "    \"eval_metric\": [\"logloss\", \"error\"]\n",
    "}"
   ]
  },
  {
   "cell_type": "markdown",
   "id": "d5f8b8b0-891a-477f-a82b-dcb5aa1aa9a3",
   "metadata": {},
   "source": [
    "### Train the basic model"
   ]
  },
  {
   "cell_type": "code",
   "execution_count": 25,
   "id": "57313cb5-ce21-4ebd-b58d-712b3a2967f2",
   "metadata": {},
   "outputs": [
    {
     "name": "stdout",
     "output_type": "stream",
     "text": [
      "[0]\teval-logloss:0.60491\teval-error:0.28347\n",
      "[1]\teval-logloss:0.55934\teval-error:0.25984\n",
      "[2]\teval-logloss:0.53068\teval-error:0.25591\n",
      "[3]\teval-logloss:0.51795\teval-error:0.24803\n",
      "[4]\teval-logloss:0.51153\teval-error:0.24409\n",
      "[5]\teval-logloss:0.50935\teval-error:0.24803\n",
      "[6]\teval-logloss:0.50818\teval-error:0.25591\n",
      "[7]\teval-logloss:0.51097\teval-error:0.24803\n",
      "[8]\teval-logloss:0.51760\teval-error:0.25591\n",
      "[9]\teval-logloss:0.51912\teval-error:0.24409\n",
      "Accuracy: 0.7559\n"
     ]
    }
   ],
   "source": [
    "results = train_pima_model(config=configs)\n",
    "accuracy = 1. - results[\"eval\"][\"error\"][-1]\n",
    "print(f\"Accuracy: {accuracy:.4f}\")"
   ]
  },
  {
   "cell_type": "markdown",
   "id": "fee4289e-bb0b-48e7-8333-7f58c72033b9",
   "metadata": {},
   "source": [
    "As you can see, the code is quite simple. First, the dataset is loaded and split into a test and train set. The XGBoost model is trained with `xgb.train()`. XGBoost automatically evaluates metrics we specified on the test set. In our case it calculates the `logloss` and the prediction error, which is the percentage of misclassified examples. To calculate the accuracy, we just have to subtract the error from 1.0. Even in this simple example, most runs result in a good accuracy of over 0.90.\n",
    "\n",
    "What if you want further accuracy, or want to use XGBoost's additional parameters?"
   ]
  },
  {
   "cell_type": "markdown",
   "id": "12e4c90c-d5b1-4c6b-b7c4-bc62de1b887c",
   "metadata": {},
   "source": [
    "### XGBoost Hyperparameters\n",
    "\n",
    "Even with the default settings, XGBoost was able to get to a good accuracy on the breast cancer dataset. However, as in many machine learning algorithms, there are many knobs to tune which might lead to even better performance. Let’s explore some of them below.\n",
    "\n",
    "#### Maximum tree depth\n",
    "Remember that XGBoost internally uses many decision tree models to come up with predictions. When training a decision tree, we need to tell the algorithm how large the tree may get. The parameter for this is called the tree depth.\n",
    "\n",
    "<img src=\"https://docs.ray.io/en/latest/_images/tune-xgboost-depth.svg\" width=\"30%\" height=\"10%\">\n",
    "\n",
    "In this image, the left tree has a depth of 2, and the right tree a depth of 3. Note that with each level, 2(𝑑−1) splits are added, where d is the depth of the tree.¶\n",
    "\n",
    "Tree depth is a property that concerns the model complexity. If you only allow short trees, the models are likely not very precise - they underfit the data. If you allow very large trees, the single models are likely to overfit to the data. In practice, a number between 2 and 6 is often a good starting point for this parameter.\n",
    "\n",
    "XGBoost’s default value is 3.\n",
    "\n",
    "#### Minimum child weight\n",
    "When a decision tree creates new leaves, it splits up the remaining data at one node into two groups. If there are only few samples in one of these groups, it often doesn’t make sense to split it further. One of the reasons for this is that the model is harder to train when we have fewer samples.\n",
    "\n",
    "<img src=\"https://docs.ray.io/en/latest/_images/tune-xgboost-weight.svg\" width=\"20%\" height=\"10%\">\n",
    "\n",
    "In this example, we start with 100 examples. At the first node, they are split into 4 and 96 samples, respectively. In the next step, our model might find that it doesn’t make sense to split the 4 examples more. It thus only continues to add leaves on the right side.\n",
    "\n",
    "The parameter used by the model to decide if it makes sense to split a node is called the minimum child weight. In the case of linear regression, this is just the absolute number of nodes requried in each child. In other objectives, this value is determined using the weights of the examples, hence the name.\n",
    "\n",
    "The larger the value, the more constrained the trees are and the less deep they will be. This parameter thus also affects the model complexity. Values can range between 0 and infinity and are dependent on the sample size. For our ca. 500 examples in the breast cancer dataset, values between 0 and 10 should be sensible.\n",
    "\n",
    "XGBoost’s default value is 1.\n",
    "\n",
    "#### Subsample size\n",
    "Each decision tree we add is trained on a subsample of the total training dataset. The probabilities for the samples are weighted according to the XGBoost algorithm, but we can decide on which fraction of the samples we want to train each decision tree on.\n",
    "\n",
    "Setting this value to 0.7 would mean that we randomly sample 70% of the training dataset before each training iteration.\n",
    "\n",
    "XGBoost’s default value is 1.\n",
    "\n",
    "#### Learning rate / Eta\n",
    "Remember that XGBoost sequentially trains many decision trees, and that later trees are more likely trained on data that has been misclassified by prior trees. In effect this means that earlier trees make decisions for easy samples (i.e. those samples that can easily be classified) and later trees make decisions for harder samples. It is then sensible to assume that the later trees are less accurate than earlier trees.\n",
    "\n",
    "To address this fact, XGBoost uses a parameter called Eta, which is sometimes called the learning rate. Don’t confuse this with learning rates from gradient descent!\n",
    "\n",
    "Typical values for this parameter are between `0.01 and 0.3`.\n",
    "\n",
    "XGBoost’s default value is 0.3.\n",
    "\n",
    "#### Number of boost rounds\n",
    "Lastly, we can decide on how many boosting rounds we perform, which means how many decision trees we ultimately train. When we do heavy subsampling or use small learning rate, it might make sense to increase the number of boosting rounds.\n",
    "\n",
    "XGBoost’s default value is 10."
   ]
  },
  {
   "cell_type": "markdown",
   "id": "27c3c84c-61fb-44e9-92ab-e91b1dfdf83f",
   "metadata": {},
   "source": [
    "### Putting it together\n",
    "\n",
    "Let’s see how this looks like in code! We just need to adjust our config dict."
   ]
  },
  {
   "cell_type": "code",
   "execution_count": 26,
   "id": "694282d0-073e-4cd3-aa74-fed64af7ad65",
   "metadata": {},
   "outputs": [],
   "source": [
    "config = {\n",
    "    \"objective\": \"binary:logistic\",\n",
    "    \"eval_metric\": [\"logloss\", \"error\"],\n",
    "    \"max_depth\": 2,\n",
    "    \"min_child_weight\": 0,\n",
    "    \"subsample\": 0.8,\n",
    "    \"eta\": 0.2\n",
    "}"
   ]
  },
  {
   "cell_type": "code",
   "execution_count": 27,
   "id": "96268d86-57e4-4982-8c76-bb7c5775dc08",
   "metadata": {},
   "outputs": [
    {
     "name": "stdout",
     "output_type": "stream",
     "text": [
      "[0]\teval-logloss:0.64008\teval-error:0.24803\n",
      "[1]\teval-logloss:0.60108\teval-error:0.23622\n",
      "[2]\teval-logloss:0.57741\teval-error:0.23622\n",
      "[3]\teval-logloss:0.55778\teval-error:0.24803\n",
      "[4]\teval-logloss:0.54114\teval-error:0.25984\n",
      "[5]\teval-logloss:0.52809\teval-error:0.26772\n",
      "[6]\teval-logloss:0.52078\teval-error:0.26378\n",
      "[7]\teval-logloss:0.51649\teval-error:0.25984\n",
      "[8]\teval-logloss:0.51054\teval-error:0.25197\n",
      "[9]\teval-logloss:0.50366\teval-error:0.24409\n",
      "Accuracy: 0.7559\n"
     ]
    }
   ],
   "source": [
    "results = train_pima_model(config)\n",
    "accuracy = 1. - results[\"eval\"][\"error\"][-1]\n",
    "print(f\"Accuracy: {accuracy:.4f}\")"
   ]
  },
  {
   "cell_type": "markdown",
   "id": "6cbc36b1-0310-488d-9bd6-b24a376b33e5",
   "metadata": {},
   "source": [
    "**Note**: The accuracy is slightly lower than the default parameters used above because we randomly chose the parameters.\n",
    "\n",
    "What if we want to get the best combination of all the parameters? This is where tuning hyperparameters helps."
   ]
  },
  {
   "cell_type": "markdown",
   "id": "1f8628b2-ef18-4cde-b22f-5ada73119e63",
   "metadata": {},
   "source": [
    "### Tuning the configuration parameters\n",
    "XGBoosts default parameters already lead to a good accuracy, and even our guesses in the last section should result in accuracies well above 90%. However, our guesses were just that: guesses. Often we do not know what combination of parameters would actually lead to the best results on a machine learning task.\n",
    "\n",
    "Unfortunately, there are infinitely many combinations of hyperparameters we could try out. Should we combine `max_depth=3` with `subsample=0.8` or with `subsample=0.9?` What about the other parameters?\n",
    "\n",
    "This is where hyperparameter tuning comes into play. By using tuning libraries such as Ray Tune, we can try out combinations of hyperparameters. Using sophisticated search strategies, these parameters can be selected so that they are likely to lead to good results (avoiding an expensive exhaustive search). Also, trials that do not perform well can be preemptively stopped to reduce waste of computing resources. \n",
    "\n",
    "Lastly, Ray Tune also takes care of training these runs in parallel, greatly increasing search speed.\n",
    "\n",
    "Let’s start with a basic example on how to use Tune for this. We just need to make a few changes to our code-block:"
   ]
  },
  {
   "cell_type": "code",
   "execution_count": 28,
   "id": "4b81e6ab-0a42-4758-9903-68397c133f0f",
   "metadata": {},
   "outputs": [],
   "source": [
    "from ray import tune"
   ]
  },
  {
   "cell_type": "markdown",
   "id": "7c823223-d24d-452a-aab2-fe05160eb16c",
   "metadata": {},
   "source": [
    "Add tune report to our XGBoost training function"
   ]
  },
  {
   "cell_type": "code",
   "execution_count": 29,
   "id": "a8b3ea33-e18d-49af-be08-ba9422246d63",
   "metadata": {},
   "outputs": [],
   "source": [
    "def train_pima_tuned_model(config, checkpoint_dir=None):\n",
    "    \n",
    "    # Load dataset \n",
    "    train_x, test_x, train_y, test_y = get_pima_data()\n",
    "    \n",
    "    # Build input DMatrices for XGBoost\n",
    "    train_set = xgb.DMatrix(train_x, label=train_y)\n",
    "    test_set  = xgb.DMatrix(test_x, label=test_y)\n",
    "        \n",
    "    # Train the classifier\n",
    "    results = {}\n",
    "    xgb.train(\n",
    "         config,\n",
    "         train_set,\n",
    "         evals=[(test_set, \"eval\")],\n",
    "         evals_result=results,\n",
    "         verbose_eval=False)\n",
    "    \n",
    "    # Return prediction accuracy\n",
    "    accuracy = 1. - results[\"eval\"][\"error\"][-1]\n",
    "    tune.report(mean_accuracy=accuracy, done=True)"
   ]
  },
  {
   "cell_type": "markdown",
   "id": "9e3d0596-c1d7-46fd-9ee3-e2c7e65d3507",
   "metadata": {},
   "source": [
    "### Define our Hyperparameter Search Space"
   ]
  },
  {
   "cell_type": "code",
   "execution_count": 30,
   "id": "593d513d-4f74-44f0-b4ce-e78c8293854c",
   "metadata": {},
   "outputs": [],
   "source": [
    "config = {\n",
    "    \"objective\": \"binary:logistic\",\n",
    "    \"eval_metric\": [\"logloss\", \"error\"],\n",
    "    \"max_depth\": tune.randint(1, 9),\n",
    "    \"min_child_weight\": tune.choice([1, 2, 3]),\n",
    "    \"subsample\": tune.uniform(0.5, 1.0),\n",
    "    \"eta\": tune.loguniform(1e-4, 1e-1)\n",
    "}"
   ]
  },
  {
   "cell_type": "markdown",
   "id": "12c00cb8-13f1-403d-8660-8360d7c1fdb2",
   "metadata": {},
   "source": [
    "### Use Ray Tune parallelize our Hyperparameters tuning\n",
    "\n",
    "This is automatically launch a Ray cluster on your laptop and schedule tasks. The `num_samples=10` option we pass to tune.run() means that we sample 10 different hyperparameter configurations from this search space, run across 10 CPUs"
   ]
  },
  {
   "cell_type": "code",
   "execution_count": 31,
   "id": "11811f30-a360-48a2-8757-06a7c22c314e",
   "metadata": {},
   "outputs": [
    {
     "data": {
      "text/html": [
       "== Status ==<br>Current time: 2022-03-10 17:57:37 (running for 00:00:37.46)<br>Memory usage on this node: 17.4/32.0 GiB<br>Using FIFO scheduling algorithm.<br>Resources requested: 0/12 CPUs, 0/0 GPUs, 0.0/11.98 GiB heap, 0.0/2.0 GiB objects<br>Result logdir: /Users/jules/ray_results/train_pima_tuned_model_2022-03-10_17-56-59<br>Number of trials: 10/10 (10 TERMINATED)<br><br>"
      ],
      "text/plain": [
       "<IPython.core.display.HTML object>"
      ]
     },
     "metadata": {},
     "output_type": "display_data"
    },
    {
     "name": "stderr",
     "output_type": "stream",
     "text": [
      "2022-03-10 17:57:37,411\tINFO tune.py:639 -- Total run time: 37.58 seconds (37.46 seconds for the tuning loop).\n"
     ]
    }
   ],
   "source": [
    "analysis = tune.run(train_pima_tuned_model,\n",
    "         resources_per_trial={\"cpu\": 10},\n",
    "         config=config,\n",
    "         mode=\"min\",\n",
    "         verbose=1,\n",
    "         num_samples=10)"
   ]
  },
  {
   "cell_type": "code",
   "execution_count": 32,
   "id": "38c97fee-179e-4d27-baca-a3e25940a6d1",
   "metadata": {},
   "outputs": [
    {
     "name": "stdout",
     "output_type": "stream",
     "text": [
      "Best Hyperparamter config:  {'objective': 'binary:logistic', 'eval_metric': ['logloss', 'error'], 'max_depth': 2, 'min_child_weight': 3, 'subsample': 0.9139062196639666, 'eta': 0.055331776208484076}\n"
     ]
    }
   ],
   "source": [
    "print(\"Best Hyperparamter config: \", analysis.get_best_config(metric=\"mean_accuracy\", mode=\"min\"))"
   ]
  },
  {
   "cell_type": "markdown",
   "id": "ef22e9cb-efe9-42d1-955e-b4c0ca874055",
   "metadata": {},
   "source": [
    "### Early stopping\n",
    "\n",
    "Currently, in our example above, Tune samples 10 different hyperparameter configurations and trains a full XGBoost on all of them. In our small example, training is very fast. However, if training were done on a large datasetm it would\n",
    "take much longer and a significant amount of computer resources would be spent on trials that would eventually show a bad performance, e.g., a low accuracy. It would be good if we could identify these trials early and stop them, so we don’t waste any resources.\n",
    "\n",
    "This is where Tune’s Schedulers shine. A Tune `TrialScheduler` is responsible for starting and stopping trials. Tune implements a number of different schedulers, each described in the Tune documentation. For our example, we will use the `AsyncHyperBandScheduler` or `ASHAScheduler`.\n",
    "\n",
    "The basic idea of this scheduler is simple. We sample a number of hyperparameter configurations. Each of these configurations is trained for a specific number of iterations. After these iterations, only the best performing hyperparameters are retained. These are selected according to some loss metric, usually an evaluation loss. This cycle is repeated until we end up with the best configuration.\n",
    "\n",
    "The `ASHAScheduler` needs to know three things:\n",
    "\n",
    " * Which metric should be used to identify badly performing trials?\n",
    "\n",
    " * Should this metric be maximized or minimized?\n",
    "\n",
    " * How many iterations does each trial train for?\n",
    "\n",
    "There are more parameters, which are explained in the [documentation](https://docs.ray.io/en/latest/tune/api_docs/schedulers.html#tune-schedulers).\n",
    "\n",
    "Lastly, we have to report the loss metric to Tune. We do this with a Callback that XGBoost accepts and calls after each evaluation round. Ray Tune comes with [two XGBoost callbacks](https://docs.ray.io/en/latest/tune/api_docs/integration.html#tune-integration-xgboost) we can use for this. The `TuneReportCallback` just reports the evaluation metrics back to Tune. The `TuneReportCheckpointCallback` also saves checkpoints after each evaluation round. We will just use the latter in this example so that we can retrieve the saved model later.\n",
    "\n",
    "These parameters from the `eval_metrics` configuration setting are then automatically reported to Tune via the callback. Here, the raw error will be reported, not the accuracy. To display the best reached accuracy, we will inverse it later.\n",
    "\n",
    "We will also load the best checkpointed model so that we can use it for predictions. The best model is selected with respect to the `metric` and `mode` parameters we pass to `tune.run()`."
   ]
  },
  {
   "cell_type": "code",
   "execution_count": 33,
   "id": "d237dc3c-ca49-4218-b736-c750f7347eb7",
   "metadata": {},
   "outputs": [],
   "source": [
    "from ray.tune.schedulers import ASHAScheduler\n",
    "from ray.tune.integration.xgboost import TuneReportCheckpointCallback"
   ]
  },
  {
   "cell_type": "markdown",
   "id": "0965a645-4772-4d51-93cd-da74e598cdbe",
   "metadata": {},
   "source": [
    "Let's modify our training function and add our callbacks"
   ]
  },
  {
   "cell_type": "code",
   "execution_count": 34,
   "id": "608cbf39-3540-4299-801c-c102e989f305",
   "metadata": {},
   "outputs": [],
   "source": [
    "def train_pima_tuned_asha_model(config: dict):\n",
    "    # This is a simple training function to be passed into Tune\n",
    "    # Load dataset\n",
    "    \n",
    "    # Load dataset \n",
    "    train_x, test_x, train_y, test_y = get_pima_data()\n",
    "    \n",
    "    # Build input matrices for XGBoost\n",
    "    train_set = xgb.DMatrix(train_x, label=train_y)\n",
    "    test_set = xgb.DMatrix(test_x, label=test_y)\n",
    "    # Train the classifier, using the Tune callback\n",
    "    xgb.train(\n",
    "        config,\n",
    "        train_set,\n",
    "        evals=[(test_set, \"eval\")],\n",
    "        verbose_eval=False,\n",
    "        callbacks=[TuneReportCheckpointCallback(filename=\"model.xgb\")])"
   ]
  },
  {
   "cell_type": "markdown",
   "id": "bdab47b5-84da-4f6c-bb08-c6a1d502b27f",
   "metadata": {},
   "source": [
    "Write a helper function for loading callbacks and returning the best model with best configuration\n",
    "after tuning"
   ]
  },
  {
   "cell_type": "code",
   "execution_count": 35,
   "id": "c81ec894-b7b7-4527-879e-75ffbe735afa",
   "metadata": {},
   "outputs": [],
   "source": [
    "def get_best_model_checkpoint(analysis):\n",
    "    best_bst = xgb.Booster()\n",
    "    best_model_path = os.path.join(analysis.best_checkpoint, \"model.xgb\")\n",
    "    best_bst.load_model(best_model_path)\n",
    "    accuracy = 1. - analysis.best_result[\"eval-error\"]\n",
    "    print(f\"Best model parameters: {analysis.best_config}\")\n",
    "    print(f\"Best model total accuracy: {accuracy:.4f}\")\n",
    "    print(f\"checkpoint best model path: {best_model_path}\")\n",
    "    return best_bst"
   ]
  },
  {
   "cell_type": "markdown",
   "id": "bf6e6edf-34d6-4b40-b244-2702d0ae5785",
   "metadata": {},
   "source": [
    "Wrapper around our trainer to do actual tuning:\n",
    " * define search space\n",
    " * define our ASHAScheduler\n",
    " * run `tune.run(...)`\n",
    " * return the ExperimentAnalysis object from `tune.run()`"
   ]
  },
  {
   "cell_type": "code",
   "execution_count": 36,
   "id": "99a6ee60-a84e-4d22-b7de-2b2997449c7b",
   "metadata": {},
   "outputs": [],
   "source": [
    "def tune_xgboost():\n",
    "    search_space = {\n",
    "        # You can mix constants with search space objects.\n",
    "        \"objective\": \"binary:logistic\",\n",
    "        \"eval_metric\": [\"logloss\", \"error\"],\n",
    "        \"max_depth\": tune.randint(1, 9),\n",
    "        \"min_child_weight\": tune.choice([1, 2, 3]),\n",
    "        \"subsample\": tune.uniform(0.5, 1.0),\n",
    "        \"eta\": tune.loguniform(1e-4, 1e-1)\n",
    "    }\n",
    "    # This will enable aggressive early stopping of bad trials.\n",
    "    scheduler = ASHAScheduler(\n",
    "        max_t=10,  # 10 training iterations\n",
    "        grace_period=1,\n",
    "        reduction_factor=2)\n",
    "\n",
    "    analysis = tune.run(\n",
    "        train_pima_tuned_asha_model,   # our training function\n",
    "        metric=\"eval-logloss\", # eval metric\n",
    "        mode=\"min\",            # mode \n",
    "        # You can add \"gpu\": 0.1 to allocate GPUs\n",
    "        resources_per_trial={\"cpu\": 1},\n",
    "        config=search_space,\n",
    "        num_samples=10,\n",
    "        verbose=1,\n",
    "        scheduler=scheduler)\n",
    "\n",
    "    return analysis"
   ]
  },
  {
   "cell_type": "markdown",
   "id": "c121c4c3-508a-4e08-8092-6cc82ba5beb6",
   "metadata": {},
   "source": [
    "Let's tune with our `ASHAScheduler`"
   ]
  },
  {
   "cell_type": "code",
   "execution_count": 37,
   "id": "63ddc4d0-e22a-4cb6-9fb9-3c9bdafa7d8c",
   "metadata": {},
   "outputs": [
    {
     "data": {
      "text/html": [
       "== Status ==<br>Current time: 2022-03-10 17:58:56 (running for 00:00:03.64)<br>Memory usage on this node: 17.8/32.0 GiB<br>Using AsyncHyperBand: num_stopped=10\n",
       "Bracket: Iter 8.000: -0.6560684999999999 | Iter 4.000: -0.6725945 | Iter 2.000: -0.6824574999999999 | Iter 1.000: -0.691626<br>Resources requested: 0/12 CPUs, 0/0 GPUs, 0.0/11.98 GiB heap, 0.0/2.0 GiB objects<br>Current best trial: cd736_00008 with eval-logloss=0.590777 and parameters={'objective': 'binary:logistic', 'eval_metric': ['logloss', 'error'], 'max_depth': 7, 'min_child_weight': 2, 'subsample': 0.8318428912422837, 'eta': 0.03995643641146106}<br>Result logdir: /Users/jules/ray_results/train_pima_tuned_asha_model_2022-03-10_17-58-53<br>Number of trials: 10/10 (10 TERMINATED)<br><br>"
      ],
      "text/plain": [
       "<IPython.core.display.HTML object>"
      ]
     },
     "metadata": {},
     "output_type": "display_data"
    },
    {
     "name": "stderr",
     "output_type": "stream",
     "text": [
      "2022-03-10 17:58:56,933\tINFO tune.py:639 -- Total run time: 3.77 seconds (3.62 seconds for the tuning loop).\n"
     ]
    }
   ],
   "source": [
    "analysis = tune_xgboost()"
   ]
  },
  {
   "cell_type": "code",
   "execution_count": 38,
   "id": "c4dd1ae8-762f-4864-b9de-81d89dcf0076",
   "metadata": {},
   "outputs": [
    {
     "name": "stdout",
     "output_type": "stream",
     "text": [
      "Best Hyperparamter config:  {'objective': 'binary:logistic', 'eval_metric': ['logloss', 'error'], 'max_depth': 7, 'min_child_weight': 2, 'subsample': 0.8318428912422837, 'eta': 0.03995643641146106}\n"
     ]
    }
   ],
   "source": [
    "print(\"Best Hyperparamter config: \", analysis.get_best_config(metric=\"eval-logloss\", mode=\"min\"))"
   ]
  },
  {
   "cell_type": "markdown",
   "id": "f09933b8-fa8c-4eb3-921f-d7ddf395e19b",
   "metadata": {},
   "source": [
    "As you can see, most trials have been stopped only after a few iterations. Only the two most promising trials were run for the full 10 iterations.\n",
    "\n",
    "You can also ensure that all available resources are being used as the scheduler terminates trials, freeing them up. This can be done through the `ResourceChangingScheduler`. An example of this can be found here: [xgboost_dynamic_resources_example](https://docs.ray.io/en/latest/tune/examples/xgboost_dynamic_resources_example.html).\n",
    "\n"
   ]
  },
  {
   "cell_type": "code",
   "execution_count": 39,
   "id": "d543fd87-7d0d-4082-9468-ae04d4b32219",
   "metadata": {},
   "outputs": [
    {
     "name": "stdout",
     "output_type": "stream",
     "text": [
      "Best model parameters: {'objective': 'binary:logistic', 'eval_metric': ['logloss', 'error'], 'max_depth': 7, 'min_child_weight': 2, 'subsample': 0.8318428912422837, 'eta': 0.03995643641146106}\n",
      "Best model total accuracy: 0.7598\n",
      "checkpoint best model path: /Users/jules/ray_results/train_pima_tuned_asha_model_2022-03-10_17-58-53/train_pima_tuned_asha_model_cd736_00008_8_eta=0.039956,max_depth=7,min_child_weight=2,subsample=0.83184_2022-03-10_17-58-54/checkpoint_000005/model.xgb\n"
     ]
    }
   ],
   "source": [
    "best_bst = get_best_model_checkpoint(analysis)"
   ]
  },
  {
   "cell_type": "markdown",
   "id": "93415f23-5af4-408e-80f8-30c7472119b7",
   "metadata": {},
   "source": [
    "### Persist the best model "
   ]
  },
  {
   "cell_type": "code",
   "execution_count": 40,
   "id": "80fbb6cd-8f9c-49f5-9081-1d83e6f5b597",
   "metadata": {},
   "outputs": [],
   "source": [
    "best_bst.save_model(\"best_model.json\")"
   ]
  },
  {
   "cell_type": "markdown",
   "id": "8b25a098-b8dd-44b1-9642-4baab94f42e5",
   "metadata": {},
   "source": [
    "### Get some test data for scoring"
   ]
  },
  {
   "cell_type": "code",
   "execution_count": 41,
   "id": "fc2a280e-3dcb-4dbc-a959-b0d56e2927b3",
   "metadata": {},
   "outputs": [],
   "source": [
    "# Split into train and test set\n",
    "train_x, test_x, train_y, test_y = get_pima_data()\n",
    "test_set = xgb.DMatrix(test_x, label=test_y)"
   ]
  },
  {
   "cell_type": "markdown",
   "id": "2ed80c6e-944b-4cc5-91f7-b9c45dabcfb6",
   "metadata": {},
   "source": [
    "### Load the best persisted model"
   ]
  },
  {
   "cell_type": "code",
   "execution_count": 42,
   "id": "21dfaebf-48ab-4026-9131-0b3e95296987",
   "metadata": {},
   "outputs": [],
   "source": [
    "bst_model = xgb.Booster()\n",
    "bst_model.load_model(\"best_model.json\")"
   ]
  },
  {
   "cell_type": "code",
   "execution_count": 43,
   "id": "6135ba55-61fb-4128-a3cc-bfe0fd58c0a1",
   "metadata": {},
   "outputs": [
    {
     "data": {
      "text/plain": [
       "array([0.40292236, 0.5883822 , 0.5142329 , 0.4245417 , 0.53382295,\n",
       "       0.4945565 , 0.42446336, 0.4163467 , 0.5460899 , 0.41373488,\n",
       "       0.5768791 , 0.4145682 , 0.53680587, 0.5729635 , 0.4916594 ,\n",
       "       0.44822025, 0.43080795, 0.5407926 , 0.42493147, 0.4337389 ,\n",
       "       0.4923736 , 0.40456054, 0.5768791 , 0.5656653 , 0.4034221 ,\n",
       "       0.4350468 , 0.40292236, 0.4997948 , 0.4913775 , 0.4375228 ,\n",
       "       0.5192055 , 0.41234264, 0.5188192 , 0.4865134 , 0.41342112,\n",
       "       0.49278656, 0.53589374, 0.44403866, 0.5078868 , 0.5043338 ,\n",
       "       0.56938475, 0.569892  , 0.5616104 , 0.4015291 , 0.40456054,\n",
       "       0.41547582, 0.4816537 , 0.48009226, 0.43915588, 0.50333965,\n",
       "       0.41109166, 0.4167872 , 0.49118876, 0.4337389 , 0.49015185,\n",
       "       0.44161457, 0.42717308, 0.4102073 , 0.48968947, 0.5095272 ,\n",
       "       0.4163467 , 0.569892  , 0.45997167, 0.5562835 , 0.57866305,\n",
       "       0.5309889 , 0.4163467 , 0.5592405 , 0.5883822 , 0.5051344 ,\n",
       "       0.5742127 , 0.569892  , 0.40456054, 0.44975853, 0.41547582,\n",
       "       0.45073736, 0.43080795, 0.41697264, 0.4015291 , 0.46346807,\n",
       "       0.43290433, 0.4163467 , 0.41507033, 0.41471732, 0.5335692 ,\n",
       "       0.5276834 , 0.5729635 , 0.41547582, 0.53604984, 0.40292236,\n",
       "       0.53573155, 0.41316053, 0.51815903, 0.44786268, 0.48012358,\n",
       "       0.5329166 , 0.5768791 , 0.41471732, 0.49798092, 0.50945544,\n",
       "       0.514646  , 0.42795613, 0.46248785, 0.42597836, 0.41697264,\n",
       "       0.429555  , 0.46346807, 0.46804821, 0.41547582, 0.5310969 ,\n",
       "       0.41205952, 0.54067206, 0.41547582, 0.41205952, 0.49608836,\n",
       "       0.5121178 , 0.42297184, 0.48677707, 0.54559433, 0.5243688 ,\n",
       "       0.45804545, 0.4015291 , 0.41697264, 0.4015291 , 0.4015291 ,\n",
       "       0.5729635 , 0.4015291 , 0.513792  , 0.4115946 , 0.4337389 ,\n",
       "       0.40292236, 0.5540662 , 0.41205952, 0.4148822 , 0.4722181 ,\n",
       "       0.4015291 , 0.4145682 , 0.46855053, 0.4015291 , 0.5883822 ,\n",
       "       0.41547582, 0.5461231 , 0.5115243 , 0.5087335 , 0.4034221 ,\n",
       "       0.5279264 , 0.498713  , 0.42317823, 0.5768791 , 0.5063646 ,\n",
       "       0.42493147, 0.53756136, 0.42663047, 0.40292236, 0.45387074,\n",
       "       0.4145682 , 0.5742127 , 0.4125628 , 0.53669953, 0.4126953 ,\n",
       "       0.50148505, 0.41234264, 0.4097049 , 0.40416506, 0.5480332 ,\n",
       "       0.45210698, 0.5236723 , 0.4186788 , 0.48919258, 0.57542783,\n",
       "       0.40406033, 0.5768791 , 0.50333965, 0.48498628, 0.5351698 ,\n",
       "       0.4337389 , 0.5480332 , 0.5042641 , 0.5742127 , 0.4865134 ,\n",
       "       0.52452093, 0.49664253, 0.4015291 , 0.51993424, 0.4451414 ,\n",
       "       0.43845633, 0.42071903, 0.4015291 , 0.40375268, 0.569892  ,\n",
       "       0.5488847 , 0.41610923, 0.5592405 , 0.5768791 , 0.44984582,\n",
       "       0.4670336 , 0.53710467, 0.4015291 , 0.41110697, 0.5011705 ,\n",
       "       0.49118876, 0.5098973 , 0.56258124, 0.5444606 , 0.4730967 ,\n",
       "       0.40406033, 0.53710467, 0.41251987, 0.44161457, 0.41201666,\n",
       "       0.5772498 , 0.5883822 , 0.4243152 , 0.42510772, 0.4810156 ,\n",
       "       0.4015291 , 0.41547582, 0.54422987, 0.4015291 , 0.44161457,\n",
       "       0.4015291 , 0.5159116 , 0.5616104 , 0.47220796, 0.4892743 ,\n",
       "       0.5011705 , 0.48267612, 0.47915998, 0.53498906, 0.40406033,\n",
       "       0.5090651 , 0.5001226 , 0.4279772 , 0.48192832, 0.4115946 ,\n",
       "       0.40406033, 0.40292236, 0.5387156 , 0.4955767 , 0.48797327,\n",
       "       0.5042641 , 0.5742127 , 0.50860965, 0.42960995, 0.5772498 ,\n",
       "       0.40416506, 0.5216714 , 0.4127555 , 0.41547582, 0.43838292,\n",
       "       0.4015291 , 0.44598782, 0.5372372 ], dtype=float32)"
      ]
     },
     "execution_count": 43,
     "metadata": {},
     "output_type": "execute_result"
    }
   ],
   "source": [
    "bst_model.predict(test_set)[:-1]"
   ]
  },
  {
   "cell_type": "markdown",
   "id": "4c2c88dd-7da2-45ff-a2be-20af8da24bf5",
   "metadata": {},
   "source": [
    "### Create Deployment for Ray Serve"
   ]
  },
  {
   "cell_type": "code",
   "execution_count": 45,
   "id": "47f595eb-5b34-46ad-bc9e-cb846ffb6386",
   "metadata": {},
   "outputs": [],
   "source": [
    "from fastapi import FastAPI, Request\n",
    "import ray\n",
    "from ray import serve"
   ]
  },
  {
   "cell_type": "code",
   "execution_count": 46,
   "id": "11b7df61-dbc9-486f-9e09-3f14a3817b2e",
   "metadata": {},
   "outputs": [],
   "source": [
    "@serve.deployment(num_replicas=2, route_prefix=\"/regressor\")\n",
    "class XGBPimaIndianModel:\n",
    "    def __init__(self):\n",
    "        # Load the best saved model \n",
    "        self.bst_model = xgb.Booster()\n",
    "        self.bst_model.load_model(\"best_model.json\")\n",
    "        print(type(self.bst_model))\n",
    "        print(\"Best saved model loaded\")\n",
    "        \n",
    "    async def __call__(self, starlette_request:Request):\n",
    "        payload = await starlette_request.json()\n",
    "        pred = xgb.DMatrix([np.array(list(payload.values()), dtype=np.float64)])\n",
    "        prediction = np.float64(self.bst_model.predict(pred)[0])\n",
    "        \n",
    "        return {\"result\": prediction}"
   ]
  },
  {
   "cell_type": "markdown",
   "id": "735d7408-fb6a-42ea-8b6d-76daa4875a63",
   "metadata": {},
   "source": [
    "### Let's Deploy the model to Ray Serve"
   ]
  },
  {
   "cell_type": "code",
   "execution_count": 47,
   "id": "48351e50-bd74-4c4b-bf40-c8072644e86a",
   "metadata": {},
   "outputs": [
    {
     "name": "stderr",
     "output_type": "stream",
     "text": [
      "\u001b[2m\u001b[36m(ServeController pid=21807)\u001b[0m 2022-03-10 17:59:34,772\tINFO checkpoint_path.py:16 -- Using RayInternalKVStore for controller checkpoint and recovery.\n",
      "\u001b[2m\u001b[36m(ServeController pid=21807)\u001b[0m 2022-03-10 17:59:34,881\tINFO http_state.py:98 -- Starting HTTP proxy with name 'SERVE_CONTROLLER_ACTOR:bZeYOB:SERVE_PROXY_ACTOR-node:127.0.0.1-0' on node 'node:127.0.0.1-0' listening on '127.0.0.1:8000'\n",
      "2022-03-10 17:59:35,898\tINFO api.py:521 -- Started Serve instance in namespace 'e3ef8f54-8897-43d6-84ef-69a43e8bbe9b'.\n",
      "2022-03-10 17:59:35,904\tINFO api.py:262 -- Updating deployment 'XGBPimaIndianModel'. component=serve deployment=XGBPimaIndianModel\n",
      "\u001b[2m\u001b[36m(ServeController pid=21807)\u001b[0m 2022-03-10 17:59:35,947\tINFO deployment_state.py:920 -- Adding 2 replicas to deployment 'XGBPimaIndianModel'. component=serve deployment=XGBPimaIndianModel\n",
      "\u001b[2m\u001b[36m(HTTPProxyActor pid=21907)\u001b[0m INFO:     Started server process [21907]\n",
      "2022-03-10 17:59:37,769\tINFO api.py:274 -- Deployment 'XGBPimaIndianModel' is ready at `http://127.0.0.1:8000/regressor`. component=serve deployment=XGBPimaIndianModel\n"
     ]
    },
    {
     "name": "stdout",
     "output_type": "stream",
     "text": [
      "\u001b[2m\u001b[36m(XGBPimaIndianModel pid=21912)\u001b[0m <class 'xgboost.core.Booster'>\n",
      "\u001b[2m\u001b[36m(XGBPimaIndianModel pid=21912)\u001b[0m Best saved model loaded\n",
      "\u001b[2m\u001b[36m(XGBPimaIndianModel pid=21911)\u001b[0m <class 'xgboost.core.Booster'>\n",
      "\u001b[2m\u001b[36m(XGBPimaIndianModel pid=21911)\u001b[0m Best saved model loaded\n"
     ]
    }
   ],
   "source": [
    "serve.start()\n",
    "XGBPimaIndianModel.deploy()"
   ]
  },
  {
   "cell_type": "markdown",
   "id": "e001c26e-0430-46e3-88e4-1ada78857c74",
   "metadata": {},
   "source": [
    "### Score the model"
   ]
  },
  {
   "cell_type": "code",
   "execution_count": 48,
   "id": "c1e9120b-efa4-4912-b229-5c2873c19369",
   "metadata": {},
   "outputs": [],
   "source": [
    "sample_request_inputs = [\n",
    "        {\"Pregnancies\": 6,\n",
    "         \"Glucose\": 148,\n",
    "         \"BloodPressure\": 72,\n",
    "         \"SkinThickness\": 35,\n",
    "         \"Insulin\": 0,\n",
    "         \"BMI\": np.float64(33.6),\n",
    "         \"DiabetesPedigree\": np.float64(0.625),\n",
    "         \"Age\": 50,\n",
    "         },\n",
    "        {\"Pregnancies\": 10,\n",
    "         \"Glucose\": 168,\n",
    "         \"BloodPressure\": 74,\n",
    "         \"SkinThickness\": 0,\n",
    "         \"Insulin\": 0,\n",
    "         \"BMI\": 38.0,\n",
    "         \"DiabetesPedigree\": 0.537,\n",
    "         \"Age\": 34,\n",
    "         },\n",
    "        {\"Pregnancies\": 10,\n",
    "         \"Glucose\": 39,\n",
    "         \"BloodPressure\": 80,\n",
    "         \"SkinThickness\": 0,\n",
    "         \"Insulin\": 0,\n",
    "         \"BMI\": 27.1,\n",
    "         \"DiabetesPedigree\": 1.441,\n",
    "         \"Age\": 57,\n",
    "         },\n",
    "        {\"Pregnancies\": 1,\n",
    "         \"Glucose\": 103,\n",
    "         \"BloodPressure\": 30,\n",
    "         \"SkinThickness\": 38,\n",
    "         \"Insulin\": 83,\n",
    "         \"BMI\": 43.3,\n",
    "         \"DiabetesPedigree\": 0.183,\n",
    "         \"Age\": 33,\n",
    "         }\n",
    "    ]"
   ]
  },
  {
   "cell_type": "code",
   "execution_count": 49,
   "id": "1c161a79-1b5d-4d47-8059-5ffcb6e96515",
   "metadata": {},
   "outputs": [
    {
     "name": "stdout",
     "output_type": "stream",
     "text": [
      "{'result': 0.5742126703262329}\n",
      "{'result': 0.5883821845054626}\n",
      "{'result': 0.4795730412006378}\n",
      "{'result': 0.4337364137172699}\n"
     ]
    }
   ],
   "source": [
    "import requests\n",
    "for sri in sample_request_inputs: \n",
    "    response = requests.get(\"http://localhost:8000/regressor\", json=sri).json()\n",
    "    print(response)"
   ]
  },
  {
   "cell_type": "code",
   "execution_count": 50,
   "id": "3f8352b8-7b5e-455c-a61e-eee38f1086da",
   "metadata": {},
   "outputs": [],
   "source": [
    "ray.shutdown()"
   ]
  },
  {
   "cell_type": "markdown",
   "id": "43da77de-8f0a-4f7b-8059-d7efbe7d19e2",
   "metadata": {},
   "source": [
    "### Conclusion\n",
    "You should now have a basic understanding on how to train XGBoost models and on how to tune the hyperparameters to yield the best results. In our simple example, Tuning the parameters didn’t make a huge difference for the accuracy. But in larger applications, intelligent hyperparameter tuning can make the difference between a model that doesn’t seem to learn at all, and a model that outperforms all the other ones.\n",
    "\n",
    "Also, once you tuned and persisted the models, you can easily deploy the best model to Ray Serve and score.\n",
    "\n"
   ]
  },
  {
   "cell_type": "markdown",
   "id": "719b6a55-53ec-4e3f-9478-87eb1234b1c2",
   "metadata": {},
   "source": [
    "### Further References\n",
    "\n",
    "1. [XGBoost Hyperparameter Tuning - A Visual Guide](https://kevinvecmanis.io/machine%20learning/hyperparameter%20tuning/dataviz/python/2019/05/11/XGBoost-Tuning-Visual-Guide.html)\n",
    "\n",
    "2. [Notes on XGBoost Parameter Tuning](https://xgboost.readthedocs.io/en/latest/tutorials/param_tuning.html)\n",
    "\n",
    "3. [Doing XGBoost Hyperparameter Tuning the smart way](https://towardsdatascience.com/doing-xgboost-hyper-parameter-tuning-the-smart-way-part-1-of-2-f6d255a45dde)\n",
    "4. [Three ways to speed up XGBoost model training](https://www.anyscale.com/blog/three-ways-to-speed-up-xgboost-model-training)"
   ]
  }
 ],
 "metadata": {
  "kernelspec": {
   "display_name": "Python 3 (ipykernel)",
   "language": "python",
   "name": "python3"
  },
  "language_info": {
   "codemirror_mode": {
    "name": "ipython",
    "version": 3
   },
   "file_extension": ".py",
   "mimetype": "text/x-python",
   "name": "python",
   "nbconvert_exporter": "python",
   "pygments_lexer": "ipython3",
   "version": "3.8.10"
  }
 },
 "nbformat": 4,
 "nbformat_minor": 5
}
