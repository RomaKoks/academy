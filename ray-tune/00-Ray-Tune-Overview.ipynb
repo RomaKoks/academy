{
 "cells": [
  {
   "cell_type": "markdown",
   "metadata": {},
   "source": [
    "# Ray Tune - Overview\n",
    "\n",
    "© 2019-2021, Anyscale. All Rights Reserved\n",
    "\n",
    "![Anyscale Academy](../images/AnyscaleAcademyLogo.png)\n",
    "\n",
    "## Watch Sessions from Ray Summit 2021!\n",
    "\n",
    "We had an amazing lineup of luminar keynote speakers and breakout sessions on the Ray ecosystem, third-party Ray libraries, and applications of Ray in the real world.\n",
    "\n",
    "<a href=\"https://www.anyscale.com/ray-summit-2021\">\n",
    "<img src=\"../images/raysummit-horizontal-white-banner-full.png\"  width=\"800\" height=\"200\" alt=\"Ray Summit 2021\"/>\n",
    "</a>\n",
    "\n",
    "## About This Tutorial\n",
    "\n",
    "This tutorial, part of [Anyscale Academy](https://anyscale.com/academy), introduces _hyperparameter tuning_, often called _hyperparameter optimization_ for which we'll use the acronym _HPO_ (since \"hyperparameter\" is often spelled \"hyper parameter\"). \n",
    "\n",
    "In particular this tutorial introduces [Ray Tune](http://tune.io), Ray's comprehensive HPO library.\n",
    "\n",
    "![Ray Tune](../images/RayTune.png)\n",
    "\n",
    "There are new lessons on the new [Ray Train](https://docs.ray.io/en/latest/raysgd/raysgd.html) API (formerly known as Ray RGD). \n",
    "\n",
    "![Ray Train](../images/RaySGD.png)\n",
    "\n",
    "See the instructions in the [README](../README.md) for setting up your environment to use this tutorial.\n",
    "\n",
    "Go [here](../Overview.ipynb) for an overview of all tutorials."
   ]
  },
  {
   "cell_type": "markdown",
   "metadata": {},
   "source": [
    "|     | Lesson | Description |\n",
    "| :-- | :----- | :---------- |\n",
    "| 00  | [Ray Tune Overview](00-Ray-Tune-Overview.ipynb) | Overview of this tutorial. |\n",
    "| 01  | [Ray Tune Warm Up](01-Ray-Tune-Warmup.ipynb) | Overview of this tutorial. |\n",
    "| 02  | [Understanding Hyperparameter Tuning](02-Understanding-Hyperparameter-Tuning.ipynb) | An explanation of hyperparameters vs. parameters and a non-trivial example of hyperparameter tuning/optimization with Tune. |\n",
    "| 03  | [Ray Tune with Sklearn](03-Ray-Tune-with-Sklearn.ipynb) | More exploration of the Tune API, using Tune's replacements for GridSearchCV and RandomizedSearchCV example. |\n",
    "| 04  | [Ray Tune with MNIST](04-Ray-Tune-with-MNIST.ipynb) | More exploration of the Tune API, using an MNIST example. |\n",
    "| 05  | [Search Algos and Schedulers](05-Search-Algos-and-Schedulers.ipynb) | Understanding the concepts of search algorithms and schedulers, again using an MNIST example. |\n",
    "|     | [Hyperparameter Tuning References](References-Hyperparameter-Tuning.ipynb) | References for hyperparameter tuning. |\n",
    "\n",
    "In addition, exercise solutions for this tutorial can be found in the `solutions` directory.\n",
    "\n",
    "For other, earlier tutorials that use Tune, \n",
    " * [ray-project/tutorial](https://github.com/ray-project/tutorial) \n",
    " * [code examples](https://github.com/ray-project/tune-sklearn/tree/master/examples) from the Ray GitHub\n",
    " * [tune examples](https://docs.ray.io/en/latest/tune/examples/index.html) in the Ray Tune documentation"
   ]
  },
  {
   "cell_type": "markdown",
   "metadata": {},
   "source": [
    "## Getting Help\n",
    "\n",
    "* The [#tutorial channel](https://ray-distributed.slack.com/archives/C011ML23W5B) on the [Ray Slack](https://ray-distributed.slack.com). [Click here](https://forms.gle/9TSdDYUgxYs8SA9e8) to join.\n",
    "* [Email](mailto:academy@anyscale.com)\n",
    "\n",
    "Find an issue? Please report it!\n",
    "\n",
    "* [GitHub issues](https://github.com/anyscale/academy/issues)"
   ]
  },
  {
   "cell_type": "markdown",
   "metadata": {},
   "source": [
    "## Give Us Feedback!\n",
    "\n",
    "Let us know what you like and don't like about this HPO and Ray Tune tutorial.\n",
    "\n",
    "* [Survey](https://forms.gle/StzNufFyyDT3dapt8)"
   ]
  }
 ],
 "metadata": {
  "kernelspec": {
   "display_name": "Python 3 (ipykernel)",
   "language": "python",
   "name": "python3"
  },
  "language_info": {
   "codemirror_mode": {
    "name": "ipython",
    "version": 3
   },
   "file_extension": ".py",
   "mimetype": "text/x-python",
   "name": "python",
   "nbconvert_exporter": "python",
   "pygments_lexer": "ipython3",
   "version": "3.8.12"
  }
 },
 "nbformat": 4,
 "nbformat_minor": 4
}
