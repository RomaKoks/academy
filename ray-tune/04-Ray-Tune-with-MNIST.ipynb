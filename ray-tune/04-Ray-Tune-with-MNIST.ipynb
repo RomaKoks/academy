{
 "cells": [
  {
   "cell_type": "markdown",
   "metadata": {},
   "source": [
    "# Ray Tune - A Deeper Dive Using MNIST with PyTorch\n",
    "\n",
    "© 2019-2022, Anyscale. All Rights Reserved\n",
    "\n",
    "![Anyscale Academy](../images/AnyscaleAcademyLogo.png)\n",
    "\n",
    "A [previous notebook](02-Understanding-Hyperparameter-Tuning.ipynb) explained the concept of hyperparameter tuning/optimization (HPO) and walked through the basics of using [Ray Tune](https://ray.readthedocs.io/en/latest/tune.html), and another [notebook on Tune and Sklearn](03-Ray-Tune-with-Sklearn.ipynb) showed Tune's drop-in replacements for HPO.\n",
    "\n",
    "Now we'll use another example to explore more of the Tune API features. We'll use the [MNIST](http://yann.lecun.com/exdb/mnist/) of hand-written digits and train a [PyTorch](https://pytorch.org/) model to recognize them."
   ]
  },
  {
   "cell_type": "code",
   "execution_count": 1,
   "metadata": {},
   "outputs": [],
   "source": [
    "import os \n",
    "from torchvision import datasets, transforms\n",
    "import torch\n",
    "import torch.optim as optim\n",
    "import torch.nn as nn\n",
    "import torch.nn.functional as F\n",
    "from filelock import FileLock"
   ]
  },
  {
   "cell_type": "markdown",
   "metadata": {},
   "source": [
    "## PyTorch Hyperparameter Tuning\n",
    "\n",
    "Our example will closely follow the code in the [PyTorch MNIST example](https://github.com/pytorch/examples/blob/master/mnist/main.py). However, we will create an even simpler model than the one in the example, although you could try that model and compare its predictions.\n",
    "\n",
    "Let's start by defining a few global variables for epoch and test sizes. Also define a data location."
   ]
  },
  {
   "cell_type": "code",
   "execution_count": 2,
   "metadata": {},
   "outputs": [],
   "source": [
    "EPOCH_SIZE = 512\n",
    "TEST_SIZE = 256\n",
    "\n",
    "DATA_ROOT = '../data/mnist'"
   ]
  },
  {
   "cell_type": "markdown",
   "metadata": {},
   "source": [
    "The following class defines a convolutional neural network.\n",
    "\n",
    "> **Tip:** Most of these code definitions can be found in `mnist.py`, too."
   ]
  },
  {
   "cell_type": "code",
   "execution_count": 3,
   "metadata": {},
   "outputs": [],
   "source": [
    "class ConvNet(nn.Module):\n",
    "    def __init__(self):\n",
    "        super(ConvNet, self).__init__()\n",
    "        self.conv1 = nn.Conv2d(1, 3, kernel_size=3)\n",
    "        self.fc = nn.Linear(192, 10)\n",
    "\n",
    "    def forward(self, x):\n",
    "        x = F.relu(F.max_pool2d(self.conv1(x), 3))\n",
    "        x = x.view(-1, 192)\n",
    "        x = self.fc(x)\n",
    "        return F.log_softmax(x, dim=1)"
   ]
  },
  {
   "cell_type": "markdown",
   "metadata": {},
   "source": [
    "After creating that network, we can now create our data loaders for training and test data. These are just plain [PyTorch `DataLoaders`](https://pytorch.org/docs/1.1.0/data.html?highlight=dataloader#torch.utils.data.DataLoader) with two additions:\n",
    "\n",
    "1. A `FileLock` is added to ensure that only one process downloads the data on each machine, just in case we have multiple workers per machine in our Ray cluster.\n",
    "2. The root directory for the data can be specified and it will be created if it doesn't exist.\n",
    "\n",
    "Otherwise, this code is identical to the [PyTorch example version](https://github.com/pytorch/examples/blob/master/mnist/main.py#L101)."
   ]
  },
  {
   "cell_type": "code",
   "execution_count": 4,
   "metadata": {},
   "outputs": [],
   "source": [
    "def get_data_loaders():\n",
    "    mnist_transforms = transforms.Compose(\n",
    "        [transforms.ToTensor(),\n",
    "         transforms.Normalize((0.1307, ), (0.3081, ))])\n",
    "\n",
    "    # We add FileLock here because multiple workers on the same machine coulde try \n",
    "    # download the data. This would cause overwrites, since DataLoader is not threadsafe.\n",
    "    # You wouldn't need this for single-process training.\n",
    "    lock_file = f'{DATA_ROOT}/data.lock'\n",
    "    import os\n",
    "    if not os.path.exists(DATA_ROOT):\n",
    "        os.makedirs(DATA_ROOT)\n",
    "        \n",
    "    with FileLock(os.path.expanduser(lock_file)):\n",
    "        train_loader = torch.utils.data.DataLoader(\n",
    "            datasets.MNIST(DATA_ROOT, train=True, download=True, transform=mnist_transforms),\n",
    "            batch_size=64,\n",
    "            shuffle=True)\n",
    "\n",
    "        test_loader = torch.utils.data.DataLoader(\n",
    "            datasets.MNIST(DATA_ROOT, train=False, transform=mnist_transforms),\n",
    "            batch_size=64,\n",
    "            shuffle=True)\n",
    "    return train_loader, test_loader"
   ]
  },
  {
   "cell_type": "markdown",
   "metadata": {},
   "source": [
    "Now we define our training and test functions. While the arguments are a bit switched up from the original PyTorch tutorial, the difference is inconsequential. The arguments are an optimizer, a model, the training data loader, and our device. Then we train the model."
   ]
  },
  {
   "cell_type": "code",
   "execution_count": 5,
   "metadata": {},
   "outputs": [],
   "source": [
    "def train(model, optimizer, train_loader, device=torch.device(\"cpu\")):\n",
    "    model.train()\n",
    "    for batch_idx, (data, target) in enumerate(train_loader):\n",
    "        if batch_idx * len(data) > EPOCH_SIZE:\n",
    "            return\n",
    "        data, target = data.to(device), target.to(device)\n",
    "        optimizer.zero_grad()\n",
    "        output = model(data)\n",
    "        loss = F.nll_loss(output, target)\n",
    "        loss.backward()\n",
    "        optimizer.step()"
   ]
  },
  {
   "cell_type": "markdown",
   "metadata": {},
   "source": [
    "Similarly for our test model, we define a basic _average correct prediction_ metric that we will track. We could add more metrics, but we'll keep it simple."
   ]
  },
  {
   "cell_type": "code",
   "execution_count": 6,
   "metadata": {},
   "outputs": [],
   "source": [
    "def test(model, data_loader, device=torch.device(\"cpu\")):\n",
    "    model.eval()\n",
    "    correct = 0\n",
    "    total = 0\n",
    "    with torch.no_grad():\n",
    "        for batch_idx, (data, target) in enumerate(data_loader):\n",
    "            if batch_idx * len(data) > TEST_SIZE:\n",
    "                break\n",
    "            data, target = data.to(device), target.to(device)\n",
    "            outputs = model(data)\n",
    "            _, predicted = torch.max(outputs.data, 1)\n",
    "            total += target.size(0)\n",
    "            correct += (predicted == target).sum().item()\n",
    "\n",
    "    return correct / total"
   ]
  },
  {
   "cell_type": "markdown",
   "metadata": {},
   "source": [
    "Finally, we create a wrapper function for this particular model. In doing so all we need to do is specify the configuration for the model that we would like to train and the function will do the rest:\n",
    "\n",
    "1. Retrieve the data with the loaders returned by `get_data_loaders()`\n",
    "2. Create the `ConvNet` model\n",
    "3. Optimize the model using _stochastic gradient descent_."
   ]
  },
  {
   "cell_type": "code",
   "execution_count": 7,
   "metadata": {},
   "outputs": [],
   "source": [
    "def train_mnist(config):\n",
    "    train_loader, test_loader = get_data_loaders()\n",
    "    model = ConvNet()\n",
    "    optimizer = optim.SGD(model.parameters(), lr=config[\"lr\"], momentum=config['momentum'])\n",
    "    for i in range(10):\n",
    "        train(model, optimizer, train_loader)\n",
    "        acc = test(model, test_loader)\n",
    "        print(f\"accuracy: {acc}\")"
   ]
  },
  {
   "cell_type": "markdown",
   "metadata": {},
   "source": [
    "### Single-Node Hyperparameter Tuning\n",
    "\n",
    "Let's show what we might do if we performed hyperparameter tuning on a single machine. We would have to enumerate all the possibilities and either train them serially or use something like multiprocessing to train them in parallel. That setup takes a little bit of work so people often decide to train them serially, which is easiest, but requires the most time.\n",
    "\n",
    "This is what we might do."
   ]
  },
  {
   "cell_type": "code",
   "execution_count": 8,
   "metadata": {},
   "outputs": [
    {
     "name": "stdout",
     "output_type": "stream",
     "text": [
      "12\n"
     ]
    },
    {
     "data": {
      "text/plain": [
       "[(0.001, 0.001),\n",
       " (0.001, 0.01),\n",
       " (0.001, 0.1),\n",
       " (0.001, 0.9),\n",
       " (0.01, 0.001),\n",
       " (0.01, 0.01),\n",
       " (0.01, 0.1),\n",
       " (0.01, 0.9),\n",
       " (0.1, 0.001),\n",
       " (0.1, 0.01),\n",
       " (0.1, 0.1),\n",
       " (0.1, 0.9)]"
      ]
     },
     "execution_count": 8,
     "metadata": {},
     "output_type": "execute_result"
    }
   ],
   "source": [
    "import itertools\n",
    "conf = {\n",
    "    \"lr\": [0.001, 0.01, 0.1],\n",
    "    \"momentum\": [0.001, 0.01, 0.1, 0.9]\n",
    "}\n",
    "\n",
    "combinations = list(itertools.product(*conf.values()))\n",
    "print(len(combinations))\n",
    "combinations"
   ]
  },
  {
   "cell_type": "code",
   "execution_count": 9,
   "metadata": {},
   "outputs": [
    {
     "name": "stderr",
     "output_type": "stream",
     "text": [
      "/usr/local/anaconda3/envs/anyscale-academy/lib/python3.7/site-packages/torchvision/datasets/mnist.py:498: UserWarning: The given NumPy array is not writeable, and PyTorch does not support non-writeable tensors. This means you can write to the underlying (supposedly non-writeable) NumPy array using the tensor. You may want to copy the array to protect its data or make it writeable before converting it to a tensor. This type of warning will be suppressed for the rest of this program. (Triggered internally at  /Users/runner/miniforge3/conda-bld/pytorch-recipe_1635217250457/work/torch/csrc/utils/tensor_numpy.cpp:189.)\n",
      "  return torch.from_numpy(parsed.astype(m[2], copy=False)).view(*s)\n"
     ]
    },
    {
     "name": "stdout",
     "output_type": "stream",
     "text": [
      "accuracy: 0.125\n",
      "accuracy: 0.15625\n",
      "accuracy: 0.153125\n",
      "accuracy: 0.140625\n",
      "accuracy: 0.159375\n",
      "accuracy: 0.165625\n",
      "accuracy: 0.16875\n",
      "accuracy: 0.19375\n",
      "accuracy: 0.16875\n",
      "accuracy: 0.196875\n"
     ]
    }
   ],
   "source": [
    "for lr, momentum in combinations:\n",
    "    train_mnist({\"lr\":lr, \"momentum\":momentum})\n",
    "    break # we'll stop this after one run and just use it for illustrative purposes"
   ]
  },
  {
   "cell_type": "markdown",
   "metadata": {},
   "source": [
    "### Distributed Hyperparameter Tuning with Ray Tune\n",
    "\n",
    "Ray Tune makes it trivial to move this code from a single node to multiple nodes. Let's see how to use the code we've written with Ray Tune.\n",
    "\n",
    "First, we set up Ray as before."
   ]
  },
  {
   "cell_type": "code",
   "execution_count": 10,
   "metadata": {},
   "outputs": [],
   "source": [
    "import ray\n",
    "from ray import tune"
   ]
  },
  {
   "cell_type": "code",
   "execution_count": 11,
   "metadata": {},
   "outputs": [
    {
     "name": "stderr",
     "output_type": "stream",
     "text": [
      "2022-02-21 11:53:15,024\tINFO services.py:1376 -- View the Ray dashboard at \u001b[1m\u001b[32mhttp://127.0.0.1:8265\u001b[39m\u001b[22m\n"
     ]
    },
    {
     "data": {
      "text/plain": [
       "{'node_ip_address': '127.0.0.1',\n",
       " 'raylet_ip_address': '127.0.0.1',\n",
       " 'redis_address': '127.0.0.1:6379',\n",
       " 'object_store_address': '/tmp/ray/session_2022-02-21_11-53-12_309410_14604/sockets/plasma_store',\n",
       " 'raylet_socket_name': '/tmp/ray/session_2022-02-21_11-53-12_309410_14604/sockets/raylet',\n",
       " 'webui_url': '127.0.0.1:8265',\n",
       " 'session_dir': '/tmp/ray/session_2022-02-21_11-53-12_309410_14604',\n",
       " 'metrics_export_port': 60000,\n",
       " 'gcs_address': '127.0.0.1:55789',\n",
       " 'node_id': 'addf869252d523ad15f5c44be013e55f53c5b8efe9028d62586613bb'}"
      ]
     },
     "execution_count": 11,
     "metadata": {},
     "output_type": "execute_result"
    }
   ],
   "source": [
    "ray.init(ignore_reinit_error=True)"
   ]
  },
  {
   "cell_type": "markdown",
   "metadata": {},
   "source": [
    "The first change is we'll perform a strict `grid_search` on our hyperparameters, like we used in the previous lesson. Our hyperparameters are the learning rate, `lr`, and the `momentum`."
   ]
  },
  {
   "cell_type": "code",
   "execution_count": 12,
   "metadata": {},
   "outputs": [],
   "source": [
    "config = {\n",
    "    \"lr\": tune.grid_search([0.001, 0.01, 0.1]),\n",
    "    \"momentum\": tune.grid_search([0.001, 0.01, 0.1, 0.9])\n",
    "}"
   ]
  },
  {
   "cell_type": "markdown",
   "metadata": {},
   "source": [
    "Next we modify our trainable, `train_mnist`, to use Tune's \"reporting\" logger:"
   ]
  },
  {
   "cell_type": "code",
   "execution_count": 13,
   "metadata": {},
   "outputs": [],
   "source": [
    "def train_mnist(config):\n",
    "    from ray.tune import report\n",
    "    train_loader, test_loader = get_data_loaders()\n",
    "    model = ConvNet()\n",
    "    optimizer = optim.SGD(model.parameters(), lr=config[\"lr\"], momentum=config['momentum'])\n",
    "    for i in range(10):\n",
    "        train(model, optimizer, train_loader)\n",
    "        acc = test(model, test_loader)\n",
    "        # This sends the score to Tune.\n",
    "        report(mean_accuracy=acc)"
   ]
  },
  {
   "cell_type": "markdown",
   "metadata": {},
   "source": [
    "That's all that we need to change in order for Ray Tune to be able to parallelize our different hyperparameter combinations. \n",
    "\n",
    "When we execute a hyperparameter sweep, we perform an **experiment**. Each distinct combination of our different hyperparameters constitutes a single **trial**."
   ]
  },
  {
   "cell_type": "markdown",
   "metadata": {},
   "source": [
    "## Tune's Functional vs. Class API\n",
    "\n",
    "In the above previous lesson, we used the **functional API**. This API is most convenient for quickly setting up experiments, but it provides less overall flexbility compared to the **class API** [`tune.Trainable`](https://docs.ray.io/en/latest/tune/api_docs/trainable.html#tune-trainable).\n",
    "\n",
    "We'll try both, starting with the functional API.\n",
    "\n",
    "We add a stopping criterion, `stop={\"training_iteration\": 20}`, so this will go reasonably quickly, while still producing good results. Consider removing this condition if you don't mind waiting longer and you want optimal results.\n",
    "\n",
    "**Note**: Unlike the functional API, in which you the trainable can call a `tune.report()`, the class API method `cls.step()` can only return a value."
   ]
  },
  {
   "cell_type": "code",
   "execution_count": 14,
   "metadata": {
    "scrolled": true
   },
   "outputs": [
    {
     "data": {
      "text/html": [
       "== Status ==<br>Current time: 2022-02-21 11:54:06 (running for 00:00:07.29)<br>Memory usage on this node: 17.0/32.0 GiB<br>Using FIFO scheduling algorithm.<br>Resources requested: 0/12 CPUs, 0/0 GPUs, 0.0/9.76 GiB heap, 0.0/4.88 GiB objects<br>Result logdir: /Users/jules/ray_results/train_mnist_2022-02-21_11-53-58<br>Number of trials: 12/12 (12 TERMINATED)<br><br>"
      ],
      "text/plain": [
       "<IPython.core.display.HTML object>"
      ]
     },
     "metadata": {},
     "output_type": "display_data"
    },
    {
     "name": "stderr",
     "output_type": "stream",
     "text": [
      "2022-02-21 11:54:06,562\tINFO tune.py:636 -- Total run time: 7.61 seconds (7.27 seconds for the tuning loop).\n"
     ]
    },
    {
     "name": "stdout",
     "output_type": "stream",
     "text": [
      "CPU times: user 988 ms, sys: 255 ms, total: 1.24 s\n",
      "Wall time: 7.65 s\n"
     ]
    }
   ],
   "source": [
    "%%time\n",
    "analysis_func = tune.run(train_mnist, config=config, stop={\"training_iteration\": 20},\n",
    "                         verbose=1)"
   ]
  },
  {
   "cell_type": "code",
   "execution_count": 15,
   "metadata": {},
   "outputs": [
    {
     "name": "stdout",
     "output_type": "stream",
     "text": [
      "Best config:  {'lr': 0.1, 'momentum': 0.1}\n"
     ]
    }
   ],
   "source": [
    "print(\"Best config: \", analysis_func.get_best_config(metric=\"mean_accuracy\", mode=\"max\"))"
   ]
  },
  {
   "cell_type": "code",
   "execution_count": 16,
   "metadata": {},
   "outputs": [
    {
     "data": {
      "text/html": [
       "<div>\n",
       "<style scoped>\n",
       "    .dataframe tbody tr th:only-of-type {\n",
       "        vertical-align: middle;\n",
       "    }\n",
       "\n",
       "    .dataframe tbody tr th {\n",
       "        vertical-align: top;\n",
       "    }\n",
       "\n",
       "    .dataframe thead th {\n",
       "        text-align: right;\n",
       "    }\n",
       "</style>\n",
       "<table border=\"1\" class=\"dataframe\">\n",
       "  <thead>\n",
       "    <tr style=\"text-align: right;\">\n",
       "      <th></th>\n",
       "      <th>mean_accuracy</th>\n",
       "      <th>time_this_iter_s</th>\n",
       "      <th>done</th>\n",
       "      <th>timesteps_total</th>\n",
       "      <th>episodes_total</th>\n",
       "      <th>training_iteration</th>\n",
       "      <th>trial_id</th>\n",
       "      <th>experiment_id</th>\n",
       "      <th>date</th>\n",
       "      <th>timestamp</th>\n",
       "      <th>time_total_s</th>\n",
       "      <th>pid</th>\n",
       "      <th>hostname</th>\n",
       "      <th>node_ip</th>\n",
       "      <th>time_since_restore</th>\n",
       "      <th>timesteps_since_restore</th>\n",
       "      <th>iterations_since_restore</th>\n",
       "      <th>config/lr</th>\n",
       "      <th>config/momentum</th>\n",
       "      <th>logdir</th>\n",
       "    </tr>\n",
       "  </thead>\n",
       "  <tbody>\n",
       "    <tr>\n",
       "      <th>8</th>\n",
       "      <td>0.896875</td>\n",
       "      <td>0.304352</td>\n",
       "      <td>False</td>\n",
       "      <td>NaN</td>\n",
       "      <td>NaN</td>\n",
       "      <td>10</td>\n",
       "      <td>02766_00008</td>\n",
       "      <td>cb239a5d5a4b455792050480a658ba1d</td>\n",
       "      <td>2022-02-21_11-54-06</td>\n",
       "      <td>1645473246</td>\n",
       "      <td>3.588721</td>\n",
       "      <td>14724</td>\n",
       "      <td>Juless-MacBook-Pro-16-inch-2019</td>\n",
       "      <td>127.0.0.1</td>\n",
       "      <td>3.588721</td>\n",
       "      <td>0</td>\n",
       "      <td>10</td>\n",
       "      <td>0.10</td>\n",
       "      <td>0.100</td>\n",
       "      <td>/Users/jules/ray_results/train_mnist_2022-02-2...</td>\n",
       "    </tr>\n",
       "    <tr>\n",
       "      <th>2</th>\n",
       "      <td>0.884375</td>\n",
       "      <td>0.303644</td>\n",
       "      <td>False</td>\n",
       "      <td>NaN</td>\n",
       "      <td>NaN</td>\n",
       "      <td>10</td>\n",
       "      <td>02766_00002</td>\n",
       "      <td>adea9b269fba42e28f0ac624e4602eaf</td>\n",
       "      <td>2022-02-21_11-54-05</td>\n",
       "      <td>1645473245</td>\n",
       "      <td>3.599486</td>\n",
       "      <td>14732</td>\n",
       "      <td>Juless-MacBook-Pro-16-inch-2019</td>\n",
       "      <td>127.0.0.1</td>\n",
       "      <td>3.599486</td>\n",
       "      <td>0</td>\n",
       "      <td>10</td>\n",
       "      <td>0.10</td>\n",
       "      <td>0.001</td>\n",
       "      <td>/Users/jules/ray_results/train_mnist_2022-02-2...</td>\n",
       "    </tr>\n",
       "    <tr>\n",
       "      <th>5</th>\n",
       "      <td>0.884375</td>\n",
       "      <td>0.287993</td>\n",
       "      <td>False</td>\n",
       "      <td>NaN</td>\n",
       "      <td>NaN</td>\n",
       "      <td>10</td>\n",
       "      <td>02766_00005</td>\n",
       "      <td>3bc58cca1bc44936916d482628bf86b4</td>\n",
       "      <td>2022-02-21_11-54-06</td>\n",
       "      <td>1645473246</td>\n",
       "      <td>3.760321</td>\n",
       "      <td>14728</td>\n",
       "      <td>Juless-MacBook-Pro-16-inch-2019</td>\n",
       "      <td>127.0.0.1</td>\n",
       "      <td>3.760321</td>\n",
       "      <td>0</td>\n",
       "      <td>10</td>\n",
       "      <td>0.10</td>\n",
       "      <td>0.010</td>\n",
       "      <td>/Users/jules/ray_results/train_mnist_2022-02-2...</td>\n",
       "    </tr>\n",
       "    <tr>\n",
       "      <th>10</th>\n",
       "      <td>0.878125</td>\n",
       "      <td>0.242178</td>\n",
       "      <td>False</td>\n",
       "      <td>NaN</td>\n",
       "      <td>NaN</td>\n",
       "      <td>10</td>\n",
       "      <td>02766_00010</td>\n",
       "      <td>431bc22437f040a784b0df3c9f35b280</td>\n",
       "      <td>2022-02-21_11-54-06</td>\n",
       "      <td>1645473246</td>\n",
       "      <td>3.832313</td>\n",
       "      <td>14722</td>\n",
       "      <td>Juless-MacBook-Pro-16-inch-2019</td>\n",
       "      <td>127.0.0.1</td>\n",
       "      <td>3.832313</td>\n",
       "      <td>0</td>\n",
       "      <td>10</td>\n",
       "      <td>0.01</td>\n",
       "      <td>0.900</td>\n",
       "      <td>/Users/jules/ray_results/train_mnist_2022-02-2...</td>\n",
       "    </tr>\n",
       "    <tr>\n",
       "      <th>11</th>\n",
       "      <td>0.856250</td>\n",
       "      <td>0.281464</td>\n",
       "      <td>False</td>\n",
       "      <td>NaN</td>\n",
       "      <td>NaN</td>\n",
       "      <td>10</td>\n",
       "      <td>02766_00011</td>\n",
       "      <td>4f10c07120a748a1ab47ab6af364b033</td>\n",
       "      <td>2022-02-21_11-54-06</td>\n",
       "      <td>1645473246</td>\n",
       "      <td>3.812603</td>\n",
       "      <td>14721</td>\n",
       "      <td>Juless-MacBook-Pro-16-inch-2019</td>\n",
       "      <td>127.0.0.1</td>\n",
       "      <td>3.812603</td>\n",
       "      <td>0</td>\n",
       "      <td>10</td>\n",
       "      <td>0.10</td>\n",
       "      <td>0.900</td>\n",
       "      <td>/Users/jules/ray_results/train_mnist_2022-02-2...</td>\n",
       "    </tr>\n",
       "  </tbody>\n",
       "</table>\n",
       "</div>"
      ],
      "text/plain": [
       "    mean_accuracy  time_this_iter_s   done  timesteps_total  episodes_total  \\\n",
       "8        0.896875          0.304352  False              NaN             NaN   \n",
       "2        0.884375          0.303644  False              NaN             NaN   \n",
       "5        0.884375          0.287993  False              NaN             NaN   \n",
       "10       0.878125          0.242178  False              NaN             NaN   \n",
       "11       0.856250          0.281464  False              NaN             NaN   \n",
       "\n",
       "    training_iteration     trial_id                     experiment_id  \\\n",
       "8                   10  02766_00008  cb239a5d5a4b455792050480a658ba1d   \n",
       "2                   10  02766_00002  adea9b269fba42e28f0ac624e4602eaf   \n",
       "5                   10  02766_00005  3bc58cca1bc44936916d482628bf86b4   \n",
       "10                  10  02766_00010  431bc22437f040a784b0df3c9f35b280   \n",
       "11                  10  02766_00011  4f10c07120a748a1ab47ab6af364b033   \n",
       "\n",
       "                   date   timestamp  time_total_s    pid  \\\n",
       "8   2022-02-21_11-54-06  1645473246      3.588721  14724   \n",
       "2   2022-02-21_11-54-05  1645473245      3.599486  14732   \n",
       "5   2022-02-21_11-54-06  1645473246      3.760321  14728   \n",
       "10  2022-02-21_11-54-06  1645473246      3.832313  14722   \n",
       "11  2022-02-21_11-54-06  1645473246      3.812603  14721   \n",
       "\n",
       "                           hostname    node_ip  time_since_restore  \\\n",
       "8   Juless-MacBook-Pro-16-inch-2019  127.0.0.1            3.588721   \n",
       "2   Juless-MacBook-Pro-16-inch-2019  127.0.0.1            3.599486   \n",
       "5   Juless-MacBook-Pro-16-inch-2019  127.0.0.1            3.760321   \n",
       "10  Juless-MacBook-Pro-16-inch-2019  127.0.0.1            3.832313   \n",
       "11  Juless-MacBook-Pro-16-inch-2019  127.0.0.1            3.812603   \n",
       "\n",
       "    timesteps_since_restore  iterations_since_restore  config/lr  \\\n",
       "8                         0                        10       0.10   \n",
       "2                         0                        10       0.10   \n",
       "5                         0                        10       0.10   \n",
       "10                        0                        10       0.01   \n",
       "11                        0                        10       0.10   \n",
       "\n",
       "    config/momentum                                             logdir  \n",
       "8             0.100  /Users/jules/ray_results/train_mnist_2022-02-2...  \n",
       "2             0.001  /Users/jules/ray_results/train_mnist_2022-02-2...  \n",
       "5             0.010  /Users/jules/ray_results/train_mnist_2022-02-2...  \n",
       "10            0.900  /Users/jules/ray_results/train_mnist_2022-02-2...  \n",
       "11            0.900  /Users/jules/ray_results/train_mnist_2022-02-2...  "
      ]
     },
     "execution_count": 16,
     "metadata": {},
     "output_type": "execute_result"
    }
   ],
   "source": [
    "analysis_func.dataframe().sort_values('mean_accuracy', ascending=False).head()"
   ]
  },
  {
   "cell_type": "code",
   "execution_count": 17,
   "metadata": {},
   "outputs": [
    {
     "data": {
      "text/html": [
       "<div>\n",
       "<style scoped>\n",
       "    .dataframe tbody tr th:only-of-type {\n",
       "        vertical-align: middle;\n",
       "    }\n",
       "\n",
       "    .dataframe tbody tr th {\n",
       "        vertical-align: top;\n",
       "    }\n",
       "\n",
       "    .dataframe thead th {\n",
       "        text-align: right;\n",
       "    }\n",
       "</style>\n",
       "<table border=\"1\" class=\"dataframe\">\n",
       "  <thead>\n",
       "    <tr style=\"text-align: right;\">\n",
       "      <th></th>\n",
       "      <th>mean_accuracy</th>\n",
       "      <th>config/lr</th>\n",
       "      <th>config/momentum</th>\n",
       "    </tr>\n",
       "  </thead>\n",
       "  <tbody>\n",
       "    <tr>\n",
       "      <th>8</th>\n",
       "      <td>0.896875</td>\n",
       "      <td>0.100</td>\n",
       "      <td>0.100</td>\n",
       "    </tr>\n",
       "    <tr>\n",
       "      <th>2</th>\n",
       "      <td>0.884375</td>\n",
       "      <td>0.100</td>\n",
       "      <td>0.001</td>\n",
       "    </tr>\n",
       "    <tr>\n",
       "      <th>5</th>\n",
       "      <td>0.884375</td>\n",
       "      <td>0.100</td>\n",
       "      <td>0.010</td>\n",
       "    </tr>\n",
       "    <tr>\n",
       "      <th>10</th>\n",
       "      <td>0.878125</td>\n",
       "      <td>0.010</td>\n",
       "      <td>0.900</td>\n",
       "    </tr>\n",
       "    <tr>\n",
       "      <th>11</th>\n",
       "      <td>0.856250</td>\n",
       "      <td>0.100</td>\n",
       "      <td>0.900</td>\n",
       "    </tr>\n",
       "    <tr>\n",
       "      <th>7</th>\n",
       "      <td>0.784375</td>\n",
       "      <td>0.010</td>\n",
       "      <td>0.100</td>\n",
       "    </tr>\n",
       "    <tr>\n",
       "      <th>1</th>\n",
       "      <td>0.725000</td>\n",
       "      <td>0.010</td>\n",
       "      <td>0.001</td>\n",
       "    </tr>\n",
       "    <tr>\n",
       "      <th>9</th>\n",
       "      <td>0.450000</td>\n",
       "      <td>0.001</td>\n",
       "      <td>0.900</td>\n",
       "    </tr>\n",
       "    <tr>\n",
       "      <th>4</th>\n",
       "      <td>0.343750</td>\n",
       "      <td>0.010</td>\n",
       "      <td>0.010</td>\n",
       "    </tr>\n",
       "    <tr>\n",
       "      <th>0</th>\n",
       "      <td>0.134375</td>\n",
       "      <td>0.001</td>\n",
       "      <td>0.001</td>\n",
       "    </tr>\n",
       "    <tr>\n",
       "      <th>6</th>\n",
       "      <td>0.087500</td>\n",
       "      <td>0.001</td>\n",
       "      <td>0.100</td>\n",
       "    </tr>\n",
       "    <tr>\n",
       "      <th>3</th>\n",
       "      <td>0.068750</td>\n",
       "      <td>0.001</td>\n",
       "      <td>0.010</td>\n",
       "    </tr>\n",
       "  </tbody>\n",
       "</table>\n",
       "</div>"
      ],
      "text/plain": [
       "    mean_accuracy  config/lr  config/momentum\n",
       "8        0.896875      0.100            0.100\n",
       "2        0.884375      0.100            0.001\n",
       "5        0.884375      0.100            0.010\n",
       "10       0.878125      0.010            0.900\n",
       "11       0.856250      0.100            0.900\n",
       "7        0.784375      0.010            0.100\n",
       "1        0.725000      0.010            0.001\n",
       "9        0.450000      0.001            0.900\n",
       "4        0.343750      0.010            0.010\n",
       "0        0.134375      0.001            0.001\n",
       "6        0.087500      0.001            0.100\n",
       "3        0.068750      0.001            0.010"
      ]
     },
     "execution_count": 17,
     "metadata": {},
     "output_type": "execute_result"
    }
   ],
   "source": [
    "analysis_func.dataframe()[['mean_accuracy', 'config/lr', 'config/momentum']].sort_values('mean_accuracy', ascending=False)"
   ]
  },
  {
   "cell_type": "markdown",
   "metadata": {},
   "source": [
    "How long did it take? We'll compare this value with a different training run in the next lesson."
   ]
  },
  {
   "cell_type": "code",
   "execution_count": 18,
   "metadata": {},
   "outputs": [
    {
     "name": "stdout",
     "output_type": "stream",
     "text": [
      "   0.20 seconds,    0.00 minutes\n"
     ]
    }
   ],
   "source": [
    "stats = analysis_func.stats()\n",
    "secs = stats[\"timestamp\"] - stats[\"start_time\"]\n",
    "print(f'{secs:7.2f} seconds, {secs/60.0:7.2f} minutes')"
   ]
  },
  {
   "cell_type": "markdown",
   "metadata": {},
   "source": [
    "### Use Tune's Trainable Class API"
   ]
  },
  {
   "cell_type": "markdown",
   "metadata": {},
   "source": [
    "As a subclass of `tune.Trainable`, Tune will create a Trainable object on a separate process (using the [Ray Actor API](https://docs.ray.io/en/latest/actors.html#actor-guide)).\n",
    "\n",
    " * setup function is invoked once training starts.\n",
    " * step is invoked multiple times. Each time, the Trainable object executes one logical iteration of training in the tuning process, which may include one or more iterations of actual training.\n"
   ]
  },
  {
   "cell_type": "code",
   "execution_count": 19,
   "metadata": {},
   "outputs": [],
   "source": [
    "class TrainMNIST(tune.Trainable):\n",
    "    def setup(self, config):\n",
    "        self.config = config\n",
    "        self.train_loader, self.test_loader = get_data_loaders()\n",
    "        self.model = ConvNet()\n",
    "        self.optimizer = optim.SGD(self.model.parameters(), lr=self.config[\"lr\"])\n",
    "    \n",
    "    def step(self):\n",
    "        train(self.model, self.optimizer, self.train_loader)\n",
    "        acc = test(self.model, self.test_loader)\n",
    "        return {\"mean_accuracy\": acc}"
   ]
  },
  {
   "cell_type": "code",
   "execution_count": 20,
   "metadata": {
    "scrolled": true
   },
   "outputs": [
    {
     "data": {
      "text/html": [
       "== Status ==<br>Current time: 2022-02-21 11:55:01 (running for 00:00:12.47)<br>Memory usage on this node: 18.1/32.0 GiB<br>Using FIFO scheduling algorithm.<br>Resources requested: 0/12 CPUs, 0/0 GPUs, 0.0/9.76 GiB heap, 0.0/4.88 GiB objects<br>Result logdir: /Users/jules/ray_results/TrainMNIST_2022-02-21_11-54-49<br>Number of trials: 12/12 (12 TERMINATED)<br><br>"
      ],
      "text/plain": [
       "<IPython.core.display.HTML object>"
      ]
     },
     "metadata": {},
     "output_type": "display_data"
    },
    {
     "name": "stderr",
     "output_type": "stream",
     "text": [
      "2022-02-21 11:55:01,905\tINFO tune.py:636 -- Total run time: 12.60 seconds (12.45 seconds for the tuning loop).\n"
     ]
    },
    {
     "name": "stdout",
     "output_type": "stream",
     "text": [
      "CPU times: user 2.37 s, sys: 468 ms, total: 2.84 s\n",
      "Wall time: 12.6 s\n"
     ]
    }
   ],
   "source": [
    "%%time\n",
    "analysis = tune.run(\n",
    "    TrainMNIST, \n",
    "    config=config,\n",
    "    stop={\"training_iteration\": 20},\n",
    "    verbose=1\n",
    ")"
   ]
  },
  {
   "cell_type": "code",
   "execution_count": 21,
   "metadata": {},
   "outputs": [
    {
     "name": "stdout",
     "output_type": "stream",
     "text": [
      "Best config:  {'lr': 0.1, 'momentum': 0.001}\n"
     ]
    }
   ],
   "source": [
    "print(\"Best config: \", analysis.get_best_config(metric=\"mean_accuracy\", mode=\"max\"))"
   ]
  },
  {
   "cell_type": "code",
   "execution_count": 22,
   "metadata": {},
   "outputs": [
    {
     "data": {
      "text/html": [
       "<div>\n",
       "<style scoped>\n",
       "    .dataframe tbody tr th:only-of-type {\n",
       "        vertical-align: middle;\n",
       "    }\n",
       "\n",
       "    .dataframe tbody tr th {\n",
       "        vertical-align: top;\n",
       "    }\n",
       "\n",
       "    .dataframe thead th {\n",
       "        text-align: right;\n",
       "    }\n",
       "</style>\n",
       "<table border=\"1\" class=\"dataframe\">\n",
       "  <thead>\n",
       "    <tr style=\"text-align: right;\">\n",
       "      <th></th>\n",
       "      <th>mean_accuracy</th>\n",
       "      <th>done</th>\n",
       "      <th>timesteps_total</th>\n",
       "      <th>episodes_total</th>\n",
       "      <th>training_iteration</th>\n",
       "      <th>trial_id</th>\n",
       "      <th>experiment_id</th>\n",
       "      <th>date</th>\n",
       "      <th>timestamp</th>\n",
       "      <th>time_this_iter_s</th>\n",
       "      <th>time_total_s</th>\n",
       "      <th>pid</th>\n",
       "      <th>hostname</th>\n",
       "      <th>node_ip</th>\n",
       "      <th>time_since_restore</th>\n",
       "      <th>timesteps_since_restore</th>\n",
       "      <th>iterations_since_restore</th>\n",
       "      <th>config/lr</th>\n",
       "      <th>config/momentum</th>\n",
       "      <th>logdir</th>\n",
       "    </tr>\n",
       "  </thead>\n",
       "  <tbody>\n",
       "    <tr>\n",
       "      <th>0</th>\n",
       "      <td>0.225000</td>\n",
       "      <td>True</td>\n",
       "      <td>NaN</td>\n",
       "      <td>NaN</td>\n",
       "      <td>20</td>\n",
       "      <td>2079a_00000</td>\n",
       "      <td>d4e07b4ab61540258ce7137f6b22ee8e</td>\n",
       "      <td>2022-02-21_11-55-01</td>\n",
       "      <td>1645473301</td>\n",
       "      <td>0.318386</td>\n",
       "      <td>6.481498</td>\n",
       "      <td>14926</td>\n",
       "      <td>Juless-MacBook-Pro-16-inch-2019</td>\n",
       "      <td>127.0.0.1</td>\n",
       "      <td>6.481498</td>\n",
       "      <td>0</td>\n",
       "      <td>20</td>\n",
       "      <td>0.001</td>\n",
       "      <td>0.001</td>\n",
       "      <td>/Users/jules/ray_results/TrainMNIST_2022-02-21...</td>\n",
       "    </tr>\n",
       "    <tr>\n",
       "      <th>1</th>\n",
       "      <td>0.846875</td>\n",
       "      <td>True</td>\n",
       "      <td>NaN</td>\n",
       "      <td>NaN</td>\n",
       "      <td>20</td>\n",
       "      <td>2079a_00001</td>\n",
       "      <td>1de6220bb4374a3eafe7943317b7096d</td>\n",
       "      <td>2022-02-21_11-55-01</td>\n",
       "      <td>1645473301</td>\n",
       "      <td>0.291061</td>\n",
       "      <td>6.543176</td>\n",
       "      <td>14924</td>\n",
       "      <td>Juless-MacBook-Pro-16-inch-2019</td>\n",
       "      <td>127.0.0.1</td>\n",
       "      <td>6.543176</td>\n",
       "      <td>0</td>\n",
       "      <td>20</td>\n",
       "      <td>0.010</td>\n",
       "      <td>0.001</td>\n",
       "      <td>/Users/jules/ray_results/TrainMNIST_2022-02-21...</td>\n",
       "    </tr>\n",
       "    <tr>\n",
       "      <th>2</th>\n",
       "      <td>0.921875</td>\n",
       "      <td>True</td>\n",
       "      <td>NaN</td>\n",
       "      <td>NaN</td>\n",
       "      <td>20</td>\n",
       "      <td>2079a_00002</td>\n",
       "      <td>b99e423fed144e43a63ae4cb2f3e65a1</td>\n",
       "      <td>2022-02-21_11-55-01</td>\n",
       "      <td>1645473301</td>\n",
       "      <td>0.285952</td>\n",
       "      <td>6.454046</td>\n",
       "      <td>14917</td>\n",
       "      <td>Juless-MacBook-Pro-16-inch-2019</td>\n",
       "      <td>127.0.0.1</td>\n",
       "      <td>6.454046</td>\n",
       "      <td>0</td>\n",
       "      <td>20</td>\n",
       "      <td>0.100</td>\n",
       "      <td>0.001</td>\n",
       "      <td>/Users/jules/ray_results/TrainMNIST_2022-02-21...</td>\n",
       "    </tr>\n",
       "    <tr>\n",
       "      <th>3</th>\n",
       "      <td>0.190625</td>\n",
       "      <td>True</td>\n",
       "      <td>NaN</td>\n",
       "      <td>NaN</td>\n",
       "      <td>20</td>\n",
       "      <td>2079a_00003</td>\n",
       "      <td>8924290b2d35403b8cae7df5814c6d45</td>\n",
       "      <td>2022-02-21_11-55-01</td>\n",
       "      <td>1645473301</td>\n",
       "      <td>0.323717</td>\n",
       "      <td>6.314408</td>\n",
       "      <td>14921</td>\n",
       "      <td>Juless-MacBook-Pro-16-inch-2019</td>\n",
       "      <td>127.0.0.1</td>\n",
       "      <td>6.314408</td>\n",
       "      <td>0</td>\n",
       "      <td>20</td>\n",
       "      <td>0.001</td>\n",
       "      <td>0.010</td>\n",
       "      <td>/Users/jules/ray_results/TrainMNIST_2022-02-21...</td>\n",
       "    </tr>\n",
       "    <tr>\n",
       "      <th>4</th>\n",
       "      <td>0.678125</td>\n",
       "      <td>True</td>\n",
       "      <td>NaN</td>\n",
       "      <td>NaN</td>\n",
       "      <td>20</td>\n",
       "      <td>2079a_00004</td>\n",
       "      <td>3f6ead58137c4eeab12f52d56ba11cb4</td>\n",
       "      <td>2022-02-21_11-55-01</td>\n",
       "      <td>1645473301</td>\n",
       "      <td>0.309406</td>\n",
       "      <td>6.444861</td>\n",
       "      <td>14919</td>\n",
       "      <td>Juless-MacBook-Pro-16-inch-2019</td>\n",
       "      <td>127.0.0.1</td>\n",
       "      <td>6.444861</td>\n",
       "      <td>0</td>\n",
       "      <td>20</td>\n",
       "      <td>0.010</td>\n",
       "      <td>0.010</td>\n",
       "      <td>/Users/jules/ray_results/TrainMNIST_2022-02-21...</td>\n",
       "    </tr>\n",
       "  </tbody>\n",
       "</table>\n",
       "</div>"
      ],
      "text/plain": [
       "   mean_accuracy  done  timesteps_total  episodes_total  training_iteration  \\\n",
       "0       0.225000  True              NaN             NaN                  20   \n",
       "1       0.846875  True              NaN             NaN                  20   \n",
       "2       0.921875  True              NaN             NaN                  20   \n",
       "3       0.190625  True              NaN             NaN                  20   \n",
       "4       0.678125  True              NaN             NaN                  20   \n",
       "\n",
       "      trial_id                     experiment_id                 date  \\\n",
       "0  2079a_00000  d4e07b4ab61540258ce7137f6b22ee8e  2022-02-21_11-55-01   \n",
       "1  2079a_00001  1de6220bb4374a3eafe7943317b7096d  2022-02-21_11-55-01   \n",
       "2  2079a_00002  b99e423fed144e43a63ae4cb2f3e65a1  2022-02-21_11-55-01   \n",
       "3  2079a_00003  8924290b2d35403b8cae7df5814c6d45  2022-02-21_11-55-01   \n",
       "4  2079a_00004  3f6ead58137c4eeab12f52d56ba11cb4  2022-02-21_11-55-01   \n",
       "\n",
       "    timestamp  time_this_iter_s  time_total_s    pid  \\\n",
       "0  1645473301          0.318386      6.481498  14926   \n",
       "1  1645473301          0.291061      6.543176  14924   \n",
       "2  1645473301          0.285952      6.454046  14917   \n",
       "3  1645473301          0.323717      6.314408  14921   \n",
       "4  1645473301          0.309406      6.444861  14919   \n",
       "\n",
       "                          hostname    node_ip  time_since_restore  \\\n",
       "0  Juless-MacBook-Pro-16-inch-2019  127.0.0.1            6.481498   \n",
       "1  Juless-MacBook-Pro-16-inch-2019  127.0.0.1            6.543176   \n",
       "2  Juless-MacBook-Pro-16-inch-2019  127.0.0.1            6.454046   \n",
       "3  Juless-MacBook-Pro-16-inch-2019  127.0.0.1            6.314408   \n",
       "4  Juless-MacBook-Pro-16-inch-2019  127.0.0.1            6.444861   \n",
       "\n",
       "   timesteps_since_restore  iterations_since_restore  config/lr  \\\n",
       "0                        0                        20      0.001   \n",
       "1                        0                        20      0.010   \n",
       "2                        0                        20      0.100   \n",
       "3                        0                        20      0.001   \n",
       "4                        0                        20      0.010   \n",
       "\n",
       "   config/momentum                                             logdir  \n",
       "0            0.001  /Users/jules/ray_results/TrainMNIST_2022-02-21...  \n",
       "1            0.001  /Users/jules/ray_results/TrainMNIST_2022-02-21...  \n",
       "2            0.001  /Users/jules/ray_results/TrainMNIST_2022-02-21...  \n",
       "3            0.010  /Users/jules/ray_results/TrainMNIST_2022-02-21...  \n",
       "4            0.010  /Users/jules/ray_results/TrainMNIST_2022-02-21...  "
      ]
     },
     "execution_count": 22,
     "metadata": {},
     "output_type": "execute_result"
    }
   ],
   "source": [
    "# Get a dataframe for analyzing trial results.\n",
    "df = analysis.dataframe()\n",
    "df.head()"
   ]
  },
  {
   "cell_type": "code",
   "execution_count": 23,
   "metadata": {},
   "outputs": [
    {
     "data": {
      "text/html": [
       "<div>\n",
       "<style scoped>\n",
       "    .dataframe tbody tr th:only-of-type {\n",
       "        vertical-align: middle;\n",
       "    }\n",
       "\n",
       "    .dataframe tbody tr th {\n",
       "        vertical-align: top;\n",
       "    }\n",
       "\n",
       "    .dataframe thead th {\n",
       "        text-align: right;\n",
       "    }\n",
       "</style>\n",
       "<table border=\"1\" class=\"dataframe\">\n",
       "  <thead>\n",
       "    <tr style=\"text-align: right;\">\n",
       "      <th></th>\n",
       "      <th>mean_accuracy</th>\n",
       "      <th>done</th>\n",
       "      <th>timesteps_total</th>\n",
       "      <th>episodes_total</th>\n",
       "      <th>training_iteration</th>\n",
       "      <th>trial_id</th>\n",
       "      <th>experiment_id</th>\n",
       "      <th>date</th>\n",
       "      <th>timestamp</th>\n",
       "      <th>time_this_iter_s</th>\n",
       "      <th>time_total_s</th>\n",
       "      <th>pid</th>\n",
       "      <th>hostname</th>\n",
       "      <th>node_ip</th>\n",
       "      <th>time_since_restore</th>\n",
       "      <th>timesteps_since_restore</th>\n",
       "      <th>iterations_since_restore</th>\n",
       "      <th>config/lr</th>\n",
       "      <th>config/momentum</th>\n",
       "      <th>logdir</th>\n",
       "    </tr>\n",
       "  </thead>\n",
       "  <tbody>\n",
       "    <tr>\n",
       "      <th>2</th>\n",
       "      <td>0.921875</td>\n",
       "      <td>True</td>\n",
       "      <td>NaN</td>\n",
       "      <td>NaN</td>\n",
       "      <td>20</td>\n",
       "      <td>2079a_00002</td>\n",
       "      <td>b99e423fed144e43a63ae4cb2f3e65a1</td>\n",
       "      <td>2022-02-21_11-55-01</td>\n",
       "      <td>1645473301</td>\n",
       "      <td>0.285952</td>\n",
       "      <td>6.454046</td>\n",
       "      <td>14917</td>\n",
       "      <td>Juless-MacBook-Pro-16-inch-2019</td>\n",
       "      <td>127.0.0.1</td>\n",
       "      <td>6.454046</td>\n",
       "      <td>0</td>\n",
       "      <td>20</td>\n",
       "      <td>0.10</td>\n",
       "      <td>0.001</td>\n",
       "      <td>/Users/jules/ray_results/TrainMNIST_2022-02-21...</td>\n",
       "    </tr>\n",
       "    <tr>\n",
       "      <th>11</th>\n",
       "      <td>0.912500</td>\n",
       "      <td>True</td>\n",
       "      <td>NaN</td>\n",
       "      <td>NaN</td>\n",
       "      <td>20</td>\n",
       "      <td>2079a_00011</td>\n",
       "      <td>15cb1e80f33c42b3b3ed4d81cd3b7aac</td>\n",
       "      <td>2022-02-21_11-55-01</td>\n",
       "      <td>1645473301</td>\n",
       "      <td>0.301283</td>\n",
       "      <td>6.367992</td>\n",
       "      <td>14952</td>\n",
       "      <td>Juless-MacBook-Pro-16-inch-2019</td>\n",
       "      <td>127.0.0.1</td>\n",
       "      <td>6.367992</td>\n",
       "      <td>0</td>\n",
       "      <td>20</td>\n",
       "      <td>0.10</td>\n",
       "      <td>0.900</td>\n",
       "      <td>/Users/jules/ray_results/TrainMNIST_2022-02-21...</td>\n",
       "    </tr>\n",
       "    <tr>\n",
       "      <th>5</th>\n",
       "      <td>0.906250</td>\n",
       "      <td>True</td>\n",
       "      <td>NaN</td>\n",
       "      <td>NaN</td>\n",
       "      <td>20</td>\n",
       "      <td>2079a_00005</td>\n",
       "      <td>23faa290f2754b759924fcbafdb642de</td>\n",
       "      <td>2022-02-21_11-55-01</td>\n",
       "      <td>1645473301</td>\n",
       "      <td>0.312569</td>\n",
       "      <td>6.361443</td>\n",
       "      <td>14923</td>\n",
       "      <td>Juless-MacBook-Pro-16-inch-2019</td>\n",
       "      <td>127.0.0.1</td>\n",
       "      <td>6.361443</td>\n",
       "      <td>0</td>\n",
       "      <td>20</td>\n",
       "      <td>0.10</td>\n",
       "      <td>0.010</td>\n",
       "      <td>/Users/jules/ray_results/TrainMNIST_2022-02-21...</td>\n",
       "    </tr>\n",
       "    <tr>\n",
       "      <th>7</th>\n",
       "      <td>0.884375</td>\n",
       "      <td>True</td>\n",
       "      <td>NaN</td>\n",
       "      <td>NaN</td>\n",
       "      <td>20</td>\n",
       "      <td>2079a_00007</td>\n",
       "      <td>5b012323c8104b9398284de86fb8b83c</td>\n",
       "      <td>2022-02-21_11-55-01</td>\n",
       "      <td>1645473301</td>\n",
       "      <td>0.321634</td>\n",
       "      <td>6.381609</td>\n",
       "      <td>14922</td>\n",
       "      <td>Juless-MacBook-Pro-16-inch-2019</td>\n",
       "      <td>127.0.0.1</td>\n",
       "      <td>6.381609</td>\n",
       "      <td>0</td>\n",
       "      <td>20</td>\n",
       "      <td>0.01</td>\n",
       "      <td>0.100</td>\n",
       "      <td>/Users/jules/ray_results/TrainMNIST_2022-02-21...</td>\n",
       "    </tr>\n",
       "    <tr>\n",
       "      <th>8</th>\n",
       "      <td>0.878125</td>\n",
       "      <td>True</td>\n",
       "      <td>NaN</td>\n",
       "      <td>NaN</td>\n",
       "      <td>20</td>\n",
       "      <td>2079a_00008</td>\n",
       "      <td>e00d07d9117d48dfa3aba76a1480f72c</td>\n",
       "      <td>2022-02-21_11-55-01</td>\n",
       "      <td>1645473301</td>\n",
       "      <td>0.253248</td>\n",
       "      <td>6.430459</td>\n",
       "      <td>14916</td>\n",
       "      <td>Juless-MacBook-Pro-16-inch-2019</td>\n",
       "      <td>127.0.0.1</td>\n",
       "      <td>6.430459</td>\n",
       "      <td>0</td>\n",
       "      <td>20</td>\n",
       "      <td>0.10</td>\n",
       "      <td>0.100</td>\n",
       "      <td>/Users/jules/ray_results/TrainMNIST_2022-02-21...</td>\n",
       "    </tr>\n",
       "  </tbody>\n",
       "</table>\n",
       "</div>"
      ],
      "text/plain": [
       "    mean_accuracy  done  timesteps_total  episodes_total  training_iteration  \\\n",
       "2        0.921875  True              NaN             NaN                  20   \n",
       "11       0.912500  True              NaN             NaN                  20   \n",
       "5        0.906250  True              NaN             NaN                  20   \n",
       "7        0.884375  True              NaN             NaN                  20   \n",
       "8        0.878125  True              NaN             NaN                  20   \n",
       "\n",
       "       trial_id                     experiment_id                 date  \\\n",
       "2   2079a_00002  b99e423fed144e43a63ae4cb2f3e65a1  2022-02-21_11-55-01   \n",
       "11  2079a_00011  15cb1e80f33c42b3b3ed4d81cd3b7aac  2022-02-21_11-55-01   \n",
       "5   2079a_00005  23faa290f2754b759924fcbafdb642de  2022-02-21_11-55-01   \n",
       "7   2079a_00007  5b012323c8104b9398284de86fb8b83c  2022-02-21_11-55-01   \n",
       "8   2079a_00008  e00d07d9117d48dfa3aba76a1480f72c  2022-02-21_11-55-01   \n",
       "\n",
       "     timestamp  time_this_iter_s  time_total_s    pid  \\\n",
       "2   1645473301          0.285952      6.454046  14917   \n",
       "11  1645473301          0.301283      6.367992  14952   \n",
       "5   1645473301          0.312569      6.361443  14923   \n",
       "7   1645473301          0.321634      6.381609  14922   \n",
       "8   1645473301          0.253248      6.430459  14916   \n",
       "\n",
       "                           hostname    node_ip  time_since_restore  \\\n",
       "2   Juless-MacBook-Pro-16-inch-2019  127.0.0.1            6.454046   \n",
       "11  Juless-MacBook-Pro-16-inch-2019  127.0.0.1            6.367992   \n",
       "5   Juless-MacBook-Pro-16-inch-2019  127.0.0.1            6.361443   \n",
       "7   Juless-MacBook-Pro-16-inch-2019  127.0.0.1            6.381609   \n",
       "8   Juless-MacBook-Pro-16-inch-2019  127.0.0.1            6.430459   \n",
       "\n",
       "    timesteps_since_restore  iterations_since_restore  config/lr  \\\n",
       "2                         0                        20       0.10   \n",
       "11                        0                        20       0.10   \n",
       "5                         0                        20       0.10   \n",
       "7                         0                        20       0.01   \n",
       "8                         0                        20       0.10   \n",
       "\n",
       "    config/momentum                                             logdir  \n",
       "2             0.001  /Users/jules/ray_results/TrainMNIST_2022-02-21...  \n",
       "11            0.900  /Users/jules/ray_results/TrainMNIST_2022-02-21...  \n",
       "5             0.010  /Users/jules/ray_results/TrainMNIST_2022-02-21...  \n",
       "7             0.100  /Users/jules/ray_results/TrainMNIST_2022-02-21...  \n",
       "8             0.100  /Users/jules/ray_results/TrainMNIST_2022-02-21...  "
      ]
     },
     "execution_count": 23,
     "metadata": {},
     "output_type": "execute_result"
    }
   ],
   "source": [
    "analysis.dataframe().sort_values('mean_accuracy', ascending=False).head()"
   ]
  },
  {
   "cell_type": "markdown",
   "metadata": {},
   "source": [
    "It's easier to see what we want if project out the interesting columns:"
   ]
  },
  {
   "cell_type": "code",
   "execution_count": 24,
   "metadata": {},
   "outputs": [
    {
     "data": {
      "text/html": [
       "<div>\n",
       "<style scoped>\n",
       "    .dataframe tbody tr th:only-of-type {\n",
       "        vertical-align: middle;\n",
       "    }\n",
       "\n",
       "    .dataframe tbody tr th {\n",
       "        vertical-align: top;\n",
       "    }\n",
       "\n",
       "    .dataframe thead th {\n",
       "        text-align: right;\n",
       "    }\n",
       "</style>\n",
       "<table border=\"1\" class=\"dataframe\">\n",
       "  <thead>\n",
       "    <tr style=\"text-align: right;\">\n",
       "      <th></th>\n",
       "      <th>mean_accuracy</th>\n",
       "      <th>config/lr</th>\n",
       "      <th>config/momentum</th>\n",
       "    </tr>\n",
       "  </thead>\n",
       "  <tbody>\n",
       "    <tr>\n",
       "      <th>2</th>\n",
       "      <td>0.921875</td>\n",
       "      <td>0.100</td>\n",
       "      <td>0.001</td>\n",
       "    </tr>\n",
       "    <tr>\n",
       "      <th>11</th>\n",
       "      <td>0.912500</td>\n",
       "      <td>0.100</td>\n",
       "      <td>0.900</td>\n",
       "    </tr>\n",
       "    <tr>\n",
       "      <th>5</th>\n",
       "      <td>0.906250</td>\n",
       "      <td>0.100</td>\n",
       "      <td>0.010</td>\n",
       "    </tr>\n",
       "    <tr>\n",
       "      <th>7</th>\n",
       "      <td>0.884375</td>\n",
       "      <td>0.010</td>\n",
       "      <td>0.100</td>\n",
       "    </tr>\n",
       "    <tr>\n",
       "      <th>8</th>\n",
       "      <td>0.878125</td>\n",
       "      <td>0.100</td>\n",
       "      <td>0.100</td>\n",
       "    </tr>\n",
       "    <tr>\n",
       "      <th>1</th>\n",
       "      <td>0.846875</td>\n",
       "      <td>0.010</td>\n",
       "      <td>0.001</td>\n",
       "    </tr>\n",
       "    <tr>\n",
       "      <th>10</th>\n",
       "      <td>0.800000</td>\n",
       "      <td>0.010</td>\n",
       "      <td>0.900</td>\n",
       "    </tr>\n",
       "    <tr>\n",
       "      <th>4</th>\n",
       "      <td>0.678125</td>\n",
       "      <td>0.010</td>\n",
       "      <td>0.010</td>\n",
       "    </tr>\n",
       "    <tr>\n",
       "      <th>6</th>\n",
       "      <td>0.271875</td>\n",
       "      <td>0.001</td>\n",
       "      <td>0.100</td>\n",
       "    </tr>\n",
       "    <tr>\n",
       "      <th>0</th>\n",
       "      <td>0.225000</td>\n",
       "      <td>0.001</td>\n",
       "      <td>0.001</td>\n",
       "    </tr>\n",
       "    <tr>\n",
       "      <th>9</th>\n",
       "      <td>0.196875</td>\n",
       "      <td>0.001</td>\n",
       "      <td>0.900</td>\n",
       "    </tr>\n",
       "    <tr>\n",
       "      <th>3</th>\n",
       "      <td>0.190625</td>\n",
       "      <td>0.001</td>\n",
       "      <td>0.010</td>\n",
       "    </tr>\n",
       "  </tbody>\n",
       "</table>\n",
       "</div>"
      ],
      "text/plain": [
       "    mean_accuracy  config/lr  config/momentum\n",
       "2        0.921875      0.100            0.001\n",
       "11       0.912500      0.100            0.900\n",
       "5        0.906250      0.100            0.010\n",
       "7        0.884375      0.010            0.100\n",
       "8        0.878125      0.100            0.100\n",
       "1        0.846875      0.010            0.001\n",
       "10       0.800000      0.010            0.900\n",
       "4        0.678125      0.010            0.010\n",
       "6        0.271875      0.001            0.100\n",
       "0        0.225000      0.001            0.001\n",
       "9        0.196875      0.001            0.900\n",
       "3        0.190625      0.001            0.010"
      ]
     },
     "execution_count": 24,
     "metadata": {},
     "output_type": "execute_result"
    }
   ],
   "source": [
    "analysis.dataframe()[['mean_accuracy', 'config/lr', 'config/momentum']].sort_values('mean_accuracy', ascending=False)"
   ]
  },
  {
   "cell_type": "markdown",
   "metadata": {},
   "source": [
    "How long did it take? We'll compare this value with a different training run in the next lesson."
   ]
  },
  {
   "cell_type": "code",
   "execution_count": 25,
   "metadata": {},
   "outputs": [
    {
     "name": "stdout",
     "output_type": "stream",
     "text": [
      "  10.24 seconds,    0.17 minutes\n"
     ]
    }
   ],
   "source": [
    "stats = analysis.stats()\n",
    "secs = stats[\"timestamp\"] - stats[\"start_time\"]\n",
    "print(f'{secs:7.2f} seconds, {secs/60.0:7.2f} minutes')"
   ]
  },
  {
   "cell_type": "markdown",
   "metadata": {},
   "source": [
    "The next lesson will explore optimization algorithms that speed up HPO."
   ]
  },
  {
   "cell_type": "code",
   "execution_count": 26,
   "metadata": {},
   "outputs": [],
   "source": [
    "ray.shutdown()  # \"Undo ray.init()\"."
   ]
  }
 ],
 "metadata": {
  "kernelspec": {
   "display_name": "Python 3",
   "language": "python",
   "name": "python3"
  },
  "language_info": {
   "codemirror_mode": {
    "name": "ipython",
    "version": 3
   },
   "file_extension": ".py",
   "mimetype": "text/x-python",
   "name": "python",
   "nbconvert_exporter": "python",
   "pygments_lexer": "ipython3",
   "version": "3.8.5"
  }
 },
 "nbformat": 4,
 "nbformat_minor": 4
}
