{
 "cells": [
  {
   "cell_type": "markdown",
   "metadata": {},
   "source": [
    "# Ray Tune - A Deeper Dive Using MNIST with PyTorch\n",
    "\n",
    "© 2019-2021, Anyscale. All Rights Reserved\n",
    "\n",
    "![Anyscale Academy](../images/AnyscaleAcademyLogo.png)\n",
    "\n",
    "A [previous notebook](02-Understanding-Hyperparameter-Tuning.ipynb) explained the concept of hyperparameter tuning/optimization (HPO) and walked through the basics of using [Ray Tune](https://ray.readthedocs.io/en/latest/tune.html), and another [notebook on Tune and Sklearn](03-Ray-Tune-with-Sklearn.ipynb) showed Tune's drop-in replacements for HPO.\n",
    "\n",
    "Now we'll use another example to explore more of the Tune API features. We'll use the [MNIST](http://yann.lecun.com/exdb/mnist/) of hand-written digits and train a [PyTorch](https://pytorch.org/) model to recognize them."
   ]
  },
  {
   "cell_type": "code",
   "execution_count": 1,
   "metadata": {},
   "outputs": [],
   "source": [
    "import os \n",
    "from torchvision import datasets, transforms\n",
    "import torch\n",
    "import torch.optim as optim\n",
    "import torch.nn as nn\n",
    "import torch.nn.functional as F\n",
    "from filelock import FileLock"
   ]
  },
  {
   "cell_type": "markdown",
   "metadata": {},
   "source": [
    "## PyTorch Hyperparameter Tuning\n",
    "\n",
    "Our example will closely follow the code in the [PyTorch MNIST example](https://github.com/pytorch/examples/blob/master/mnist/main.py). However, we will create an even simpler model than the one in the example, although you could try that model and compare its predictions.\n",
    "\n",
    "Let's start by defining a few global variables for epoch and test sizes. Also define a data location."
   ]
  },
  {
   "cell_type": "code",
   "execution_count": 2,
   "metadata": {},
   "outputs": [],
   "source": [
    "EPOCH_SIZE = 512\n",
    "TEST_SIZE = 256\n",
    "\n",
    "DATA_ROOT = '../data/mnist'"
   ]
  },
  {
   "cell_type": "markdown",
   "metadata": {},
   "source": [
    "The following class defines a convolutional neural network.\n",
    "\n",
    "> **Tip:** Most of these code definitions can be found in `mnist.py`, too."
   ]
  },
  {
   "cell_type": "code",
   "execution_count": 3,
   "metadata": {},
   "outputs": [],
   "source": [
    "class ConvNet(nn.Module):\n",
    "    def __init__(self):\n",
    "        super(ConvNet, self).__init__()\n",
    "        self.conv1 = nn.Conv2d(1, 3, kernel_size=3)\n",
    "        self.fc = nn.Linear(192, 10)\n",
    "\n",
    "    def forward(self, x):\n",
    "        x = F.relu(F.max_pool2d(self.conv1(x), 3))\n",
    "        x = x.view(-1, 192)\n",
    "        x = self.fc(x)\n",
    "        return F.log_softmax(x, dim=1)"
   ]
  },
  {
   "cell_type": "markdown",
   "metadata": {},
   "source": [
    "After creating that network, we can now create our data loaders for training and test data. These are just plain [PyTorch `DataLoaders`](https://pytorch.org/docs/1.1.0/data.html?highlight=dataloader#torch.utils.data.DataLoader) with two additions:\n",
    "\n",
    "1. A `FileLock` is added to ensure that only one process downloads the data on each machine, just in case we have multiple workers per machine in our Ray cluster.\n",
    "2. The root directory for the data can be specified and it will be created if it doesn't exist.\n",
    "\n",
    "Otherwise, this code is identical to the [PyTorch example version](https://github.com/pytorch/examples/blob/master/mnist/main.py#L101)."
   ]
  },
  {
   "cell_type": "code",
   "execution_count": 4,
   "metadata": {},
   "outputs": [],
   "source": [
    "def get_data_loaders():\n",
    "    mnist_transforms = transforms.Compose(\n",
    "        [transforms.ToTensor(),\n",
    "         transforms.Normalize((0.1307, ), (0.3081, ))])\n",
    "\n",
    "    # We add FileLock here because multiple workers on the same machine coulde try \n",
    "    # download the data. This would cause overwrites, since DataLoader is not threadsafe.\n",
    "    # You wouldn't need this for single-process training.\n",
    "    lock_file = f'{DATA_ROOT}/data.lock'\n",
    "    import os\n",
    "    if not os.path.exists(DATA_ROOT):\n",
    "        os.makedirs(DATA_ROOT)\n",
    "        \n",
    "    with FileLock(os.path.expanduser(lock_file)):\n",
    "        train_loader = torch.utils.data.DataLoader(\n",
    "            datasets.MNIST(DATA_ROOT, train=True, download=True, transform=mnist_transforms),\n",
    "            batch_size=64,\n",
    "            shuffle=True)\n",
    "\n",
    "        test_loader = torch.utils.data.DataLoader(\n",
    "            datasets.MNIST(DATA_ROOT, train=False, transform=mnist_transforms),\n",
    "            batch_size=64,\n",
    "            shuffle=True)\n",
    "    return train_loader, test_loader"
   ]
  },
  {
   "cell_type": "markdown",
   "metadata": {},
   "source": [
    "Now we define our training and test functions. While the arguments are a bit switched up from the original PyTorch tutorial, the difference is inconsequential. The arguments are an optimizer, a model, the training data loader, and our device. Then we train the model."
   ]
  },
  {
   "cell_type": "code",
   "execution_count": 5,
   "metadata": {},
   "outputs": [],
   "source": [
    "def train(model, optimizer, train_loader, device=torch.device(\"cpu\")):\n",
    "    model.train()\n",
    "    for batch_idx, (data, target) in enumerate(train_loader):\n",
    "        if batch_idx * len(data) > EPOCH_SIZE:\n",
    "            return\n",
    "        data, target = data.to(device), target.to(device)\n",
    "        optimizer.zero_grad()\n",
    "        output = model(data)\n",
    "        loss = F.nll_loss(output, target)\n",
    "        loss.backward()\n",
    "        optimizer.step()"
   ]
  },
  {
   "cell_type": "markdown",
   "metadata": {},
   "source": [
    "Similarly for our test model, we define a basic _average correct prediction_ metric that we will track. We could add more metrics, but we'll keep it simple."
   ]
  },
  {
   "cell_type": "code",
   "execution_count": 6,
   "metadata": {},
   "outputs": [],
   "source": [
    "def test(model, data_loader, device=torch.device(\"cpu\")):\n",
    "    model.eval()\n",
    "    correct = 0\n",
    "    total = 0\n",
    "    with torch.no_grad():\n",
    "        for batch_idx, (data, target) in enumerate(data_loader):\n",
    "            if batch_idx * len(data) > TEST_SIZE:\n",
    "                break\n",
    "            data, target = data.to(device), target.to(device)\n",
    "            outputs = model(data)\n",
    "            _, predicted = torch.max(outputs.data, 1)\n",
    "            total += target.size(0)\n",
    "            correct += (predicted == target).sum().item()\n",
    "\n",
    "    return correct / total"
   ]
  },
  {
   "cell_type": "markdown",
   "metadata": {},
   "source": [
    "Finally, we create a wrapper function for this particular model. In doing so all we need to do is specify the configuration for the model that we would like to train and the function will do the rest:\n",
    "\n",
    "1. Retrieve the data with the loaders returned by `get_data_loaders()`\n",
    "2. Create the `ConvNet` model\n",
    "3. Optimize the model using _stochastic gradient descent_."
   ]
  },
  {
   "cell_type": "code",
   "execution_count": 18,
   "metadata": {},
   "outputs": [],
   "source": [
    "def train_mnist(config):\n",
    "    train_loader, test_loader = get_data_loaders()\n",
    "    model = ConvNet()\n",
    "    optimizer = optim.SGD(model.parameters(), lr=config[\"lr\"], momentum=config['momentum'])\n",
    "    for i in range(10):\n",
    "        train(model, optimizer, train_loader)\n",
    "        acc = test(model, test_loader)\n",
    "        print(f\"accuracy: {acc}\")"
   ]
  },
  {
   "cell_type": "markdown",
   "metadata": {},
   "source": [
    "### Single-Node Hyperparameter Tuning\n",
    "\n",
    "Let's show what we might do if we performed hyperparameter tuning on a single machine. We would have to enumerate all the possibilities and either train them serially or use something like multiprocessing to train them in parallel. That setup takes a little bit of work so people often decide to train them serially, which is easiest, but requires the most time.\n",
    "\n",
    "This is what we might do."
   ]
  },
  {
   "cell_type": "code",
   "execution_count": 19,
   "metadata": {},
   "outputs": [
    {
     "name": "stdout",
     "output_type": "stream",
     "text": [
      "12\n"
     ]
    },
    {
     "data": {
      "text/plain": [
       "[(0.001, 0.001),\n",
       " (0.001, 0.01),\n",
       " (0.001, 0.1),\n",
       " (0.001, 0.9),\n",
       " (0.01, 0.001),\n",
       " (0.01, 0.01),\n",
       " (0.01, 0.1),\n",
       " (0.01, 0.9),\n",
       " (0.1, 0.001),\n",
       " (0.1, 0.01),\n",
       " (0.1, 0.1),\n",
       " (0.1, 0.9)]"
      ]
     },
     "execution_count": 19,
     "metadata": {},
     "output_type": "execute_result"
    }
   ],
   "source": [
    "import itertools\n",
    "conf = {\n",
    "    \"lr\": [0.001, 0.01, 0.1],\n",
    "    \"momentum\": [0.001, 0.01, 0.1, 0.9]\n",
    "}\n",
    "\n",
    "combinations = list(itertools.product(*conf.values()))\n",
    "print(len(combinations))\n",
    "combinations"
   ]
  },
  {
   "cell_type": "code",
   "execution_count": 20,
   "metadata": {},
   "outputs": [
    {
     "name": "stdout",
     "output_type": "stream",
     "text": [
      "accuracy: 0.109375\n",
      "accuracy: 0.103125\n",
      "accuracy: 0.0875\n",
      "accuracy: 0.109375\n",
      "accuracy: 0.090625\n",
      "accuracy: 0.121875\n",
      "accuracy: 0.140625\n",
      "accuracy: 0.1375\n",
      "accuracy: 0.1125\n",
      "accuracy: 0.134375\n"
     ]
    }
   ],
   "source": [
    "for lr, momentum in combinations:\n",
    "    train_mnist({\"lr\":lr, \"momentum\":momentum})\n",
    "    break # we'll stop this after one run and just use it for illustrative purposes"
   ]
  },
  {
   "cell_type": "markdown",
   "metadata": {},
   "source": [
    "### Distributed Hyperparameter Tuning with Ray Tune\n",
    "\n",
    "Ray Tune makes it trivial to move this code from a single node to multiple nodes. Let's see how to use the code we've written with Ray Tune.\n",
    "\n",
    "First, we set up Ray as before."
   ]
  },
  {
   "cell_type": "code",
   "execution_count": 21,
   "metadata": {},
   "outputs": [],
   "source": [
    "import ray\n",
    "from ray import tune"
   ]
  },
  {
   "cell_type": "code",
   "execution_count": 22,
   "metadata": {},
   "outputs": [
    {
     "name": "stderr",
     "output_type": "stream",
     "text": [
      "2021-11-18 17:07:59,459\tINFO services.py:1272 -- View the Ray dashboard at \u001b[1m\u001b[32mhttp://127.0.0.1:8265\u001b[39m\u001b[22m\n"
     ]
    },
    {
     "data": {
      "text/plain": [
       "{'node_ip_address': '127.0.0.1',\n",
       " 'raylet_ip_address': '127.0.0.1',\n",
       " 'redis_address': '127.0.0.1:6379',\n",
       " 'object_store_address': '/tmp/ray/session_2021-11-18_17-07-58_034492_32575/sockets/plasma_store',\n",
       " 'raylet_socket_name': '/tmp/ray/session_2021-11-18_17-07-58_034492_32575/sockets/raylet',\n",
       " 'webui_url': '127.0.0.1:8265',\n",
       " 'session_dir': '/tmp/ray/session_2021-11-18_17-07-58_034492_32575',\n",
       " 'metrics_export_port': 59372,\n",
       " 'node_id': '8d4ff2b14997852f26aceb4aafd94b02734862ede2a7ce72f154dd43'}"
      ]
     },
     "execution_count": 22,
     "metadata": {},
     "output_type": "execute_result"
    }
   ],
   "source": [
    "ray.init(ignore_reinit_error=True)"
   ]
  },
  {
   "cell_type": "markdown",
   "metadata": {},
   "source": [
    "The first change is we'll perform a strict `grid_search` on our hyperparameters, like we used in the previous lesson. Our hyperparameters are the learning rate, `lr`, and the `momentum`."
   ]
  },
  {
   "cell_type": "code",
   "execution_count": 23,
   "metadata": {},
   "outputs": [],
   "source": [
    "config = {\n",
    "    \"lr\": tune.grid_search([0.001, 0.01, 0.1]),\n",
    "    \"momentum\": tune.grid_search([0.001, 0.01, 0.1, 0.9])\n",
    "}"
   ]
  },
  {
   "cell_type": "markdown",
   "metadata": {},
   "source": [
    "Next we modify our trainable, `train_mnist`, to use Tune's \"reporting\" logger:"
   ]
  },
  {
   "cell_type": "code",
   "execution_count": 24,
   "metadata": {},
   "outputs": [],
   "source": [
    "def train_mnist(config):\n",
    "    from ray.tune import report\n",
    "    train_loader, test_loader = get_data_loaders()\n",
    "    model = ConvNet()\n",
    "    optimizer = optim.SGD(model.parameters(), lr=config[\"lr\"], momentum=config['momentum'])\n",
    "    for i in range(10):\n",
    "        train(model, optimizer, train_loader)\n",
    "        acc = test(model, test_loader)\n",
    "        # This sends the score to Tune.\n",
    "        report(mean_accuracy=acc)"
   ]
  },
  {
   "cell_type": "markdown",
   "metadata": {},
   "source": [
    "That's all that we need to change in order for Ray Tune to be able to parallelize our different hyperparameter combinations. \n",
    "\n",
    "When we execute a hyperparameter sweep, we perform an **experiment**. Each distinct combination of our different hyperparameters constitutes a single **trial**."
   ]
  },
  {
   "cell_type": "markdown",
   "metadata": {},
   "source": [
    "## Tune's Functional vs. Class API\n",
    "\n",
    "In the above previous lesson, we used the **functional API**. This API is most convenient for quickly setting up experiments, but it provides less overall flexbility compared to the **class API** [`tune.Trainable`](https://docs.ray.io/en/latest/tune/api_docs/trainable.html#tune-trainable).\n",
    "\n",
    "We'll try both, starting with the functional API.\n",
    "\n",
    "We add a stopping criterion, `stop={\"training_iteration\": 20}`, so this will go reasonably quickly, while still producing good results. Consider removing this condition if you don't mind waiting longer and you want optimal results.\n",
    "\n",
    "**Note**: Unlike the functional API, in which you the trainable can call a `tune.report()`, the class API method `cls.step()` can only return a value."
   ]
  },
  {
   "cell_type": "code",
   "execution_count": 25,
   "metadata": {
    "scrolled": true
   },
   "outputs": [
    {
     "data": {
      "text/html": [
       "== Status ==<br>Current time: 2021-11-18 17:28:25 (running for 00:00:07.85)<br>Memory usage on this node: 14.0/32.0 GiB<br>Using FIFO scheduling algorithm.<br>Resources requested: 0/12 CPUs, 0/0 GPUs, 0.0/11.37 GiB heap, 0.0/5.68 GiB objects<br>Result logdir: /Users/jules/ray_results/train_mnist_2021-11-18_17-28-17<br>Number of trials: 12/12 (12 TERMINATED)<br><br>"
      ],
      "text/plain": [
       "<IPython.core.display.HTML object>"
      ]
     },
     "metadata": {},
     "output_type": "display_data"
    },
    {
     "name": "stderr",
     "output_type": "stream",
     "text": [
      "2021-11-18 17:28:25,580\tINFO tune.py:630 -- Total run time: 8.00 seconds (7.82 seconds for the tuning loop).\n"
     ]
    },
    {
     "name": "stdout",
     "output_type": "stream",
     "text": [
      "CPU times: user 816 ms, sys: 226 ms, total: 1.04 s\n",
      "Wall time: 8.04 s\n"
     ]
    }
   ],
   "source": [
    "%%time\n",
    "analysis_func = tune.run(train_mnist, config=config, stop={\"training_iteration\": 20},\n",
    "                         verbose=1)"
   ]
  },
  {
   "cell_type": "code",
   "execution_count": 26,
   "metadata": {},
   "outputs": [
    {
     "name": "stdout",
     "output_type": "stream",
     "text": [
      "Best config:  {'lr': 0.1, 'momentum': 0.9}\n"
     ]
    }
   ],
   "source": [
    "print(\"Best config: \", analysis_func.get_best_config(metric=\"mean_accuracy\", mode=\"max\"))"
   ]
  },
  {
   "cell_type": "code",
   "execution_count": 27,
   "metadata": {},
   "outputs": [
    {
     "data": {
      "text/html": [
       "<div>\n",
       "<style scoped>\n",
       "    .dataframe tbody tr th:only-of-type {\n",
       "        vertical-align: middle;\n",
       "    }\n",
       "\n",
       "    .dataframe tbody tr th {\n",
       "        vertical-align: top;\n",
       "    }\n",
       "\n",
       "    .dataframe thead th {\n",
       "        text-align: right;\n",
       "    }\n",
       "</style>\n",
       "<table border=\"1\" class=\"dataframe\">\n",
       "  <thead>\n",
       "    <tr style=\"text-align: right;\">\n",
       "      <th></th>\n",
       "      <th>mean_accuracy</th>\n",
       "      <th>time_this_iter_s</th>\n",
       "      <th>done</th>\n",
       "      <th>timesteps_total</th>\n",
       "      <th>episodes_total</th>\n",
       "      <th>training_iteration</th>\n",
       "      <th>trial_id</th>\n",
       "      <th>experiment_id</th>\n",
       "      <th>date</th>\n",
       "      <th>timestamp</th>\n",
       "      <th>time_total_s</th>\n",
       "      <th>pid</th>\n",
       "      <th>hostname</th>\n",
       "      <th>node_ip</th>\n",
       "      <th>time_since_restore</th>\n",
       "      <th>timesteps_since_restore</th>\n",
       "      <th>iterations_since_restore</th>\n",
       "      <th>config/lr</th>\n",
       "      <th>config/momentum</th>\n",
       "      <th>logdir</th>\n",
       "    </tr>\n",
       "  </thead>\n",
       "  <tbody>\n",
       "    <tr>\n",
       "      <th>11</th>\n",
       "      <td>0.871875</td>\n",
       "      <td>0.196317</td>\n",
       "      <td>False</td>\n",
       "      <td>NaN</td>\n",
       "      <td>NaN</td>\n",
       "      <td>10</td>\n",
       "      <td>f917a_00011</td>\n",
       "      <td>312cb61ff52d487cb93a3fa98f9a66e5</td>\n",
       "      <td>2021-11-18_17-28-25</td>\n",
       "      <td>1637285305</td>\n",
       "      <td>5.613645</td>\n",
       "      <td>38586</td>\n",
       "      <td>Juless-MacBook-Pro-16-inch-2019</td>\n",
       "      <td>127.0.0.1</td>\n",
       "      <td>5.613645</td>\n",
       "      <td>0</td>\n",
       "      <td>10</td>\n",
       "      <td>0.10</td>\n",
       "      <td>0.900</td>\n",
       "      <td>/Users/jules/ray_results/train_mnist_2021-11-1...</td>\n",
       "    </tr>\n",
       "    <tr>\n",
       "      <th>5</th>\n",
       "      <td>0.868750</td>\n",
       "      <td>0.293517</td>\n",
       "      <td>False</td>\n",
       "      <td>NaN</td>\n",
       "      <td>NaN</td>\n",
       "      <td>10</td>\n",
       "      <td>f917a_00005</td>\n",
       "      <td>a664bbee77744b26a623f7cb64381d38</td>\n",
       "      <td>2021-11-18_17-28-24</td>\n",
       "      <td>1637285304</td>\n",
       "      <td>5.128907</td>\n",
       "      <td>38580</td>\n",
       "      <td>Juless-MacBook-Pro-16-inch-2019</td>\n",
       "      <td>127.0.0.1</td>\n",
       "      <td>5.128907</td>\n",
       "      <td>0</td>\n",
       "      <td>10</td>\n",
       "      <td>0.10</td>\n",
       "      <td>0.010</td>\n",
       "      <td>/Users/jules/ray_results/train_mnist_2021-11-1...</td>\n",
       "    </tr>\n",
       "    <tr>\n",
       "      <th>8</th>\n",
       "      <td>0.856250</td>\n",
       "      <td>0.220953</td>\n",
       "      <td>False</td>\n",
       "      <td>NaN</td>\n",
       "      <td>NaN</td>\n",
       "      <td>10</td>\n",
       "      <td>f917a_00008</td>\n",
       "      <td>7233108e53a4480c8a4f200d1623e720</td>\n",
       "      <td>2021-11-18_17-28-25</td>\n",
       "      <td>1637285305</td>\n",
       "      <td>5.384853</td>\n",
       "      <td>38579</td>\n",
       "      <td>Juless-MacBook-Pro-16-inch-2019</td>\n",
       "      <td>127.0.0.1</td>\n",
       "      <td>5.384853</td>\n",
       "      <td>0</td>\n",
       "      <td>10</td>\n",
       "      <td>0.10</td>\n",
       "      <td>0.100</td>\n",
       "      <td>/Users/jules/ray_results/train_mnist_2021-11-1...</td>\n",
       "    </tr>\n",
       "    <tr>\n",
       "      <th>10</th>\n",
       "      <td>0.825000</td>\n",
       "      <td>0.191259</td>\n",
       "      <td>False</td>\n",
       "      <td>NaN</td>\n",
       "      <td>NaN</td>\n",
       "      <td>10</td>\n",
       "      <td>f917a_00010</td>\n",
       "      <td>0b2111815e2043fdb4eed645d926d5df</td>\n",
       "      <td>2021-11-18_17-28-25</td>\n",
       "      <td>1637285305</td>\n",
       "      <td>5.588994</td>\n",
       "      <td>38585</td>\n",
       "      <td>Juless-MacBook-Pro-16-inch-2019</td>\n",
       "      <td>127.0.0.1</td>\n",
       "      <td>5.588994</td>\n",
       "      <td>0</td>\n",
       "      <td>10</td>\n",
       "      <td>0.01</td>\n",
       "      <td>0.900</td>\n",
       "      <td>/Users/jules/ray_results/train_mnist_2021-11-1...</td>\n",
       "    </tr>\n",
       "    <tr>\n",
       "      <th>1</th>\n",
       "      <td>0.765625</td>\n",
       "      <td>0.211650</td>\n",
       "      <td>False</td>\n",
       "      <td>NaN</td>\n",
       "      <td>NaN</td>\n",
       "      <td>10</td>\n",
       "      <td>f917a_00001</td>\n",
       "      <td>4eeb10c311e64daf975e8e4a6069869e</td>\n",
       "      <td>2021-11-18_17-28-25</td>\n",
       "      <td>1637285305</td>\n",
       "      <td>5.471587</td>\n",
       "      <td>38581</td>\n",
       "      <td>Juless-MacBook-Pro-16-inch-2019</td>\n",
       "      <td>127.0.0.1</td>\n",
       "      <td>5.471587</td>\n",
       "      <td>0</td>\n",
       "      <td>10</td>\n",
       "      <td>0.01</td>\n",
       "      <td>0.001</td>\n",
       "      <td>/Users/jules/ray_results/train_mnist_2021-11-1...</td>\n",
       "    </tr>\n",
       "  </tbody>\n",
       "</table>\n",
       "</div>"
      ],
      "text/plain": [
       "    mean_accuracy  time_this_iter_s   done  timesteps_total  episodes_total  \\\n",
       "11       0.871875          0.196317  False              NaN             NaN   \n",
       "5        0.868750          0.293517  False              NaN             NaN   \n",
       "8        0.856250          0.220953  False              NaN             NaN   \n",
       "10       0.825000          0.191259  False              NaN             NaN   \n",
       "1        0.765625          0.211650  False              NaN             NaN   \n",
       "\n",
       "    training_iteration     trial_id                     experiment_id  \\\n",
       "11                  10  f917a_00011  312cb61ff52d487cb93a3fa98f9a66e5   \n",
       "5                   10  f917a_00005  a664bbee77744b26a623f7cb64381d38   \n",
       "8                   10  f917a_00008  7233108e53a4480c8a4f200d1623e720   \n",
       "10                  10  f917a_00010  0b2111815e2043fdb4eed645d926d5df   \n",
       "1                   10  f917a_00001  4eeb10c311e64daf975e8e4a6069869e   \n",
       "\n",
       "                   date   timestamp  time_total_s    pid  \\\n",
       "11  2021-11-18_17-28-25  1637285305      5.613645  38586   \n",
       "5   2021-11-18_17-28-24  1637285304      5.128907  38580   \n",
       "8   2021-11-18_17-28-25  1637285305      5.384853  38579   \n",
       "10  2021-11-18_17-28-25  1637285305      5.588994  38585   \n",
       "1   2021-11-18_17-28-25  1637285305      5.471587  38581   \n",
       "\n",
       "                           hostname    node_ip  time_since_restore  \\\n",
       "11  Juless-MacBook-Pro-16-inch-2019  127.0.0.1            5.613645   \n",
       "5   Juless-MacBook-Pro-16-inch-2019  127.0.0.1            5.128907   \n",
       "8   Juless-MacBook-Pro-16-inch-2019  127.0.0.1            5.384853   \n",
       "10  Juless-MacBook-Pro-16-inch-2019  127.0.0.1            5.588994   \n",
       "1   Juless-MacBook-Pro-16-inch-2019  127.0.0.1            5.471587   \n",
       "\n",
       "    timesteps_since_restore  iterations_since_restore  config/lr  \\\n",
       "11                        0                        10       0.10   \n",
       "5                         0                        10       0.10   \n",
       "8                         0                        10       0.10   \n",
       "10                        0                        10       0.01   \n",
       "1                         0                        10       0.01   \n",
       "\n",
       "    config/momentum                                             logdir  \n",
       "11            0.900  /Users/jules/ray_results/train_mnist_2021-11-1...  \n",
       "5             0.010  /Users/jules/ray_results/train_mnist_2021-11-1...  \n",
       "8             0.100  /Users/jules/ray_results/train_mnist_2021-11-1...  \n",
       "10            0.900  /Users/jules/ray_results/train_mnist_2021-11-1...  \n",
       "1             0.001  /Users/jules/ray_results/train_mnist_2021-11-1...  "
      ]
     },
     "execution_count": 27,
     "metadata": {},
     "output_type": "execute_result"
    }
   ],
   "source": [
    "analysis_func.dataframe().sort_values('mean_accuracy', ascending=False).head()"
   ]
  },
  {
   "cell_type": "code",
   "execution_count": 28,
   "metadata": {},
   "outputs": [
    {
     "data": {
      "text/html": [
       "<div>\n",
       "<style scoped>\n",
       "    .dataframe tbody tr th:only-of-type {\n",
       "        vertical-align: middle;\n",
       "    }\n",
       "\n",
       "    .dataframe tbody tr th {\n",
       "        vertical-align: top;\n",
       "    }\n",
       "\n",
       "    .dataframe thead th {\n",
       "        text-align: right;\n",
       "    }\n",
       "</style>\n",
       "<table border=\"1\" class=\"dataframe\">\n",
       "  <thead>\n",
       "    <tr style=\"text-align: right;\">\n",
       "      <th></th>\n",
       "      <th>mean_accuracy</th>\n",
       "      <th>config/lr</th>\n",
       "      <th>config/momentum</th>\n",
       "    </tr>\n",
       "  </thead>\n",
       "  <tbody>\n",
       "    <tr>\n",
       "      <th>11</th>\n",
       "      <td>0.871875</td>\n",
       "      <td>0.100</td>\n",
       "      <td>0.900</td>\n",
       "    </tr>\n",
       "    <tr>\n",
       "      <th>5</th>\n",
       "      <td>0.868750</td>\n",
       "      <td>0.100</td>\n",
       "      <td>0.010</td>\n",
       "    </tr>\n",
       "    <tr>\n",
       "      <th>8</th>\n",
       "      <td>0.856250</td>\n",
       "      <td>0.100</td>\n",
       "      <td>0.100</td>\n",
       "    </tr>\n",
       "    <tr>\n",
       "      <th>10</th>\n",
       "      <td>0.825000</td>\n",
       "      <td>0.010</td>\n",
       "      <td>0.900</td>\n",
       "    </tr>\n",
       "    <tr>\n",
       "      <th>1</th>\n",
       "      <td>0.765625</td>\n",
       "      <td>0.010</td>\n",
       "      <td>0.001</td>\n",
       "    </tr>\n",
       "    <tr>\n",
       "      <th>2</th>\n",
       "      <td>0.765625</td>\n",
       "      <td>0.100</td>\n",
       "      <td>0.001</td>\n",
       "    </tr>\n",
       "    <tr>\n",
       "      <th>4</th>\n",
       "      <td>0.762500</td>\n",
       "      <td>0.010</td>\n",
       "      <td>0.010</td>\n",
       "    </tr>\n",
       "    <tr>\n",
       "      <th>7</th>\n",
       "      <td>0.740625</td>\n",
       "      <td>0.010</td>\n",
       "      <td>0.100</td>\n",
       "    </tr>\n",
       "    <tr>\n",
       "      <th>9</th>\n",
       "      <td>0.568750</td>\n",
       "      <td>0.001</td>\n",
       "      <td>0.900</td>\n",
       "    </tr>\n",
       "    <tr>\n",
       "      <th>0</th>\n",
       "      <td>0.162500</td>\n",
       "      <td>0.001</td>\n",
       "      <td>0.001</td>\n",
       "    </tr>\n",
       "    <tr>\n",
       "      <th>3</th>\n",
       "      <td>0.156250</td>\n",
       "      <td>0.001</td>\n",
       "      <td>0.010</td>\n",
       "    </tr>\n",
       "    <tr>\n",
       "      <th>6</th>\n",
       "      <td>0.156250</td>\n",
       "      <td>0.001</td>\n",
       "      <td>0.100</td>\n",
       "    </tr>\n",
       "  </tbody>\n",
       "</table>\n",
       "</div>"
      ],
      "text/plain": [
       "    mean_accuracy  config/lr  config/momentum\n",
       "11       0.871875      0.100            0.900\n",
       "5        0.868750      0.100            0.010\n",
       "8        0.856250      0.100            0.100\n",
       "10       0.825000      0.010            0.900\n",
       "1        0.765625      0.010            0.001\n",
       "2        0.765625      0.100            0.001\n",
       "4        0.762500      0.010            0.010\n",
       "7        0.740625      0.010            0.100\n",
       "9        0.568750      0.001            0.900\n",
       "0        0.162500      0.001            0.001\n",
       "3        0.156250      0.001            0.010\n",
       "6        0.156250      0.001            0.100"
      ]
     },
     "execution_count": 28,
     "metadata": {},
     "output_type": "execute_result"
    }
   ],
   "source": [
    "analysis_func.dataframe()[['mean_accuracy', 'config/lr', 'config/momentum']].sort_values('mean_accuracy', ascending=False)"
   ]
  },
  {
   "cell_type": "markdown",
   "metadata": {},
   "source": [
    "How long did it take? We'll compare this value with a different training run in the next lesson."
   ]
  },
  {
   "cell_type": "code",
   "execution_count": 29,
   "metadata": {},
   "outputs": [
    {
     "name": "stdout",
     "output_type": "stream",
     "text": [
      "   0.23 seconds,    0.00 minutes\n"
     ]
    }
   ],
   "source": [
    "stats = analysis_func.stats()\n",
    "secs = stats[\"timestamp\"] - stats[\"start_time\"]\n",
    "print(f'{secs:7.2f} seconds, {secs/60.0:7.2f} minutes')"
   ]
  },
  {
   "cell_type": "markdown",
   "metadata": {},
   "source": [
    "### Use Tune's Trainable Class API"
   ]
  },
  {
   "cell_type": "markdown",
   "metadata": {},
   "source": [
    "As a subclass of tune.Trainable, Tune will create a Trainable object on a separate process (using the [Ray Actor API](https://docs.ray.io/en/latest/actors.html#actor-guide)).\n",
    "\n",
    " * setup function is invoked once training starts.\n",
    " * step is invoked multiple times. Each time, the Trainable object executes one logical iteration of training in the tuning process, which may include one or more iterations of actual training.\n"
   ]
  },
  {
   "cell_type": "code",
   "execution_count": 30,
   "metadata": {},
   "outputs": [],
   "source": [
    "class TrainMNIST(tune.Trainable):\n",
    "    def setup(self, config):\n",
    "        self.config = config\n",
    "        self.train_loader, self.test_loader = get_data_loaders()\n",
    "        self.model = ConvNet()\n",
    "        self.optimizer = optim.SGD(self.model.parameters(), lr=self.config[\"lr\"])\n",
    "    \n",
    "    def step(self):\n",
    "        train(self.model, self.optimizer, self.train_loader)\n",
    "        acc = test(self.model, self.test_loader)\n",
    "        return {\"mean_accuracy\": acc}"
   ]
  },
  {
   "cell_type": "code",
   "execution_count": 32,
   "metadata": {
    "scrolled": true
   },
   "outputs": [
    {
     "data": {
      "text/html": [
       "== Status ==<br>Current time: 2021-11-18 17:31:16 (running for 00:00:13.22)<br>Memory usage on this node: 14.0/32.0 GiB<br>Using FIFO scheduling algorithm.<br>Resources requested: 0/12 CPUs, 0/0 GPUs, 0.0/11.37 GiB heap, 0.0/5.68 GiB objects<br>Result logdir: /Users/jules/ray_results/TrainMNIST_2021-11-18_17-31-03<br>Number of trials: 12/12 (12 TERMINATED)<br><br>"
      ],
      "text/plain": [
       "<IPython.core.display.HTML object>"
      ]
     },
     "metadata": {},
     "output_type": "display_data"
    },
    {
     "name": "stderr",
     "output_type": "stream",
     "text": [
      "2021-11-18 17:31:17,099\tINFO tune.py:630 -- Total run time: 13.34 seconds (13.19 seconds for the tuning loop).\n"
     ]
    },
    {
     "name": "stdout",
     "output_type": "stream",
     "text": [
      "CPU times: user 2.12 s, sys: 408 ms, total: 2.53 s\n",
      "Wall time: 13.4 s\n"
     ]
    }
   ],
   "source": [
    "%%time\n",
    "analysis = tune.run(\n",
    "    TrainMNIST, \n",
    "    config=config,\n",
    "    stop={\"training_iteration\": 20},\n",
    "    verbose=1\n",
    ")"
   ]
  },
  {
   "cell_type": "code",
   "execution_count": 33,
   "metadata": {},
   "outputs": [
    {
     "name": "stdout",
     "output_type": "stream",
     "text": [
      "Best config:  {'lr': 0.1, 'momentum': 0.01}\n"
     ]
    }
   ],
   "source": [
    "print(\"Best config: \", analysis.get_best_config(metric=\"mean_accuracy\", mode=\"max\"))"
   ]
  },
  {
   "cell_type": "code",
   "execution_count": 34,
   "metadata": {},
   "outputs": [
    {
     "data": {
      "text/html": [
       "<div>\n",
       "<style scoped>\n",
       "    .dataframe tbody tr th:only-of-type {\n",
       "        vertical-align: middle;\n",
       "    }\n",
       "\n",
       "    .dataframe tbody tr th {\n",
       "        vertical-align: top;\n",
       "    }\n",
       "\n",
       "    .dataframe thead th {\n",
       "        text-align: right;\n",
       "    }\n",
       "</style>\n",
       "<table border=\"1\" class=\"dataframe\">\n",
       "  <thead>\n",
       "    <tr style=\"text-align: right;\">\n",
       "      <th></th>\n",
       "      <th>mean_accuracy</th>\n",
       "      <th>done</th>\n",
       "      <th>timesteps_total</th>\n",
       "      <th>episodes_total</th>\n",
       "      <th>training_iteration</th>\n",
       "      <th>trial_id</th>\n",
       "      <th>experiment_id</th>\n",
       "      <th>date</th>\n",
       "      <th>timestamp</th>\n",
       "      <th>time_this_iter_s</th>\n",
       "      <th>time_total_s</th>\n",
       "      <th>pid</th>\n",
       "      <th>hostname</th>\n",
       "      <th>node_ip</th>\n",
       "      <th>time_since_restore</th>\n",
       "      <th>timesteps_since_restore</th>\n",
       "      <th>iterations_since_restore</th>\n",
       "      <th>config/lr</th>\n",
       "      <th>config/momentum</th>\n",
       "      <th>logdir</th>\n",
       "    </tr>\n",
       "  </thead>\n",
       "  <tbody>\n",
       "    <tr>\n",
       "      <th>0</th>\n",
       "      <td>0.178125</td>\n",
       "      <td>True</td>\n",
       "      <td>NaN</td>\n",
       "      <td>NaN</td>\n",
       "      <td>20</td>\n",
       "      <td>5c245_00000</td>\n",
       "      <td>fc205119dcad4e839036bf304d6aa913</td>\n",
       "      <td>2021-11-18_17-31-14</td>\n",
       "      <td>1637285474</td>\n",
       "      <td>0.322850</td>\n",
       "      <td>5.809877</td>\n",
       "      <td>41087</td>\n",
       "      <td>Juless-MacBook-Pro-16-inch-2019</td>\n",
       "      <td>127.0.0.1</td>\n",
       "      <td>5.809877</td>\n",
       "      <td>0</td>\n",
       "      <td>20</td>\n",
       "      <td>0.001</td>\n",
       "      <td>0.001</td>\n",
       "      <td>/Users/jules/ray_results/TrainMNIST_2021-11-18...</td>\n",
       "    </tr>\n",
       "    <tr>\n",
       "      <th>1</th>\n",
       "      <td>0.806250</td>\n",
       "      <td>True</td>\n",
       "      <td>NaN</td>\n",
       "      <td>NaN</td>\n",
       "      <td>20</td>\n",
       "      <td>5c245_00001</td>\n",
       "      <td>b288986fd75b4e35913cb3ea72793063</td>\n",
       "      <td>2021-11-18_17-31-15</td>\n",
       "      <td>1637285475</td>\n",
       "      <td>0.333669</td>\n",
       "      <td>6.193870</td>\n",
       "      <td>41089</td>\n",
       "      <td>Juless-MacBook-Pro-16-inch-2019</td>\n",
       "      <td>127.0.0.1</td>\n",
       "      <td>6.193870</td>\n",
       "      <td>0</td>\n",
       "      <td>20</td>\n",
       "      <td>0.010</td>\n",
       "      <td>0.001</td>\n",
       "      <td>/Users/jules/ray_results/TrainMNIST_2021-11-18...</td>\n",
       "    </tr>\n",
       "    <tr>\n",
       "      <th>2</th>\n",
       "      <td>0.881250</td>\n",
       "      <td>True</td>\n",
       "      <td>NaN</td>\n",
       "      <td>NaN</td>\n",
       "      <td>20</td>\n",
       "      <td>5c245_00002</td>\n",
       "      <td>9b8be8887e9042128d1832cc7a189ada</td>\n",
       "      <td>2021-11-18_17-31-16</td>\n",
       "      <td>1637285476</td>\n",
       "      <td>0.293854</td>\n",
       "      <td>6.257735</td>\n",
       "      <td>41098</td>\n",
       "      <td>Juless-MacBook-Pro-16-inch-2019</td>\n",
       "      <td>127.0.0.1</td>\n",
       "      <td>6.257735</td>\n",
       "      <td>0</td>\n",
       "      <td>20</td>\n",
       "      <td>0.100</td>\n",
       "      <td>0.001</td>\n",
       "      <td>/Users/jules/ray_results/TrainMNIST_2021-11-18...</td>\n",
       "    </tr>\n",
       "    <tr>\n",
       "      <th>3</th>\n",
       "      <td>0.278125</td>\n",
       "      <td>True</td>\n",
       "      <td>NaN</td>\n",
       "      <td>NaN</td>\n",
       "      <td>20</td>\n",
       "      <td>5c245_00003</td>\n",
       "      <td>1c8e317eea7e4a5699c97645b4ec10b7</td>\n",
       "      <td>2021-11-18_17-31-16</td>\n",
       "      <td>1637285476</td>\n",
       "      <td>0.301631</td>\n",
       "      <td>6.257378</td>\n",
       "      <td>41097</td>\n",
       "      <td>Juless-MacBook-Pro-16-inch-2019</td>\n",
       "      <td>127.0.0.1</td>\n",
       "      <td>6.257378</td>\n",
       "      <td>0</td>\n",
       "      <td>20</td>\n",
       "      <td>0.001</td>\n",
       "      <td>0.010</td>\n",
       "      <td>/Users/jules/ray_results/TrainMNIST_2021-11-18...</td>\n",
       "    </tr>\n",
       "    <tr>\n",
       "      <th>4</th>\n",
       "      <td>0.846875</td>\n",
       "      <td>True</td>\n",
       "      <td>NaN</td>\n",
       "      <td>NaN</td>\n",
       "      <td>20</td>\n",
       "      <td>5c245_00004</td>\n",
       "      <td>f0fef02145dc495ca99eecb920d0cdcb</td>\n",
       "      <td>2021-11-18_17-31-16</td>\n",
       "      <td>1637285476</td>\n",
       "      <td>0.290808</td>\n",
       "      <td>6.191537</td>\n",
       "      <td>41095</td>\n",
       "      <td>Juless-MacBook-Pro-16-inch-2019</td>\n",
       "      <td>127.0.0.1</td>\n",
       "      <td>6.191537</td>\n",
       "      <td>0</td>\n",
       "      <td>20</td>\n",
       "      <td>0.010</td>\n",
       "      <td>0.010</td>\n",
       "      <td>/Users/jules/ray_results/TrainMNIST_2021-11-18...</td>\n",
       "    </tr>\n",
       "  </tbody>\n",
       "</table>\n",
       "</div>"
      ],
      "text/plain": [
       "   mean_accuracy  done  timesteps_total  episodes_total  training_iteration  \\\n",
       "0       0.178125  True              NaN             NaN                  20   \n",
       "1       0.806250  True              NaN             NaN                  20   \n",
       "2       0.881250  True              NaN             NaN                  20   \n",
       "3       0.278125  True              NaN             NaN                  20   \n",
       "4       0.846875  True              NaN             NaN                  20   \n",
       "\n",
       "      trial_id                     experiment_id                 date  \\\n",
       "0  5c245_00000  fc205119dcad4e839036bf304d6aa913  2021-11-18_17-31-14   \n",
       "1  5c245_00001  b288986fd75b4e35913cb3ea72793063  2021-11-18_17-31-15   \n",
       "2  5c245_00002  9b8be8887e9042128d1832cc7a189ada  2021-11-18_17-31-16   \n",
       "3  5c245_00003  1c8e317eea7e4a5699c97645b4ec10b7  2021-11-18_17-31-16   \n",
       "4  5c245_00004  f0fef02145dc495ca99eecb920d0cdcb  2021-11-18_17-31-16   \n",
       "\n",
       "    timestamp  time_this_iter_s  time_total_s    pid  \\\n",
       "0  1637285474          0.322850      5.809877  41087   \n",
       "1  1637285475          0.333669      6.193870  41089   \n",
       "2  1637285476          0.293854      6.257735  41098   \n",
       "3  1637285476          0.301631      6.257378  41097   \n",
       "4  1637285476          0.290808      6.191537  41095   \n",
       "\n",
       "                          hostname    node_ip  time_since_restore  \\\n",
       "0  Juless-MacBook-Pro-16-inch-2019  127.0.0.1            5.809877   \n",
       "1  Juless-MacBook-Pro-16-inch-2019  127.0.0.1            6.193870   \n",
       "2  Juless-MacBook-Pro-16-inch-2019  127.0.0.1            6.257735   \n",
       "3  Juless-MacBook-Pro-16-inch-2019  127.0.0.1            6.257378   \n",
       "4  Juless-MacBook-Pro-16-inch-2019  127.0.0.1            6.191537   \n",
       "\n",
       "   timesteps_since_restore  iterations_since_restore  config/lr  \\\n",
       "0                        0                        20      0.001   \n",
       "1                        0                        20      0.010   \n",
       "2                        0                        20      0.100   \n",
       "3                        0                        20      0.001   \n",
       "4                        0                        20      0.010   \n",
       "\n",
       "   config/momentum                                             logdir  \n",
       "0            0.001  /Users/jules/ray_results/TrainMNIST_2021-11-18...  \n",
       "1            0.001  /Users/jules/ray_results/TrainMNIST_2021-11-18...  \n",
       "2            0.001  /Users/jules/ray_results/TrainMNIST_2021-11-18...  \n",
       "3            0.010  /Users/jules/ray_results/TrainMNIST_2021-11-18...  \n",
       "4            0.010  /Users/jules/ray_results/TrainMNIST_2021-11-18...  "
      ]
     },
     "execution_count": 34,
     "metadata": {},
     "output_type": "execute_result"
    }
   ],
   "source": [
    "# Get a dataframe for analyzing trial results.\n",
    "df = analysis.dataframe()\n",
    "df.head()"
   ]
  },
  {
   "cell_type": "code",
   "execution_count": 35,
   "metadata": {},
   "outputs": [
    {
     "data": {
      "text/html": [
       "<div>\n",
       "<style scoped>\n",
       "    .dataframe tbody tr th:only-of-type {\n",
       "        vertical-align: middle;\n",
       "    }\n",
       "\n",
       "    .dataframe tbody tr th {\n",
       "        vertical-align: top;\n",
       "    }\n",
       "\n",
       "    .dataframe thead th {\n",
       "        text-align: right;\n",
       "    }\n",
       "</style>\n",
       "<table border=\"1\" class=\"dataframe\">\n",
       "  <thead>\n",
       "    <tr style=\"text-align: right;\">\n",
       "      <th></th>\n",
       "      <th>mean_accuracy</th>\n",
       "      <th>done</th>\n",
       "      <th>timesteps_total</th>\n",
       "      <th>episodes_total</th>\n",
       "      <th>training_iteration</th>\n",
       "      <th>trial_id</th>\n",
       "      <th>experiment_id</th>\n",
       "      <th>date</th>\n",
       "      <th>timestamp</th>\n",
       "      <th>time_this_iter_s</th>\n",
       "      <th>time_total_s</th>\n",
       "      <th>pid</th>\n",
       "      <th>hostname</th>\n",
       "      <th>node_ip</th>\n",
       "      <th>time_since_restore</th>\n",
       "      <th>timesteps_since_restore</th>\n",
       "      <th>iterations_since_restore</th>\n",
       "      <th>config/lr</th>\n",
       "      <th>config/momentum</th>\n",
       "      <th>logdir</th>\n",
       "    </tr>\n",
       "  </thead>\n",
       "  <tbody>\n",
       "    <tr>\n",
       "      <th>5</th>\n",
       "      <td>0.906250</td>\n",
       "      <td>True</td>\n",
       "      <td>NaN</td>\n",
       "      <td>NaN</td>\n",
       "      <td>20</td>\n",
       "      <td>5c245_00005</td>\n",
       "      <td>70088eb49d164715ae1ce73514157093</td>\n",
       "      <td>2021-11-18_17-31-16</td>\n",
       "      <td>1637285476</td>\n",
       "      <td>0.298787</td>\n",
       "      <td>6.239424</td>\n",
       "      <td>41096</td>\n",
       "      <td>Juless-MacBook-Pro-16-inch-2019</td>\n",
       "      <td>127.0.0.1</td>\n",
       "      <td>6.239424</td>\n",
       "      <td>0</td>\n",
       "      <td>20</td>\n",
       "      <td>0.10</td>\n",
       "      <td>0.010</td>\n",
       "      <td>/Users/jules/ray_results/TrainMNIST_2021-11-18...</td>\n",
       "    </tr>\n",
       "    <tr>\n",
       "      <th>11</th>\n",
       "      <td>0.893750</td>\n",
       "      <td>True</td>\n",
       "      <td>NaN</td>\n",
       "      <td>NaN</td>\n",
       "      <td>20</td>\n",
       "      <td>5c245_00011</td>\n",
       "      <td>fba4ca6e8a554b64a622b825664847ad</td>\n",
       "      <td>2021-11-18_17-31-15</td>\n",
       "      <td>1637285475</td>\n",
       "      <td>0.303682</td>\n",
       "      <td>6.064892</td>\n",
       "      <td>41092</td>\n",
       "      <td>Juless-MacBook-Pro-16-inch-2019</td>\n",
       "      <td>127.0.0.1</td>\n",
       "      <td>6.064892</td>\n",
       "      <td>0</td>\n",
       "      <td>20</td>\n",
       "      <td>0.10</td>\n",
       "      <td>0.900</td>\n",
       "      <td>/Users/jules/ray_results/TrainMNIST_2021-11-18...</td>\n",
       "    </tr>\n",
       "    <tr>\n",
       "      <th>2</th>\n",
       "      <td>0.881250</td>\n",
       "      <td>True</td>\n",
       "      <td>NaN</td>\n",
       "      <td>NaN</td>\n",
       "      <td>20</td>\n",
       "      <td>5c245_00002</td>\n",
       "      <td>9b8be8887e9042128d1832cc7a189ada</td>\n",
       "      <td>2021-11-18_17-31-16</td>\n",
       "      <td>1637285476</td>\n",
       "      <td>0.293854</td>\n",
       "      <td>6.257735</td>\n",
       "      <td>41098</td>\n",
       "      <td>Juless-MacBook-Pro-16-inch-2019</td>\n",
       "      <td>127.0.0.1</td>\n",
       "      <td>6.257735</td>\n",
       "      <td>0</td>\n",
       "      <td>20</td>\n",
       "      <td>0.10</td>\n",
       "      <td>0.001</td>\n",
       "      <td>/Users/jules/ray_results/TrainMNIST_2021-11-18...</td>\n",
       "    </tr>\n",
       "    <tr>\n",
       "      <th>8</th>\n",
       "      <td>0.871875</td>\n",
       "      <td>True</td>\n",
       "      <td>NaN</td>\n",
       "      <td>NaN</td>\n",
       "      <td>20</td>\n",
       "      <td>5c245_00008</td>\n",
       "      <td>04409843cf9b4369938680c1e4a2c643</td>\n",
       "      <td>2021-11-18_17-31-16</td>\n",
       "      <td>1637285476</td>\n",
       "      <td>0.297223</td>\n",
       "      <td>6.288576</td>\n",
       "      <td>41090</td>\n",
       "      <td>Juless-MacBook-Pro-16-inch-2019</td>\n",
       "      <td>127.0.0.1</td>\n",
       "      <td>6.288576</td>\n",
       "      <td>0</td>\n",
       "      <td>20</td>\n",
       "      <td>0.10</td>\n",
       "      <td>0.100</td>\n",
       "      <td>/Users/jules/ray_results/TrainMNIST_2021-11-18...</td>\n",
       "    </tr>\n",
       "    <tr>\n",
       "      <th>7</th>\n",
       "      <td>0.850000</td>\n",
       "      <td>True</td>\n",
       "      <td>NaN</td>\n",
       "      <td>NaN</td>\n",
       "      <td>20</td>\n",
       "      <td>5c245_00007</td>\n",
       "      <td>0cedc1127026438f9090cc1cadb7c56a</td>\n",
       "      <td>2021-11-18_17-31-16</td>\n",
       "      <td>1637285476</td>\n",
       "      <td>0.230868</td>\n",
       "      <td>6.280406</td>\n",
       "      <td>41088</td>\n",
       "      <td>Juless-MacBook-Pro-16-inch-2019</td>\n",
       "      <td>127.0.0.1</td>\n",
       "      <td>6.280406</td>\n",
       "      <td>0</td>\n",
       "      <td>20</td>\n",
       "      <td>0.01</td>\n",
       "      <td>0.100</td>\n",
       "      <td>/Users/jules/ray_results/TrainMNIST_2021-11-18...</td>\n",
       "    </tr>\n",
       "  </tbody>\n",
       "</table>\n",
       "</div>"
      ],
      "text/plain": [
       "    mean_accuracy  done  timesteps_total  episodes_total  training_iteration  \\\n",
       "5        0.906250  True              NaN             NaN                  20   \n",
       "11       0.893750  True              NaN             NaN                  20   \n",
       "2        0.881250  True              NaN             NaN                  20   \n",
       "8        0.871875  True              NaN             NaN                  20   \n",
       "7        0.850000  True              NaN             NaN                  20   \n",
       "\n",
       "       trial_id                     experiment_id                 date  \\\n",
       "5   5c245_00005  70088eb49d164715ae1ce73514157093  2021-11-18_17-31-16   \n",
       "11  5c245_00011  fba4ca6e8a554b64a622b825664847ad  2021-11-18_17-31-15   \n",
       "2   5c245_00002  9b8be8887e9042128d1832cc7a189ada  2021-11-18_17-31-16   \n",
       "8   5c245_00008  04409843cf9b4369938680c1e4a2c643  2021-11-18_17-31-16   \n",
       "7   5c245_00007  0cedc1127026438f9090cc1cadb7c56a  2021-11-18_17-31-16   \n",
       "\n",
       "     timestamp  time_this_iter_s  time_total_s    pid  \\\n",
       "5   1637285476          0.298787      6.239424  41096   \n",
       "11  1637285475          0.303682      6.064892  41092   \n",
       "2   1637285476          0.293854      6.257735  41098   \n",
       "8   1637285476          0.297223      6.288576  41090   \n",
       "7   1637285476          0.230868      6.280406  41088   \n",
       "\n",
       "                           hostname    node_ip  time_since_restore  \\\n",
       "5   Juless-MacBook-Pro-16-inch-2019  127.0.0.1            6.239424   \n",
       "11  Juless-MacBook-Pro-16-inch-2019  127.0.0.1            6.064892   \n",
       "2   Juless-MacBook-Pro-16-inch-2019  127.0.0.1            6.257735   \n",
       "8   Juless-MacBook-Pro-16-inch-2019  127.0.0.1            6.288576   \n",
       "7   Juless-MacBook-Pro-16-inch-2019  127.0.0.1            6.280406   \n",
       "\n",
       "    timesteps_since_restore  iterations_since_restore  config/lr  \\\n",
       "5                         0                        20       0.10   \n",
       "11                        0                        20       0.10   \n",
       "2                         0                        20       0.10   \n",
       "8                         0                        20       0.10   \n",
       "7                         0                        20       0.01   \n",
       "\n",
       "    config/momentum                                             logdir  \n",
       "5             0.010  /Users/jules/ray_results/TrainMNIST_2021-11-18...  \n",
       "11            0.900  /Users/jules/ray_results/TrainMNIST_2021-11-18...  \n",
       "2             0.001  /Users/jules/ray_results/TrainMNIST_2021-11-18...  \n",
       "8             0.100  /Users/jules/ray_results/TrainMNIST_2021-11-18...  \n",
       "7             0.100  /Users/jules/ray_results/TrainMNIST_2021-11-18...  "
      ]
     },
     "execution_count": 35,
     "metadata": {},
     "output_type": "execute_result"
    }
   ],
   "source": [
    "analysis.dataframe().sort_values('mean_accuracy', ascending=False).head()"
   ]
  },
  {
   "cell_type": "markdown",
   "metadata": {},
   "source": [
    "It's easier to see what we want if project out the interesting columns:"
   ]
  },
  {
   "cell_type": "code",
   "execution_count": 36,
   "metadata": {},
   "outputs": [
    {
     "data": {
      "text/html": [
       "<div>\n",
       "<style scoped>\n",
       "    .dataframe tbody tr th:only-of-type {\n",
       "        vertical-align: middle;\n",
       "    }\n",
       "\n",
       "    .dataframe tbody tr th {\n",
       "        vertical-align: top;\n",
       "    }\n",
       "\n",
       "    .dataframe thead th {\n",
       "        text-align: right;\n",
       "    }\n",
       "</style>\n",
       "<table border=\"1\" class=\"dataframe\">\n",
       "  <thead>\n",
       "    <tr style=\"text-align: right;\">\n",
       "      <th></th>\n",
       "      <th>mean_accuracy</th>\n",
       "      <th>config/lr</th>\n",
       "      <th>config/momentum</th>\n",
       "    </tr>\n",
       "  </thead>\n",
       "  <tbody>\n",
       "    <tr>\n",
       "      <th>5</th>\n",
       "      <td>0.906250</td>\n",
       "      <td>0.100</td>\n",
       "      <td>0.010</td>\n",
       "    </tr>\n",
       "    <tr>\n",
       "      <th>11</th>\n",
       "      <td>0.893750</td>\n",
       "      <td>0.100</td>\n",
       "      <td>0.900</td>\n",
       "    </tr>\n",
       "    <tr>\n",
       "      <th>2</th>\n",
       "      <td>0.881250</td>\n",
       "      <td>0.100</td>\n",
       "      <td>0.001</td>\n",
       "    </tr>\n",
       "    <tr>\n",
       "      <th>8</th>\n",
       "      <td>0.871875</td>\n",
       "      <td>0.100</td>\n",
       "      <td>0.100</td>\n",
       "    </tr>\n",
       "    <tr>\n",
       "      <th>7</th>\n",
       "      <td>0.850000</td>\n",
       "      <td>0.010</td>\n",
       "      <td>0.100</td>\n",
       "    </tr>\n",
       "    <tr>\n",
       "      <th>4</th>\n",
       "      <td>0.846875</td>\n",
       "      <td>0.010</td>\n",
       "      <td>0.010</td>\n",
       "    </tr>\n",
       "    <tr>\n",
       "      <th>10</th>\n",
       "      <td>0.818750</td>\n",
       "      <td>0.010</td>\n",
       "      <td>0.900</td>\n",
       "    </tr>\n",
       "    <tr>\n",
       "      <th>1</th>\n",
       "      <td>0.806250</td>\n",
       "      <td>0.010</td>\n",
       "      <td>0.001</td>\n",
       "    </tr>\n",
       "    <tr>\n",
       "      <th>6</th>\n",
       "      <td>0.300000</td>\n",
       "      <td>0.001</td>\n",
       "      <td>0.100</td>\n",
       "    </tr>\n",
       "    <tr>\n",
       "      <th>3</th>\n",
       "      <td>0.278125</td>\n",
       "      <td>0.001</td>\n",
       "      <td>0.010</td>\n",
       "    </tr>\n",
       "    <tr>\n",
       "      <th>0</th>\n",
       "      <td>0.178125</td>\n",
       "      <td>0.001</td>\n",
       "      <td>0.001</td>\n",
       "    </tr>\n",
       "    <tr>\n",
       "      <th>9</th>\n",
       "      <td>0.137500</td>\n",
       "      <td>0.001</td>\n",
       "      <td>0.900</td>\n",
       "    </tr>\n",
       "  </tbody>\n",
       "</table>\n",
       "</div>"
      ],
      "text/plain": [
       "    mean_accuracy  config/lr  config/momentum\n",
       "5        0.906250      0.100            0.010\n",
       "11       0.893750      0.100            0.900\n",
       "2        0.881250      0.100            0.001\n",
       "8        0.871875      0.100            0.100\n",
       "7        0.850000      0.010            0.100\n",
       "4        0.846875      0.010            0.010\n",
       "10       0.818750      0.010            0.900\n",
       "1        0.806250      0.010            0.001\n",
       "6        0.300000      0.001            0.100\n",
       "3        0.278125      0.001            0.010\n",
       "0        0.178125      0.001            0.001\n",
       "9        0.137500      0.001            0.900"
      ]
     },
     "execution_count": 36,
     "metadata": {},
     "output_type": "execute_result"
    }
   ],
   "source": [
    "analysis.dataframe()[['mean_accuracy', 'config/lr', 'config/momentum']].sort_values('mean_accuracy', ascending=False)"
   ]
  },
  {
   "cell_type": "markdown",
   "metadata": {},
   "source": [
    "How long did it take? We'll compare this value with a different training run in the next lesson."
   ]
  },
  {
   "cell_type": "code",
   "execution_count": 37,
   "metadata": {},
   "outputs": [
    {
     "name": "stdout",
     "output_type": "stream",
     "text": [
      "  10.87 seconds,    0.18 minutes\n"
     ]
    }
   ],
   "source": [
    "stats = analysis.stats()\n",
    "secs = stats[\"timestamp\"] - stats[\"start_time\"]\n",
    "print(f'{secs:7.2f} seconds, {secs/60.0:7.2f} minutes')"
   ]
  },
  {
   "cell_type": "markdown",
   "metadata": {},
   "source": [
    "The next lesson will explore optimization algorithms that speed up HPO."
   ]
  },
  {
   "cell_type": "code",
   "execution_count": null,
   "metadata": {},
   "outputs": [],
   "source": [
    "ray.shutdown()  # \"Undo ray.init()\"."
   ]
  }
 ],
 "metadata": {
  "kernelspec": {
   "display_name": "Python 3 (ipykernel)",
   "language": "python",
   "name": "python3"
  },
  "language_info": {
   "codemirror_mode": {
    "name": "ipython",
    "version": 3
   },
   "file_extension": ".py",
   "mimetype": "text/x-python",
   "name": "python",
   "nbconvert_exporter": "python",
   "pygments_lexer": "ipython3",
   "version": "3.7.10"
  }
 },
 "nbformat": 4,
 "nbformat_minor": 4
}
