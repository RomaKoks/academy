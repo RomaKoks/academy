{
 "cells": [
  {
   "cell_type": "markdown",
   "id": "cb04d874-3346-4f16-92e8-4fd95532b540",
   "metadata": {},
   "source": [
    "# Ray Tune - Basic Tune Concepts and Steps: Warming Up with Ray Tune Hyperparameter Tuning\n",
    "\n",
    "© 2019-2021, Anyscale. All Rights Reserved\n",
    "\n",
    "![Anyscale Academy](../images/AnyscaleAcademyLogo.png)"
   ]
  },
  {
   "cell_type": "markdown",
   "id": "877c1e4c-c2c8-4ecf-ab07-6819a42115ce",
   "metadata": {},
   "source": [
    "This lesson introduces Ray tune's key concepts using a trivial examples. This example is derived from [Ray Tune basic example](https://docs.ray.io/en/latest/tune/examples/tune_basic_example.html). Basically, there are three basic steps or Ray Tune pattern for you as a newcomer to get started with using Ray Tune.\n",
    "\n",
    " 1. Setup your config space and define your trainable and objective function\n",
    " 2. Use tune to execute your training, supplying the appropriate arguments including: search space, [search algorithms](https://docs.ray.io/en/latest/tune/api_docs/suggestion.html#blendsearch) or [trial schedulers](https://docs.ray.io/en/latest/tune/api_docs/schedulers.html#tune-schedulers)\n",
    " 3. Examine analyse the results\n",
    " \n",
    " ![](https://docs.ray.io/en/latest/_images/tune-workflow.png)\n",
    "\n",
    "\n",
    "See also the [Hyperparameter Tuning References](References-Hyperparameter-Tuning.ipynb) notebook and the [Tune documentation](http://tune.io), in particular, the [API reference](https://docs.ray.io/en/latest/tune/api_docs/overview.html). \n"
   ]
  },
  {
   "cell_type": "markdown",
   "id": "d0259405-4710-439e-aa1b-d5f2d42ecf3f",
   "metadata": {},
   "source": [
    "### Install Ray Tune\n",
    "[Ray Tune](https://docs.ray.io/en/master/installation.html#official-releases) requires a separate install. "
   ]
  },
  {
   "cell_type": "code",
   "execution_count": null,
   "id": "aa3e91f2-0545-4f60-9663-db7fd0ecc58f",
   "metadata": {},
   "outputs": [],
   "source": [
    "!pip install 'ray[tune]'"
   ]
  },
  {
   "cell_type": "markdown",
   "id": "45760015-2d34-4ea6-9cd0-dd08e0a56ac0",
   "metadata": {},
   "source": [
    "### 1. Setup training using Trainable APIs"
   ]
  },
  {
   "cell_type": "code",
   "execution_count": null,
   "id": "85ba8ba5-fd61-4950-9760-0a97d8a31863",
   "metadata": {},
   "outputs": [],
   "source": [
    "import time\n",
    "\n",
    "import ray\n",
    "from ray import tune"
   ]
  },
  {
   "cell_type": "markdown",
   "id": "e3fdac98-1dbf-40b8-a471-ebd2491fc1bb",
   "metadata": {},
   "source": [
    "Let's define our objective function"
   ]
  },
  {
   "cell_type": "code",
   "execution_count": null,
   "id": "10b9dc4d-e08c-4396-82d7-8c155d54c53f",
   "metadata": {},
   "outputs": [],
   "source": [
    "def evaluation_fn(step, width, height):\n",
    "    time.sleep(0.1)\n",
    "    return (0.1 + width * step / 100)**(-1) + height * 0.1"
   ]
  },
  {
   "cell_type": "markdown",
   "id": "b60b99e3-cf87-4f7f-8d1b-f58bc2b73a4d",
   "metadata": {},
   "source": [
    "Next, we define a Trainable used by Tune using Tune's [Functional API](https://docs.ray.io/en/latest/tune/api_docs/trainable.html#function-api)"
   ]
  },
  {
   "cell_type": "code",
   "execution_count": null,
   "id": "c1bcd690-eda3-49f7-a147-d1e3b2f09240",
   "metadata": {},
   "outputs": [],
   "source": [
    "def easy_objective(config):\n",
    "    # fetch our Hyperparameters sent as arguments\n",
    "    width, height = config[\"width\"], config[\"height\"]\n",
    "    # Iterate over number of steps\n",
    "    for step in range(config[\"steps\"]):\n",
    "        # Iterative training function - can be any arbitrary training procedure\n",
    "        # Here our objective function is the evaluation_fn\n",
    "        intermediate_score = evaluation_fn(step, width, height)\n",
    "        # Feed the score back back to Tune.\n",
    "        tune.report(iterations=step, mean_loss=intermediate_score)"
   ]
  },
  {
   "cell_type": "code",
   "execution_count": null,
   "id": "59ff0ca8-2c17-4cc7-9cdd-ef95d734761a",
   "metadata": {},
   "outputs": [],
   "source": [
    "ray.init(ignore_reinit_error=True)"
   ]
  },
  {
   "cell_type": "markdown",
   "id": "bda5506a-1081-4be8-a9e6-fb9ed03cf5ec",
   "metadata": {},
   "source": [
    "### Step 2. Use tune API to execute tuning\n",
    "\n",
    "This will do a grid search over the `activation` parameter. This means\n",
    "that each of the two values (`relu` and `tanh`) will be sampled once\n",
    "for each sample (`num_samples`). We end up with 2 * N = 2N samples, where is `num_samples`\n",
    "The `width` and `height` parameters are sampled randomly.\n",
    "`steps` is a constant parameter.\n",
    "\n",
    "The `tune.run(..)` API returns a large [analysis](https://docs.ray.io/en/latest/tune/api_docs/analysis.html#analysis-tune-analysis) object. "
   ]
  },
  {
   "cell_type": "code",
   "execution_count": null,
   "id": "99385d56-635e-40e4-b06a-29afa58167bb",
   "metadata": {},
   "outputs": [],
   "source": [
    "analysis = tune.run(\n",
    "    easy_objective,\n",
    "    metric=\"mean_loss\",\n",
    "    mode=\"min\",\n",
    "    num_samples=5,\n",
    "    # Define our hypyerparameter search space\n",
    "    config={\n",
    "        \"steps\": 5,\n",
    "        \"width\": tune.uniform(0, 20),\n",
    "        \"height\": tune.uniform(-100, 100),\n",
    "        \"activation\": tune.grid_search([\"relu\", \"tanh\"]),\n",
    "    },\n",
    "    verbose=1\n",
    ")"
   ]
  },
  {
   "cell_type": "markdown",
   "id": "ef981a25-0575-41de-9265-10e7e3902960",
   "metadata": {},
   "source": [
    "### Step 3. Analyse the results"
   ]
  },
  {
   "cell_type": "code",
   "execution_count": null,
   "id": "a30fed4a-406b-472f-a3d9-0a823e4615c8",
   "metadata": {},
   "outputs": [],
   "source": [
    "print(\"Best hyperparameters found were: \", analysis.best_config)"
   ]
  },
  {
   "cell_type": "markdown",
   "id": "e0ff4c88-0437-45f8-9137-a8c593bdd040",
   "metadata": {},
   "source": [
    "Alternatively, you can examine a Pandas dataframe"
   ]
  },
  {
   "cell_type": "code",
   "execution_count": null,
   "id": "2d73c15c-1c96-4474-8c2c-ec4e514b19c6",
   "metadata": {},
   "outputs": [],
   "source": [
    "analysis.results_df.head(5)"
   ]
  },
  {
   "cell_type": "code",
   "execution_count": null,
   "id": "d5327208-d173-4b5a-9c78-b115856adb98",
   "metadata": {},
   "outputs": [],
   "source": [
    "analysis.trials"
   ]
  },
  {
   "cell_type": "code",
   "execution_count": null,
   "id": "885dcc05-7bac-4a4a-bd0b-175ca693efbb",
   "metadata": {},
   "outputs": [],
   "source": [
    "analysis.dataframe(metric=\"mean_loss\", mode=\"min\").head(5)"
   ]
  },
  {
   "cell_type": "code",
   "execution_count": null,
   "id": "1ea40b42-ec23-4399-8204-05a383584f5c",
   "metadata": {},
   "outputs": [],
   "source": [
    "ray.shutdown()"
   ]
  }
 ],
 "metadata": {
  "kernelspec": {
   "display_name": "Python 3 (ipykernel)",
   "language": "python",
   "name": "python3"
  },
  "language_info": {
   "codemirror_mode": {
    "name": "ipython",
    "version": 3
   },
   "file_extension": ".py",
   "mimetype": "text/x-python",
   "name": "python",
   "nbconvert_exporter": "python",
   "pygments_lexer": "ipython3",
   "version": "3.7.12"
  }
 },
 "nbformat": 4,
 "nbformat_minor": 5
}
