{
 "cells": [
  {
   "cell_type": "markdown",
   "id": "fc868109-720c-4125-aeb4-4dc473068425",
   "metadata": {},
   "source": [
    "# Ray Tune - Comparision of GridSearchCV and TuneSearchCV with XGBoost\n",
    "\n",
    "© 2019-2021, Anyscale. All Rights Reserved\n",
    "\n",
    "![Anyscale Academy](../images/AnyscaleAcademyLogo.png)"
   ]
  },
  {
   "cell_type": "markdown",
   "id": "434bee7f-ed1f-48a1-b976-65d9a82e00e0",
   "metadata": {},
   "source": [
    "<img src = \"../images/tune/driver.png\" align=\"center\" height=300 width=300>\n",
    "\n",
    "[Porto Seguro](https://www.portoseguro.com.br/), one of Brazil’s largest auto and homeowner insurance companies, completely agrees. Inaccuracies in car insurance company’s claim predictions raise the cost of insurance for good drivers and reduce the price for bad ones.\n",
    "\n",
    "A data set from Porto Seguro was used in the [Kaggle's machine learning competetion](https://www.kaggle.com/c/porto-seguro-safe-driver-prediction). The data set is used build a classification model to predict the probability that a driver will initiate an auto insurance claim in the next year. The predictions can be used to further tailor insurance prices, and hopefully make auto insurance coverage more accessible to more drivers.\n",
    "\n",
    "In this exercise we show two things:\n",
    "\n",
    "1. Composibility of using different algorithms, hyperameters tuning using sklearn and xgboost\n",
    "2. Tune's drop-in replacements or wrappers for GridSearch and ability to use optuna as a choice of search algorithm.\n",
    "\n",
    "Although, drop-in replacements was introduced in earlier in [03-Ray-Tune-with-Sklearn](03-Ray-Tune-with-Sklearn.ipynb), this demonstrates\n",
    "with the larger dataset and real life use case.\n",
    "\n",
    "We need some python packages, so let's install them"
   ]
  },
  {
   "cell_type": "code",
   "execution_count": 1,
   "id": "146b8add-52e2-49c1-bfcc-b3cf09539ba4",
   "metadata": {},
   "outputs": [
    {
     "name": "stdout",
     "output_type": "stream",
     "text": [
      "Requirement already satisfied: boto3 in /usr/local/anaconda3/envs/anyscale-academy/lib/python3.7/site-packages (1.20.14)\n",
      "Requirement already satisfied: plotly in /usr/local/anaconda3/envs/anyscale-academy/lib/python3.7/site-packages (5.4.0)\n",
      "Requirement already satisfied: xgboost in /usr/local/anaconda3/envs/anyscale-academy/lib/python3.7/site-packages (1.5.1)\n",
      "Requirement already satisfied: optuna in /usr/local/anaconda3/envs/anyscale-academy/lib/python3.7/site-packages (2.10.0)\n",
      "Requirement already satisfied: tune-sklearn in /usr/local/anaconda3/envs/anyscale-academy/lib/python3.7/site-packages (0.4.1)\n",
      "Requirement already satisfied: jmespath<1.0.0,>=0.7.1 in /usr/local/anaconda3/envs/anyscale-academy/lib/python3.7/site-packages (from boto3) (0.10.0)\n",
      "Requirement already satisfied: botocore<1.24.0,>=1.23.14 in /usr/local/anaconda3/envs/anyscale-academy/lib/python3.7/site-packages (from boto3) (1.23.14)\n",
      "Requirement already satisfied: s3transfer<0.6.0,>=0.5.0 in /usr/local/anaconda3/envs/anyscale-academy/lib/python3.7/site-packages (from boto3) (0.5.0)\n",
      "Requirement already satisfied: six in /usr/local/anaconda3/envs/anyscale-academy/lib/python3.7/site-packages (from plotly) (1.16.0)\n",
      "Requirement already satisfied: tenacity>=6.2.0 in /usr/local/anaconda3/envs/anyscale-academy/lib/python3.7/site-packages (from plotly) (8.0.1)\n",
      "Requirement already satisfied: numpy in /usr/local/anaconda3/envs/anyscale-academy/lib/python3.7/site-packages (from xgboost) (1.21.4)\n",
      "Requirement already satisfied: scipy in /usr/local/anaconda3/envs/anyscale-academy/lib/python3.7/site-packages (from xgboost) (1.7.2)\n",
      "Requirement already satisfied: cmaes>=0.8.2 in /usr/local/anaconda3/envs/anyscale-academy/lib/python3.7/site-packages (from optuna) (0.8.2)\n",
      "Requirement already satisfied: tqdm in /usr/local/anaconda3/envs/anyscale-academy/lib/python3.7/site-packages (from optuna) (4.62.3)\n",
      "Requirement already satisfied: alembic in /usr/local/anaconda3/envs/anyscale-academy/lib/python3.7/site-packages (from optuna) (1.7.5)\n",
      "Requirement already satisfied: cliff in /usr/local/anaconda3/envs/anyscale-academy/lib/python3.7/site-packages (from optuna) (3.10.0)\n",
      "Requirement already satisfied: colorlog in /usr/local/anaconda3/envs/anyscale-academy/lib/python3.7/site-packages (from optuna) (6.6.0)\n",
      "Requirement already satisfied: sqlalchemy>=1.1.0 in /usr/local/anaconda3/envs/anyscale-academy/lib/python3.7/site-packages (from optuna) (1.4.27)\n",
      "Requirement already satisfied: PyYAML in /usr/local/anaconda3/envs/anyscale-academy/lib/python3.7/site-packages (from optuna) (6.0)\n",
      "Requirement already satisfied: packaging>=20.0 in /usr/local/anaconda3/envs/anyscale-academy/lib/python3.7/site-packages (from optuna) (21.3)\n",
      "Requirement already satisfied: ray[tune] in /usr/local/anaconda3/envs/anyscale-academy/lib/python3.7/site-packages (from tune-sklearn) (1.8.0)\n",
      "Requirement already satisfied: scikit-learn in /usr/local/anaconda3/envs/anyscale-academy/lib/python3.7/site-packages (from tune-sklearn) (1.0.1)\n",
      "Requirement already satisfied: python-dateutil<3.0.0,>=2.1 in /usr/local/anaconda3/envs/anyscale-academy/lib/python3.7/site-packages (from botocore<1.24.0,>=1.23.14->boto3) (2.8.2)\n",
      "Requirement already satisfied: urllib3<1.27,>=1.25.4 in /usr/local/anaconda3/envs/anyscale-academy/lib/python3.7/site-packages (from botocore<1.24.0,>=1.23.14->boto3) (1.26.7)\n",
      "Requirement already satisfied: pyparsing!=3.0.5,>=2.0.2 in /usr/local/anaconda3/envs/anyscale-academy/lib/python3.7/site-packages (from packaging>=20.0->optuna) (3.0.6)\n",
      "Requirement already satisfied: importlib-metadata in /usr/local/anaconda3/envs/anyscale-academy/lib/python3.7/site-packages (from sqlalchemy>=1.1.0->optuna) (4.8.2)\n",
      "Requirement already satisfied: greenlet!=0.4.17 in /usr/local/anaconda3/envs/anyscale-academy/lib/python3.7/site-packages (from sqlalchemy>=1.1.0->optuna) (1.1.2)\n",
      "Requirement already satisfied: importlib-resources in /usr/local/anaconda3/envs/anyscale-academy/lib/python3.7/site-packages (from alembic->optuna) (5.4.0)\n",
      "Requirement already satisfied: Mako in /usr/local/anaconda3/envs/anyscale-academy/lib/python3.7/site-packages (from alembic->optuna) (1.1.6)\n",
      "Requirement already satisfied: cmd2>=1.0.0 in /usr/local/anaconda3/envs/anyscale-academy/lib/python3.7/site-packages (from cliff->optuna) (2.3.2)\n",
      "Requirement already satisfied: stevedore>=2.0.1 in /usr/local/anaconda3/envs/anyscale-academy/lib/python3.7/site-packages (from cliff->optuna) (3.5.0)\n",
      "Requirement already satisfied: pbr!=2.1.0,>=2.0.0 in /usr/local/anaconda3/envs/anyscale-academy/lib/python3.7/site-packages (from cliff->optuna) (5.8.0)\n",
      "Requirement already satisfied: PrettyTable>=0.7.2 in /usr/local/anaconda3/envs/anyscale-academy/lib/python3.7/site-packages (from cliff->optuna) (2.4.0)\n",
      "Requirement already satisfied: autopage>=0.4.0 in /usr/local/anaconda3/envs/anyscale-academy/lib/python3.7/site-packages (from cliff->optuna) (0.4.0)\n",
      "Requirement already satisfied: filelock in /usr/local/anaconda3/envs/anyscale-academy/lib/python3.7/site-packages (from ray[tune]->tune-sklearn) (3.4.0)\n",
      "Requirement already satisfied: jsonschema in /usr/local/anaconda3/envs/anyscale-academy/lib/python3.7/site-packages (from ray[tune]->tune-sklearn) (4.2.1)\n",
      "Requirement already satisfied: msgpack<2.0.0,>=1.0.0 in /usr/local/anaconda3/envs/anyscale-academy/lib/python3.7/site-packages (from ray[tune]->tune-sklearn) (1.0.3)\n",
      "Requirement already satisfied: attrs in /usr/local/anaconda3/envs/anyscale-academy/lib/python3.7/site-packages (from ray[tune]->tune-sklearn) (21.2.0)\n",
      "Requirement already satisfied: click>=7.0 in /usr/local/anaconda3/envs/anyscale-academy/lib/python3.7/site-packages (from ray[tune]->tune-sklearn) (8.0.3)\n",
      "Requirement already satisfied: protobuf>=3.15.3 in /usr/local/anaconda3/envs/anyscale-academy/lib/python3.7/site-packages (from ray[tune]->tune-sklearn) (3.19.1)\n",
      "Requirement already satisfied: grpcio>=1.28.1 in /usr/local/anaconda3/envs/anyscale-academy/lib/python3.7/site-packages (from ray[tune]->tune-sklearn) (1.42.0)\n",
      "Requirement already satisfied: redis>=3.5.0 in /usr/local/anaconda3/envs/anyscale-academy/lib/python3.7/site-packages (from ray[tune]->tune-sklearn) (4.0.2)\n",
      "Requirement already satisfied: pandas in /usr/local/anaconda3/envs/anyscale-academy/lib/python3.7/site-packages (from ray[tune]->tune-sklearn) (1.3.4)\n",
      "Requirement already satisfied: tabulate in /usr/local/anaconda3/envs/anyscale-academy/lib/python3.7/site-packages (from ray[tune]->tune-sklearn) (0.8.9)\n",
      "Requirement already satisfied: tensorboardX>=1.9 in /usr/local/anaconda3/envs/anyscale-academy/lib/python3.7/site-packages (from ray[tune]->tune-sklearn) (2.4.1)\n",
      "Requirement already satisfied: requests in /usr/local/anaconda3/envs/anyscale-academy/lib/python3.7/site-packages (from ray[tune]->tune-sklearn) (2.26.0)\n",
      "Requirement already satisfied: joblib>=0.11 in /usr/local/anaconda3/envs/anyscale-academy/lib/python3.7/site-packages (from scikit-learn->tune-sklearn) (1.1.0)\n",
      "Requirement already satisfied: threadpoolctl>=2.0.0 in /usr/local/anaconda3/envs/anyscale-academy/lib/python3.7/site-packages (from scikit-learn->tune-sklearn) (3.0.0)\n",
      "Requirement already satisfied: typing-extensions in /usr/local/anaconda3/envs/anyscale-academy/lib/python3.7/site-packages (from cmd2>=1.0.0->cliff->optuna) (4.0.0)\n",
      "Requirement already satisfied: pyperclip>=1.6 in /usr/local/anaconda3/envs/anyscale-academy/lib/python3.7/site-packages (from cmd2>=1.0.0->cliff->optuna) (1.8.2)\n",
      "Requirement already satisfied: wcwidth>=0.1.7 in /usr/local/anaconda3/envs/anyscale-academy/lib/python3.7/site-packages (from cmd2>=1.0.0->cliff->optuna) (0.2.5)\n",
      "Requirement already satisfied: zipp>=0.5 in /usr/local/anaconda3/envs/anyscale-academy/lib/python3.7/site-packages (from importlib-metadata->sqlalchemy>=1.1.0->optuna) (3.6.0)\n",
      "Requirement already satisfied: deprecated in /usr/local/anaconda3/envs/anyscale-academy/lib/python3.7/site-packages (from redis>=3.5.0->ray[tune]->tune-sklearn) (1.2.13)\n",
      "Requirement already satisfied: pyrsistent!=0.17.0,!=0.17.1,!=0.17.2,>=0.14.0 in /usr/local/anaconda3/envs/anyscale-academy/lib/python3.7/site-packages (from jsonschema->ray[tune]->tune-sklearn) (0.18.0)\n",
      "Requirement already satisfied: MarkupSafe>=0.9.2 in /usr/local/anaconda3/envs/anyscale-academy/lib/python3.7/site-packages (from Mako->alembic->optuna) (2.0.1)\n",
      "Requirement already satisfied: pytz>=2017.3 in /usr/local/anaconda3/envs/anyscale-academy/lib/python3.7/site-packages (from pandas->ray[tune]->tune-sklearn) (2021.3)\n",
      "Requirement already satisfied: certifi>=2017.4.17 in /usr/local/anaconda3/envs/anyscale-academy/lib/python3.7/site-packages (from requests->ray[tune]->tune-sklearn) (2021.10.8)\n",
      "Requirement already satisfied: idna<4,>=2.5 in /usr/local/anaconda3/envs/anyscale-academy/lib/python3.7/site-packages (from requests->ray[tune]->tune-sklearn) (3.1)\n",
      "Requirement already satisfied: charset-normalizer~=2.0.0 in /usr/local/anaconda3/envs/anyscale-academy/lib/python3.7/site-packages (from requests->ray[tune]->tune-sklearn) (2.0.7)\n",
      "Requirement already satisfied: wrapt<2,>=1.10 in /usr/local/anaconda3/envs/anyscale-academy/lib/python3.7/site-packages (from deprecated->redis>=3.5.0->ray[tune]->tune-sklearn) (1.13.3)\n"
     ]
    }
   ],
   "source": [
    "!pip install boto3 plotly xgboost optuna tune-sklearn"
   ]
  },
  {
   "cell_type": "code",
   "execution_count": 2,
   "id": "43141e98",
   "metadata": {
    "tags": []
   },
   "outputs": [],
   "source": [
    "import boto3\n",
    "from io import BytesIO\n",
    "import joblib\n",
    "import numpy as np\n",
    "import pandas as pd\n",
    "import pandas as pd\n",
    "import plotly.express as px\n",
    "import ray\n",
    "from ray import tune\n",
    "from ray.tune.callback import Callback\n",
    "from ray.tune.suggest.bohb import TuneBOHB\n",
    "from ray.tune.schedulers import HyperBandForBOHB\n",
    "from scipy.stats import loguniform, randint, uniform\n",
    "from sklearn.model_selection import RandomizedSearchCV, GridSearchCV\n",
    "from sklearn.metrics import roc_auc_score\n",
    "from sklearn.model_selection import StratifiedKFold\n",
    "import tqdm\n",
    "from tqdm.notebook import trange, tqdm\n",
    "from tune_sklearn import TuneSearchCV\n",
    "from xgboost import XGBClassifier"
   ]
  },
  {
   "cell_type": "code",
   "execution_count": 3,
   "id": "d3fc25ac-6fc5-44c6-a5bc-01f0bd80e21b",
   "metadata": {},
   "outputs": [],
   "source": [
    "import logging\n",
    "logging.disable(logging.INFO)\n",
    "logging.disable(logging.WARNING)\n",
    "import warnings\n",
    "warnings.filterwarnings(\"ignore\")\n",
    "import xgboost as xgb\n",
    "xgb.set_config(verbosity=1)"
   ]
  },
  {
   "cell_type": "code",
   "execution_count": 4,
   "id": "99ff0144-69e9-49a3-8fe3-61dc0571f206",
   "metadata": {},
   "outputs": [],
   "source": [
    "import os\n",
    "os.environ[\"TUNE_DISABLE_AUTO_CALLBACK_SYNCER\"] = \"1\"\n",
    "\n",
    "class TqdmCallback(Callback):\n",
    "    def setup(self,\n",
    "              stop = None,\n",
    "              num_samples = None,\n",
    "              total_num_samples = None,\n",
    "              **info):\n",
    "        self.pbar = tqdm(total=total_num_samples)\n",
    "\n",
    "    def on_trial_complete(self, **info):\n",
    "        self.pbar.update(1)\n",
    "\n",
    "    def on_experiment_end(self, **info):\n",
    "        self.pbar.close()"
   ]
  },
  {
   "cell_type": "code",
   "execution_count": 5,
   "id": "85b724a5-9a31-414d-8330-ff885aa1c55b",
   "metadata": {
    "tags": []
   },
   "outputs": [],
   "source": [
    "def plot_cv_score(analysis):\n",
    "    df = analysis.results_df[[\"average_test_score\", \"timestamp\"]]\n",
    "    df[\"timestamp\"] = pd.to_datetime(df['timestamp'], unit='s')\n",
    "    df.set_index(\"timestamp\", inplace=True)\n",
    "    df.sort_index(inplace=True)\n",
    "    df[\"cummax_cv_score\"] = df[\"average_test_score\"].cummax()\n",
    "    df = df[~df.index.duplicated(keep=\"last\")]\n",
    "    df = df[\"cummax_cv_score\"].resample(\"1S\").bfill()\n",
    "    fig = px.line(df, y=\"cummax_cv_score\")\n",
    "    fig.show()"
   ]
  },
  {
   "cell_type": "markdown",
   "id": "159a0c09-09d7-459d-9ee4-791541a01440",
   "metadata": {},
   "source": [
    "### Step 1: Read our data from S3"
   ]
  },
  {
   "cell_type": "code",
   "execution_count": 6,
   "id": "8e62e1a5",
   "metadata": {
    "tags": []
   },
   "outputs": [
    {
     "name": "stdout",
     "output_type": "stream",
     "text": [
      "Reading data from S3...\n",
      "training set: 595212, features:31\n",
      "CPU times: user 1.53 s, sys: 336 ms, total: 1.87 s\n",
      "Wall time: 4.19 s\n"
     ]
    }
   ],
   "source": [
    "%%time\n",
    "DATA_URL = \"https://ray-ci-higgs.s3.us-west-2.amazonaws.com/\" \\\n",
    "                      \"safe_driver.csv\"\n",
    "print(\"Reading data from S3...\")\n",
    "train_df = pd.read_csv(DATA_URL, dtype={'id': np.int32, 'target': np.int8})\n",
    "\n",
    "y = train_df['target'].values\n",
    "X = train_df.drop(['target', 'id'], axis=1)\n",
    "\n",
    "from sklearn.model_selection import train_test_split\n",
    "X_train, X_test, y_train, y_test = train_test_split(X, y, stratify=y, test_size=0.2, random_state=1234)\n",
    "t, f = train_df.shape\n",
    "print(f'training set: {t}, features:{f}')"
   ]
  },
  {
   "cell_type": "markdown",
   "id": "228a4977-28a8-4902-b988-4865f43819b5",
   "metadata": {},
   "source": [
    "#### Define some utility functions"
   ]
  },
  {
   "cell_type": "code",
   "execution_count": 7,
   "id": "4ec29324-3c11-4f47-bc86-958e47d473b0",
   "metadata": {
    "tags": []
   },
   "outputs": [],
   "source": [
    "def print_test_score(model, X_test, y_test):\n",
    "    y_pred = model.predict_proba(X_test)\n",
    "    roc_auc = roc_auc_score(y_test, y_pred[:,1])\n",
    "    print(\"**************** roc_auc score: {} ****************\".format(roc_auc))\n",
    "\n",
    "def train_model_and_print_test_score(model, X_train, y_train, X_test, y_test):\n",
    "    skf = StratifiedKFold(n_splits=3, shuffle=True, random_state=1234)\n",
    "    run_cv = RandomizedSearchCV(model, \n",
    "                                param_distributions= {},  # no parameters distribution\n",
    "                                n_iter=1, \n",
    "                                scoring='roc_auc', \n",
    "                                n_jobs=-1, \n",
    "                                cv=skf.split(X_train,y_train), \n",
    "                                verbose=1, \n",
    "                                random_state=1001)\n",
    "    run_cv.fit(X_train, y_train)\n",
    "    print_test_score(run_cv.best_estimator_, X_test, y_test)"
   ]
  },
  {
   "cell_type": "markdown",
   "id": "4d17b668-a087-473d-96d0-d2a508d056ed",
   "metadata": {},
   "source": [
    "### Step 2: Define our XGBoost classifier "
   ]
  },
  {
   "cell_type": "code",
   "execution_count": 8,
   "id": "6760a164",
   "metadata": {},
   "outputs": [],
   "source": [
    "model = XGBClassifier(objective='binary:logistic', \n",
    "                      n_jobs=1, \n",
    "                      eval_metric='auc', \n",
    "                      random_state=1234, \n",
    "                      verbosity=1, \n",
    "                      use_label_encoder=False)"
   ]
  },
  {
   "cell_type": "markdown",
   "id": "ad249ebd-674f-4b1f-8bba-d357818ad9ba",
   "metadata": {},
   "source": [
    "### Step 3: Use Vanilla sklearn RandomSearchCV and GridSearchCV without parameters search space"
   ]
  },
  {
   "cell_type": "code",
   "execution_count": null,
   "id": "3c5bdd76",
   "metadata": {
    "tags": []
   },
   "outputs": [],
   "source": [
    "%%time\n",
    "train_model_and_print_test_score(model, X_train, y_train, X_test, y_test)"
   ]
  },
  {
   "cell_type": "markdown",
   "id": "a89b8f62-9c55-4228-a230-03c5186f0767",
   "metadata": {},
   "source": [
    "### Step 4: Use Vanilla sklearn RandomSearchCV and GridSearchCV with parameters search space"
   ]
  },
  {
   "cell_type": "code",
   "execution_count": 10,
   "id": "57b97f49",
   "metadata": {
    "tags": []
   },
   "outputs": [],
   "source": [
    "params = {\n",
    "        \"max_depth\": randint(1, 5),\n",
    "        \"min_child_weight\": loguniform(0.001, 128),\n",
    "        \"subsample\": uniform(0.1, 1.0),\n",
    "        \"colsample_bylevel\": uniform(0.01, 1.0),\n",
    "        \"colsample_bytree\": uniform(0.01, 1.0),\n",
    "        \"reg_alpha\": loguniform(1 / 1024, 10.0),\n",
    "        \"reg_lambda\": loguniform(1 / 1024, 10.0),\n",
    "        \"scale_pos_weight\": [1, 26],\n",
    "}\n",
    "number_of_cv_splits = 3"
   ]
  },
  {
   "cell_type": "code",
   "execution_count": 11,
   "id": "58b13d2d-739c-4f5b-9f7c-6fc05a43d6d9",
   "metadata": {},
   "outputs": [
    {
     "name": "stdout",
     "output_type": "stream",
     "text": [
      "Fitting 3 folds for each of 100 candidates, totalling 300 fits\n",
      "CPU times: user 28.9 s, sys: 452 ms, total: 29.4 s\n",
      "Wall time: 10min 59s\n"
     ]
    },
    {
     "data": {
      "text/plain": [
       "RandomizedSearchCV(cv=3,\n",
       "                   estimator=XGBClassifier(base_score=None, booster=None,\n",
       "                                           colsample_bylevel=None,\n",
       "                                           colsample_bynode=None,\n",
       "                                           colsample_bytree=None,\n",
       "                                           enable_categorical=False,\n",
       "                                           eval_metric='auc', gamma=None,\n",
       "                                           gpu_id=None, importance_type=None,\n",
       "                                           interaction_constraints=None,\n",
       "                                           learning_rate=None,\n",
       "                                           max_delta_step=None, max_depth=None,\n",
       "                                           min_child_weight=None, missing=nan,\n",
       "                                           mo...\n",
       "                                        'min_child_weight': <scipy.stats._distn_infrastructure.rv_frozen object at 0x7fc330fd2c10>,\n",
       "                                        'reg_alpha': <scipy.stats._distn_infrastructure.rv_frozen object at 0x7fc341989310>,\n",
       "                                        'reg_lambda': <scipy.stats._distn_infrastructure.rv_frozen object at 0x7fc341955110>,\n",
       "                                        'scale_pos_weight': [1, 26],\n",
       "                                        'subsample': <scipy.stats._distn_infrastructure.rv_frozen object at 0x7fc34195f290>},\n",
       "                   scoring='roc_auc', verbose=1)"
      ]
     },
     "execution_count": 11,
     "metadata": {},
     "output_type": "execute_result"
    }
   ],
   "source": [
    "%%time\n",
    "gs = RandomizedSearchCV(\n",
    "    model, \n",
    "    params,\n",
    "    cv=number_of_cv_splits,\n",
    "    n_iter=100, \n",
    "    scoring='roc_auc', \n",
    "    n_jobs=-1, # use all cores in a single node\n",
    "    verbose=1,\n",
    ")\n",
    "\n",
    "gs.fit(X_train, y_train)                    "
   ]
  },
  {
   "cell_type": "code",
   "execution_count": 12,
   "id": "805eab54-7d0e-4f15-a7c9-87794bd29e26",
   "metadata": {},
   "outputs": [
    {
     "name": "stdout",
     "output_type": "stream",
     "text": [
      "Sklearn total tuning time grid took: 24.557242 seconds\n",
      "Sklearn grid search took: 24.557242 seconds\n",
      "Best score for AUC: 0.637\n"
     ]
    }
   ],
   "source": [
    "# Report some time and performance statistics\n",
    "total_tuning_compute_time = np.sum(gs.cv_results_['mean_fit_time'])\n",
    "average_train_time = np.mean(gs.cv_results_['mean_fit_time'])\n",
    "print(f'Sklearn total tuning time grid took: {average_train_time:02f} seconds')\n",
    "print(f'Sklearn grid search took: {average_train_time:02f} seconds')\n",
    "print(f'Best score for AUC: {gs.best_score_:.3f}') "
   ]
  },
  {
   "cell_type": "markdown",
   "id": "811690c2-439e-462c-89a4-fdf5ad3f17a6",
   "metadata": {},
   "source": [
    "### Step 4: Let's try with Ray Tune\n",
    "\n",
    "Taking an exisiting sci-kit learn program and converting to Ray Tune, using its drop-in replacement,\n",
    "takes only few lines of code changes."
   ]
  },
  {
   "cell_type": "code",
   "execution_count": 13,
   "id": "a262c381-4780-40a5-82e3-ca4670bfd620",
   "metadata": {},
   "outputs": [
    {
     "data": {
      "text/plain": [
       "{'node_ip_address': '127.0.0.1',\n",
       " 'raylet_ip_address': '127.0.0.1',\n",
       " 'redis_address': '127.0.0.1:6379',\n",
       " 'object_store_address': '/tmp/ray/session_2021-11-27_07-46-01_629220_20667/sockets/plasma_store',\n",
       " 'raylet_socket_name': '/tmp/ray/session_2021-11-27_07-46-01_629220_20667/sockets/raylet',\n",
       " 'webui_url': None,\n",
       " 'session_dir': '/tmp/ray/session_2021-11-27_07-46-01_629220_20667',\n",
       " 'metrics_export_port': 60864,\n",
       " 'node_id': '1d08912e77a1838f2a91274696bdfcfd1839bb17989653add1b5c531'}"
      ]
     },
     "execution_count": 13,
     "metadata": {},
     "output_type": "execute_result"
    }
   ],
   "source": [
    "# ray.init(address=\"auto\", ignore_reinit_error=True)     # Connects to a Ray cluster   \n",
    "ray.init(ignore_reinit_error=True)                       # Runs locally on my laptop"
   ]
  },
  {
   "cell_type": "code",
   "execution_count": 14,
   "id": "55179624-4665-4a01-b996-7dbd2286f7e2",
   "metadata": {},
   "outputs": [
    {
     "data": {
      "text/plain": [
       "{'object_store_memory': 4919230464.0,\n",
       " 'memory': 9838460928.0,\n",
       " 'CPU': 12.0,\n",
       " 'node:127.0.0.1': 1.0}"
      ]
     },
     "execution_count": 14,
     "metadata": {},
     "output_type": "execute_result"
    }
   ],
   "source": [
    "ray.cluster_resources()"
   ]
  },
  {
   "cell_type": "markdown",
   "id": "fb3beeee-c24e-421d-9715-13b05fe7608a",
   "metadata": {},
   "source": [
    "### Define our hyperparameter config space using tune"
   ]
  },
  {
   "cell_type": "code",
   "execution_count": 15,
   "id": "0855fcc4-8c63-4116-b8fe-65abf024a1e9",
   "metadata": {},
   "outputs": [],
   "source": [
    "tune_config_params = {\n",
    "        \"max_depth\": tune.randint(1, 5),\n",
    "        \"min_child_weight\": tune.loguniform(0.001, 128),\n",
    "        \"subsample\": tune.uniform(0.1, 1.0),\n",
    "        \"colsample_bylevel\": tune.uniform(0.01, 1.0),\n",
    "        \"colsample_bytree\": tune.uniform(0.01, 1.0),\n",
    "        \"reg_alpha\": tune.loguniform(1 / 1024, 10.0),\n",
    "        \"reg_lambda\": tune.loguniform(1 / 1024, 10.0),\n",
    "        \"scale_pos_weight\": tune.choice([1, 26]),\n",
    "}"
   ]
  },
  {
   "cell_type": "markdown",
   "id": "0296356f-b02f-447b-a26a-8bcc75b2fbda",
   "metadata": {},
   "source": [
    "### Use Tune's drop-in replacement: TuneSearchCV"
   ]
  },
  {
   "cell_type": "code",
   "execution_count": 16,
   "id": "6f48d27a-0c55-4975-b455-25d4822267c8",
   "metadata": {},
   "outputs": [
    {
     "data": {
      "text/html": [
       "== Status ==<br>Current time: 2021-11-27 08:30:45 (running for 00:44:41.25)<br>Memory usage on this node: 14.4/32.0 GiB<br>Using AsyncHyperBand: num_stopped=77\n",
       "Bracket: Iter 4.000: 0.6365798557480311 | Iter 1.000: 0.63548914396175<br>Resources requested: 0/12 CPUs, 0/0 GPUs, 0.0/9.16 GiB heap, 0.0/4.58 GiB objects<br>Current best trial: 529f0e24 with average_test_score=0.637886010407827 and parameters={'max_depth': 3, 'min_child_weight': 0.06926412977452452, 'subsample': 0.9299617438456829, 'colsample_bylevel': 0.027348326980587125, 'colsample_bytree': 0.12074232732777815, 'reg_alpha': 8.066616375199791, 'reg_lambda': 0.004162026998429759, 'scale_pos_weight': 1}<br>Result logdir: /Users/jules/ray_results/tune-experiment<br>Number of trials: 100/100 (100 TERMINATED)<br><br>"
      ],
      "text/plain": [
       "<IPython.core.display.HTML object>"
      ]
     },
     "metadata": {},
     "output_type": "display_data"
    },
    {
     "name": "stdout",
     "output_type": "stream",
     "text": [
      "CPU times: user 1min 46s, sys: 25.7 s, total: 2min 12s\n",
      "Wall time: 44min 50s\n"
     ]
    },
    {
     "data": {
      "text/plain": [
       "TuneSearchCV(cv=3,\n",
       "             early_stopping=<ray.tune.schedulers.async_hyperband.AsyncHyperBandScheduler object at 0x7fc341b8fd50>,\n",
       "             estimator=XGBClassifier(base_score=None, booster=None,\n",
       "                                     colsample_bylevel=None,\n",
       "                                     colsample_bynode=None,\n",
       "                                     colsample_bytree=None,\n",
       "                                     enable_categorical=False,\n",
       "                                     eval_metric='auc', gamma=None, gpu_id=None,\n",
       "                                     importance_type=None,\n",
       "                                     interaction_constraints=No...\n",
       "                                  'reg_alpha': <ray.tune.sample.Float object at 0x7fc341ba2d90>,\n",
       "                                  'reg_lambda': <ray.tune.sample.Float object at 0x7fc341ba2e10>,\n",
       "                                  'scale_pos_weight': <ray.tune.sample.Categorical object at 0x7fc341ba2e90>,\n",
       "                                  'subsample': <ray.tune.sample.Float object at 0x7fc341ba2b10>},\n",
       "             scoring={'score': make_scorer(roc_auc_score, needs_threshold=True)},\n",
       "             search_optimization='optuna', sk_n_jobs=1, verbose=1)"
      ]
     },
     "execution_count": 16,
     "metadata": {},
     "output_type": "execute_result"
    }
   ],
   "source": [
    "%%time\n",
    "tune_gs = TuneSearchCV(\n",
    "    model, \n",
    "    tune_config_params,\n",
    "    cv=3,\n",
    "    n_trials=100, \n",
    "    scoring='roc_auc', \n",
    "    n_jobs=-1,  # change to 40 if running on a ray cluster \n",
    "                # or equal to total number of CPUs \n",
    "    verbose=1,\n",
    "    # Custom Key word arguments\n",
    "    early_stopping=True,\n",
    "    max_iters=10,   #equivalent to epoch in NN      \n",
    "    loggers = [\"tensorboard\"],\n",
    "    search_optimization=\"optuna\", # Default is ASHA\n",
    "    name=\"tune-experiment\"\n",
    ")\n",
    "\n",
    "tune_gs.fit(X_train, y_train, tune_params=dict(callbacks=[TqdmCallback()]))"
   ]
  },
  {
   "cell_type": "code",
   "execution_count": 17,
   "id": "b1bc46c2-dd5c-4a4b-94ed-74b8aa494dba",
   "metadata": {},
   "outputs": [
    {
     "name": "stdout",
     "output_type": "stream",
     "text": [
      "Best parameters: {'max_depth': 3, 'min_child_weight': 0.06926412977452452, 'subsample': 0.9299617438456829, 'colsample_bylevel': 0.027348326980587125, 'colsample_bytree': 0.12074232732777815, 'reg_alpha': 8.066616375199791, 'reg_lambda': 0.004162026998429759, 'scale_pos_weight': 1}\n",
      "Best AUC score : 0.637886010407827\n"
     ]
    }
   ],
   "source": [
    "print(f'Best parameters: {tune_gs.best_params_}')\n",
    "print(f'Best AUC score : {tune_gs.best_score_}')"
   ]
  },
  {
   "cell_type": "markdown",
   "id": "d991f9f9-f02b-4405-9637-f7821805b468",
   "metadata": {},
   "source": [
    "#### Plot the times"
   ]
  },
  {
   "cell_type": "code",
   "execution_count": null,
   "id": "63f73833-3643-4142-b073-c3171b001fab",
   "metadata": {},
   "outputs": [],
   "source": [
    "plot_cv_score(tune_gs.analysis_)"
   ]
  },
  {
   "cell_type": "code",
   "execution_count": null,
   "id": "0bf2bc09-50ce-4ea7-86ab-c1767d75afd7",
   "metadata": {},
   "outputs": [],
   "source": [
    "ray.shutdown()"
   ]
  }
 ],
 "metadata": {
  "kernelspec": {
   "display_name": "Python 3 (ipykernel)",
   "language": "python",
   "name": "python3"
  },
  "language_info": {
   "codemirror_mode": {
    "name": "ipython",
    "version": 3
   },
   "file_extension": ".py",
   "mimetype": "text/x-python",
   "name": "python",
   "nbconvert_exporter": "python",
   "pygments_lexer": "ipython3",
   "version": "3.7.12"
  }
 },
 "nbformat": 4,
 "nbformat_minor": 5
}
