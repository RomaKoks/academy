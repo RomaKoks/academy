{
 "cells": [
  {
   "cell_type": "markdown",
   "metadata": {},
   "source": [
    "# Advanced Ray Tutorial - Exercise Solutions\n",
    "\n",
    "© 2019-2021, Anyscale. All Rights Reserved\n",
    "\n",
    "![Anyscale Academy](../../images/AnyscaleAcademyLogo.png)\n",
    "\n",
    "First, import everything we'll need and start Ray:"
   ]
  },
  {
   "cell_type": "code",
   "execution_count": null,
   "metadata": {},
   "outputs": [],
   "source": [
    "import ray, time, sys\n",
    "import numpy as np\n",
    "sys.path.append(\"../..\")\n",
    "from util.printing import pd, pnd  # convenience methods for printing results."
   ]
  },
  {
   "cell_type": "code",
   "execution_count": null,
   "metadata": {},
   "outputs": [],
   "source": [
    "ray.init(ignore_reinit_error=True)"
   ]
  },
  {
   "cell_type": "markdown",
   "metadata": {},
   "source": [
    "## Exercise 1 in 01: Ray Tasks Revisited\n",
    "\n",
    "You were asked to convert the regular Python code to Ray code. Here are the three cells appropriately modified.\n",
    "\n",
    "First, we need the appropriate imports and `ray.init()`."
   ]
  },
  {
   "cell_type": "code",
   "execution_count": null,
   "metadata": {},
   "outputs": [],
   "source": [
    "@ray.remote\n",
    "def slow_square(n):\n",
    "    time.sleep(n)\n",
    "    return n*n"
   ]
  },
  {
   "cell_type": "code",
   "execution_count": null,
   "metadata": {},
   "outputs": [],
   "source": [
    "start = time.time()\n",
    "refs = [slow_square.remote(n) for n in range(4)]\n",
    "squares = ray.get(refs)\n",
    "duration = time.time() - start"
   ]
  },
  {
   "cell_type": "code",
   "execution_count": null,
   "metadata": {},
   "outputs": [],
   "source": [
    "assert squares == [0, 1, 4, 9]\n",
    "# should fail until the code modifications are made:\n",
    "assert duration < 4.1, f'duration = {duration}' "
   ]
  },
  {
   "cell_type": "markdown",
   "metadata": {},
   "source": [
    "## Exercise 2 in 01: Ray Tasks Revisited\n",
    "\n",
    "You were asked to use `ray.wait()` with a shorter timeout, `2.5` seconds. First we need to redefine in this notebook the remote functions we used in that lesson:"
   ]
  },
  {
   "cell_type": "code",
   "execution_count": null,
   "metadata": {},
   "outputs": [],
   "source": [
    "@ray.remote\n",
    "def make_array(n):\n",
    "    time.sleep(n/10.0)\n",
    "    return np.random.standard_normal(n)\n",
    "\n",
    "@ray.remote\n",
    "def add_arrays(a1, a2):\n",
    "    time.sleep(a1.size/10.0)\n",
    "    return np.add(a1, a2)"
   ]
  },
  {
   "cell_type": "code",
   "execution_count": null,
   "metadata": {},
   "outputs": [],
   "source": [
    "start = time.time()\n",
    "array_refs = [make_array.remote(n*10) for n in range(5)]\n",
    "added_array_refs = [add_arrays.remote(ref, ref) for ref in array_refs]\n",
    "\n",
    "arrays = []\n",
    "waiting_refs = list(added_array_refs)  # Assign a working list to the full list of refs\n",
    "while len(waiting_refs) > 0:            # Loop until all tasks have completed\n",
    "    # Call ray.wait with:\n",
    "    #   1. the list of refs we're still waiting to complete,\n",
    "    #   2. tell it to return immediately as soon as TWO of them complete,\n",
    "    #   3. tell it wait up to 10 seconds before timing out.\n",
    "    return_n = 2 if len(waiting_refs) > 1 else 1\n",
    "    ready_refs, remaining_refs = ray.wait(waiting_refs, num_returns=return_n, timeout=2.5)\n",
    "    print('Returned {:3d} completed tasks. (elapsed time: {:6.3f})'.format(len(ready_refs), time.time() - start))\n",
    "    new_arrays = ray.get(ready_refs)\n",
    "    arrays.extend(new_arrays)\n",
    "    for array in new_arrays:\n",
    "        print(f'{array.size}: {array}')\n",
    "    waiting_refs = remaining_refs  # Reset this list; don't include the completed refs in the list again!\n",
    "    \n",
    "print(f\"\\nall arrays: {arrays}\")\n",
    "pd(time.time() - start, prefix=\"Total time:\")"
   ]
  },
  {
   "cell_type": "markdown",
   "metadata": {},
   "source": [
    "For a timeout of `2.5` seconds, the second call to `ray.wait()` times out before two tasks finish, so it only returns one completed task. Why did the third and last iteration not time out? (That is, they both successfully returned two items.) It's because all the tasks were running in parallel so they had time to finish. If you use a shorter timeout, you'll see more time outs, where zero or one items are returned. \n",
    "\n",
    "Try `1.5` seconds, where all but one iteration times out and returns one item. The first iteration returns two items.\n",
    "Try `0.5` seconds, where you'll get several iterations that time out and return zero items, while all the other iterations time out and return one item."
   ]
  },
  {
   "cell_type": "markdown",
   "metadata": {},
   "source": [
    "## Exercise 3 in 01: Ray Tasks Revisited\n",
    "\n",
    "You were asked to convert the code to use Ray, especially `ray.wait()`."
   ]
  },
  {
   "cell_type": "code",
   "execution_count": null,
   "metadata": {},
   "outputs": [],
   "source": [
    "@ray.remote\n",
    "def slow_square(n):\n",
    "    time.sleep(n)\n",
    "    return n*n\n",
    "\n",
    "start = time.time()\n",
    "refs = [slow_square.remote(n) for n in range(4)]\n",
    "squares = []\n",
    "waiting_refs = refs\n",
    "while len(waiting_refs) > 0:\n",
    "    finished_refs, waiting_refs = ray.wait(waiting_refs)  # We just assign the second list to waiting_refs...\n",
    "    squares.extend(ray.get(finished_refs))\n",
    "duration = time.time() - start"
   ]
  },
  {
   "cell_type": "code",
   "execution_count": null,
   "metadata": {},
   "outputs": [],
   "source": [
    "assert squares == [0, 1, 4, 9]\n",
    "assert duration < 4.1, f'duration = {duration}' "
   ]
  },
  {
   "cell_type": "markdown",
   "metadata": {},
   "source": [
    "## Exercise - \"Homework\" - in 02: Ray Actors Revisited\n",
    "\n",
    "Since profiling shows that `live_neighbors` is the bottleneck, what could be done to reduce its execution time? The new implementation  solution shown here reduces its overhead by about 40%. Not bad. \n",
    "\n",
    "The solution also implements parallel invocations grid updates, rather doing the whole grid in sequential steps.\n",
    "\n",
    "As discussed in lesson 4, these kinds of optimizations make sense when you _really_ have a compelling reason to squeeze optimal performance out of the code. Hence, this optimization exercise will mostly appeal to those of you with such requirements or who low-level performance optimizations like this. \n",
    "\n",
    "This solution for optimizing `live_neighbors` was developed using [micro-perf-tests.py](micro-perf-tests.py). The changes to the game code can be found in [game-of-life-2-exercise.py](game-of-life-2-exercise.py) rather than repeating them in cells here. Both scripts run standalone and both have a `--help` flag for more information.\n",
    "\n",
    "If you tried the \"easier experiments\" suggested, such as enhancing `RayConwaysRules.step()` to accept a `num_steps` argument, you probably found that they didn't improve performance. As for the non-Ray game, this change only moves processing around but doesn't parallelize it more than before, so performance is about the same."
   ]
  },
  {
   "cell_type": "code",
   "execution_count": null,
   "metadata": {},
   "outputs": [],
   "source": [
    "from game_of_life_2_exercise import RayGame, apply_rules_block, time_ray_games"
   ]
  },
  {
   "cell_type": "markdown",
   "metadata": {},
   "source": [
    "For comparison, one set of test runs with the exercise code before improvements took about 25 seconds.\n",
    "\n",
    "If you look at `RayGame2.step`, it calls `RayConwaysRules.step` one step at a time, using remote calls. This seems like a good place for improvement. Let's extend `RayConwaysRules.step` to do more than one step, just like `RayGame2.step` already supports.\n",
    "\n",
    "Changes are indicated with comments."
   ]
  },
  {
   "cell_type": "code",
   "execution_count": null,
   "metadata": {},
   "outputs": [],
   "source": [
    "time_ray_games(\n",
    "    num_games = 1, \n",
    "    max_steps = 400, \n",
    "    batch_size = 1, \n",
    "    grid_dimensions = (100,100), \n",
    "    use_block_updates = False)"
   ]
  },
  {
   "cell_type": "markdown",
   "metadata": {},
   "source": [
    "In a test run, this ran in about 15.5 seconds, about 9.5 seconds faster than the first version! Hence, as expected, optimizing `live_neighbors` provided significant improvement.\n",
    "\n",
    "What about using block updates? Let's try a bigger grid, but fewer steps. First, without the block updates:"
   ]
  },
  {
   "cell_type": "code",
   "execution_count": null,
   "metadata": {},
   "outputs": [],
   "source": [
    "time_ray_games(\n",
    "    num_games = 1, \n",
    "    max_steps = 100, \n",
    "    batch_size = 1, \n",
    "    grid_dimensions = (200,200), \n",
    "    use_block_updates = False)"
   ]
  },
  {
   "cell_type": "code",
   "execution_count": null,
   "metadata": {},
   "outputs": [],
   "source": [
    "time_ray_games(\n",
    "    num_games = 1, \n",
    "    max_steps = 100, \n",
    "    batch_size = 1, \n",
    "    grid_dimensions = (200,200), \n",
    "    use_block_updates = True,\n",
    "    block_size = 50)  # The default block size is -1, so no blocks are used!"
   ]
  },
  {
   "cell_type": "markdown",
   "metadata": {},
   "source": [
    "In a test run, this performed about twice as fast! So block processing definitely helps."
   ]
  },
  {
   "cell_type": "markdown",
   "metadata": {},
   "source": [
    "Finally, does batching help? We'll use fewer steps and the original 100x100 grid. First without batching and then with batching:"
   ]
  },
  {
   "cell_type": "code",
   "execution_count": null,
   "metadata": {},
   "outputs": [],
   "source": [
    "%time time_ray_games(num_games = 1, max_steps = 100, batch_size = 1, grid_dimensions = (100,100), use_block_updates=False)"
   ]
  },
  {
   "cell_type": "code",
   "execution_count": null,
   "metadata": {},
   "outputs": [],
   "source": [
    "%time time_ray_games(num_games = 1, max_steps = 100, batch_size = 50, grid_dimensions = (100,100), use_block_updates=False)"
   ]
  },
  {
   "cell_type": "markdown",
   "metadata": {},
   "source": [
    "Batching doesn't make much difference and in fact, we don't expect to matter, because it doesn't change the parallelism, like blocking does, and it doesn't make the algorithm more efficient, like the new `live_neighbors` does.\n",
    "\n",
    "To conclude, the new implementation of `live_neighbors` has a noticable benefit. Batching doesn't make much difference, but using parallel blocks helps a lot."
   ]
  }
 ],
 "metadata": {
  "kernelspec": {
   "display_name": "Python 3 (ipykernel)",
   "language": "python",
   "name": "python3"
  },
  "language_info": {
   "codemirror_mode": {
    "name": "ipython",
    "version": 3
   },
   "file_extension": ".py",
   "mimetype": "text/x-python",
   "name": "python",
   "nbconvert_exporter": "python",
   "pygments_lexer": "ipython3",
   "version": "3.7.10"
  }
 },
 "nbformat": 4,
 "nbformat_minor": 4
}
