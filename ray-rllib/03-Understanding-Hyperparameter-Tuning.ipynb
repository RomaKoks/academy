{
 "cells": [
  {
   "cell_type": "markdown",
   "metadata": {},
   "source": [
    "# Ray Tune - Understanding Hyperparameter Tuning\n",
    "\n",
    "© 2019-2022, Anyscale. All Rights Reserved\n",
    "\n",
    "![Anyscale Academy](../images/AnyscaleAcademyLogo.png)"
   ]
  },
  {
   "cell_type": "markdown",
   "metadata": {},
   "source": [
    "Many of the [Ray RLlib](../ray-rllib/00-Ray-RLlib-Overview.ipynb) lessons used [Ray Tune](http://tune.io) to train policies. This meant we trained _parameters_ that defined the policies. Now we'll learn that Ray Tune was actually designed to determine the best _hyperparameters_ for the problem, before training to determine the _parameters_.\n",
    "\n",
    "This lesson introduces the concepts of _Hyperparameter Tuning or Optimization_ (HPO) and works through a nontrivial example using Tune. \n",
    "\n",
    "See also the [Hyperparameter Tuning References](References-Hyperparameter-Tuning.ipynb) notebook and the [Tune documentation](http://tune.io), in particular, the [API reference](https://docs.ray.io/en/latest/tune/api_docs/overview.html). \n",
    "\n",
    "A [Ray Summit Connect](https://anyscale.com/blog/videos-and-slides-for-the-second-ray-summit-connect-june-17-2020/) talk by the creator of Tune, Richard Liaw, provides an excellent overview of the challenges of hyperparameter tuning and how Tune addresses these challenges. Another recent webinar [Fast and efficient hyperparameter tuning with Ray Tune](https://www.anyscale.com/events/2021/10/20/fast-scalable-hyperparameter-tuning-ray-tune) complements the discussion here."
   ]
  },
  {
   "cell_type": "markdown",
   "metadata": {},
   "source": [
    "## What Are Hyperparameters?\n",
    "\n",
    "In _supervised learning_, we train a model with labeled data so the model can properly label new data values. Everything about the model is defined by a set of _parameters_, such as the weights in a linear regression. \n",
    "\n",
    "In contrast, the _hyperparameters_<sup>1</sup> define structural details about the kind of model itself, like whether or not we are using a linear regression or what architecture is best for a neural network, etc. Other quantities considered hyperparameters include learning rates, discount rates, etc. If we want our training process and resulting model to work well, we first need to determine the optimal or near-optimal set of hyperparameters.\n",
    "\n",
    "How do we determine the optimal hyperparameters? The most straightfoward approach is to perform a loop where we pick a candidate set of values from some reasonably inclusive list of possible values, train a model, compare the results achieved with previous loop iterations, and pick the set that performed best. This process is called _Hyperparameter Tuning_ or _Optimization_ (HPO).\n",
    "\n",
    "This simple algorithm can quickly become very expensive, however. Training a single neural networks can be compute intensive and the space of all possible architectures is huge. Hence, much of the research in hyperparameter tuning, especially for neural networks, focuses on ways to optimize HPO, such as early stopping and pruning the search space when some combinations appear to perform poorly.\n",
    "\n",
    "1. _Hyperparameter_ is often spelled _hyper parameter_ or _hyper-parameter_, but we'll use the spelling with no space or dash.\n",
    "\n",
    "![](../images/tune/what-are-hyperparameters.png)"
   ]
  },
  {
   "cell_type": "markdown",
   "metadata": {},
   "source": [
    "## A Simple Example: $k$-Means \n",
    "\n",
    "Let's start with a very simple example of HPO, finding $k$ in $k$-means. \n",
    "\n",
    "The $k$-means algorithm finds clusters in a data set. It's a canonical example of _unsupervised learning_, where information is extracted from a data set, rather than using labeled data to train a model for labelling new data, as in _supervised learning_. We won't discuss the algorithm details, but the essense of it involves a \"guess\" for the expected number of clusters, the $k$ value, then calculating $k$ centroids (the coordinates at the center), one per cluster, along with determining to which cluster each data point belongs. The details are in [$k$-means Wikipedia article](https://en.wikipedia.org/wiki/K-means_clustering). The following animation shows the algorithm in action for a two-dimensional data set where three clusters are evident.\n",
    "\n",
    "![K-Means Convergence](../images/tune/K-means_convergence.gif)\n",
    "\n",
    "(source: [Wikipedia](https://en.wikipedia.org/wiki/K-means_clustering). [Larger Image](https://en.wikipedia.org/wiki/K-means_clustering#/media/File:K-means_convergence.gif))"
   ]
  },
  {
   "cell_type": "markdown",
   "metadata": {},
   "source": [
    "While it is easy to see the clusters in this two-dimensional data set, that won't be for arbitrary datasets, especially those with more than three dimensions. Hence, we should determine the best $k$ value by trying many values and picking the value that appears to be best. In this case, \"best\" would mean that we minimize the distances between the datapoints and centroids. \n",
    "\n",
    "With just one hyperparameter, this problem is comparatively simple and brute force calculations to find the optimal $k$ is usually good enough."
   ]
  },
  {
   "cell_type": "markdown",
   "metadata": {},
   "source": [
    "## HPO for Neural Networks\n",
    "\n",
    "Where HPO really becomes a challenge is finding the right neural network architecture for your problem. Why are neural networks a challenge? Consider this image of a typical architecture:\n",
    "\n",
    "![Typical Neural Network](../images/tune/hpo-neural-network-example.png)\n",
    "\n",
    "Every number you see is a hyperparameter! So are the decisions about how many layers to have, what kind of layer to use for each layer, etc. The space of possible hyperparameters is enormous, too big to explore naively.\n",
    "\n",
    "So called _neural architecture search_ (NAS) has become a research field in its own right, along with general research in optimizing HPO. "
   ]
  },
  {
   "cell_type": "markdown",
   "metadata": {},
   "source": [
    "## Introduction to Ray Tune\n",
    "\n",
    "[Ray Tune](http://tune.io) is the Ray-based native library for hyperparameter tuning. Tune makes it nearly as easy to run distributed, parallelized HPO as it is to run trials on a single machine manually, one after the other. \n",
    "\n",
    "Tune is built as an extensible, pluggable framework, with built-in integrations for many frameworks, including [OpenAI Gym environments](https://gym.openai.com/envs/), [PyTorch](https://pytorch.org), [TensorFlow](http://tensorflow.org), and recently, [sci-kit learn](https://scikit-learn.org/stable/) (see [this recent blog post](https://medium.com/distributed-computing-with-ray/gridsearchcv-2-0-new-and-improved-ee56644cbabf)).\n",
    "\n",
    "## How Tune Works\n",
    "\n",
    "Before we get into using Tune, let's understand the some definitions, terms, and components. With this understanding, you will get an insight into what happens when you use Tune to search your hyperparameter space and optimize your process to select the best, optimized model.\n",
    "\n",
    "## Definitions\n",
    "\n",
    "After a short preview of the [Tune basic steps and concepts](01-Ray-Tune-Warmup.ipynb) in our warm up tutorial, let's get an intuition of what those terms and steps mean.  \n",
    "\n",
    "#### Trainable\n",
    "This is your training function, with an objective function. As [trainable](https://docs.ray.io/en/latest/tune/api_docs/trainable.html?highlight=trainable#ray.tune.Trainable), it's one of the argument to `tune.run(...)` method. Tune offers two iterface APIs for trainable: functional and class.\n",
    "\n",
    "\n",
    "#### Trial\n",
    "\n",
    "A trial is an execution or run of a logical representation of a single hyperparameter configuration. Each trial is associated with an instance of a Trainable. And a collection of trials comprise an experiment.\n",
    "\n",
    "#### Lifecycle of a trial¶\n",
    "A trial’s life cycle consists of 6 stages:\n",
    "\n",
    "Initialization (generation): A trial is first generated as a hyperparameter sample, and its parameters are configured according to what was provided in `tune.run` as part of the `config` arggument. Trials are then placed into a queue to be executed (with status PENDING).\n",
    "\n",
    "**PENDING**: A pending trial is a trial to be executed on the machine. Every trial is configured with resource values. Whenever the trial’s resource values are available, tune will run the trial (by starting a ray actor holding the config and the training function).\n",
    "\n",
    "**RUNNING**: A running trial is assigned a Ray Actor. There can be multiple running trials in parallel.\n",
    "\n",
    "**ERRORED**: If a running trial throws an exception, Tune will catch that exception and mark the trial as errored. Note that exceptions can be propagated from an actor to the main Tune driver process. If `max_retries` is set, Tune will set the trial back into “PENDING” and later start it from the last checkpoint.\n",
    "\n",
    "**TERMINATED**: A trial is terminated if it is stopped or finished by a Stopper/Scheduler. If using the Function API, the trial is also terminated when the function stops.\n",
    "\n",
    "**PAUSED**: A trial can be paused by a Trial scheduler. This means that the trial’s actor will be stopped too. A paused trial can later be resumed from the most recent checkpoint.\n",
    "\n",
    "\n",
    "#### Driver/worker process\n",
    "\n",
    "The driver process is the python process that calls `tune.run` (which calls ray.init() underneath the hood); therefore, you\n",
    "do not need to invoke `ray.init(...)` explicity. Tune does it for you during its inital run. The Tune's driver process runs on the node where you run your script (which calls `tune.run`), while Ray Tune trainable “actors” run on any node (either on the same node on multiple cores) or on worker nodes (with multiple cores on a distributed Ray cluster).\n",
    "\n",
    "#### Ray Actors\n",
    "\n",
    "Tune uses Ray Actors as worker node's processes to evaluate multiple Trainables in parallel.\n",
    "\n",
    "[Ray Actors](https://docs.ray.io/en/latest/actors.html#actor-guide) allow you to parallelize an instance of a class in Python. When you instantiate a class that is a Ray actor, Ray will start a instance of that class on a separate process either on the same machine (or another distributed machine, if running a Ray cluster). This actor can then asynchronously execute method calls and maintain its own internal state.\n",
    "\n",
    "### The execution of a trainable¶\n",
    "Tune uses Ray actors to parallelize the evaluation of multiple hyperparameter configurations. Each actor is a Python process that executes an instance of the user-provided Trainable. The definition of the user-provided Trainable will be [serialized via cloudpickle](https://docs.ray.io/en/latest/serialization.html#serialization-guide) and sent to each actor process. Each Ray actor will start an instance of the Trainable to be executed.\n",
    "\n",
    "If the Trainable is a class, it will be executed iteratively by calling train/step. After each invocation, the driver is notified that a “result dict” is ready. The driver will then pull the result via `ray.get`.\n",
    "\n",
    "If the trainable is a callable or a function, it will be executed on the Ray actor process on a separate execution thread. Whenever `tune.report` is called, the execution thread is paused and waits for the driver to pull a result. After pulling, the actor’s execution thread will automatically resume.\n",
    "\n",
    "The diagram below depicts how Tune launches trainables on the worker nodes as processes in which the the trainables are run. \n",
    "Each trial will have its own instance of a trainable, hence we parallelize trials and its respective configuration across cores on a worker. \n",
    "\n",
    "![](../images/ray_tune_report_launch_trainables.png)\n",
    "\n",
    "Whenever the trainble calls `tune.report`, the driver will pull the metrics via `ray.get`, as shown in the diagram below.\n",
    "\n",
    "![](../images/ray_tune_report_metrics.png)\n",
    "\n",
    "\n",
    "Tune also integrates implementations of many state-of-the-art [search algorithms](https://docs.ray.io/en/latest/tune/api_docs/suggestion.html) and [schedulers](https://docs.ray.io/en/latest/tune/api_docs/schedulers.html), so it is easy to optimize your HPO process."
   ]
  },
  {
   "cell_type": "markdown",
   "metadata": {},
   "source": [
    "<hr style=\"border:3px solid gray\"> </hr>"
   ]
  },
  {
   "cell_type": "markdown",
   "metadata": {
    "tags": []
   },
   "source": [
    "## Using Ray Tune and RLlib\n",
    "\n",
    "We used Ray Tune in several of the reinforcement learning lessons, where we actually didn't optimize any hyperparameters; we just used it to drive the RLlib training process. Now we'll see an example of HPO with Tune."
   ]
  },
  {
   "cell_type": "markdown",
   "metadata": {},
   "source": [
    "First, we want to make sure that Ray is running and we want to initialize Ray in this \"driver\" program explicitly. "
   ]
  },
  {
   "cell_type": "code",
   "execution_count": 1,
   "metadata": {},
   "outputs": [],
   "source": [
    "import ray\n",
    "from ray import tune"
   ]
  },
  {
   "cell_type": "markdown",
   "metadata": {},
   "source": [
    "Now we start Ray in this \"driver\" program (notebook)."
   ]
  },
  {
   "cell_type": "code",
   "execution_count": 2,
   "metadata": {},
   "outputs": [
    {
     "name": "stderr",
     "output_type": "stream",
     "text": [
      "2022-02-21 11:39:57,733\tINFO services.py:1376 -- View the Ray dashboard at \u001b[1m\u001b[32mhttp://127.0.0.1:8265\u001b[39m\u001b[22m\n"
     ]
    },
    {
     "data": {
      "text/plain": [
       "{'node_ip_address': '127.0.0.1',\n",
       " 'raylet_ip_address': '127.0.0.1',\n",
       " 'redis_address': '127.0.0.1:6379',\n",
       " 'object_store_address': '/tmp/ray/session_2022-02-21_11-39-55_279085_13161/sockets/plasma_store',\n",
       " 'raylet_socket_name': '/tmp/ray/session_2022-02-21_11-39-55_279085_13161/sockets/raylet',\n",
       " 'webui_url': '127.0.0.1:8265',\n",
       " 'session_dir': '/tmp/ray/session_2022-02-21_11-39-55_279085_13161',\n",
       " 'metrics_export_port': 57721,\n",
       " 'gcs_address': '127.0.0.1:54836',\n",
       " 'node_id': 'b70e7343ebd5917e42c3f818d1447803ab4681c6809a0510d9e8d372'}"
      ]
     },
     "execution_count": 2,
     "metadata": {},
     "output_type": "execute_result"
    }
   ],
   "source": [
    "ray.init(ignore_reinit_error=True)"
   ]
  },
  {
   "cell_type": "markdown",
   "metadata": {},
   "source": [
    "In our [RLlib Simple Multi-Armed Bandit](../ray-rllib/multi-armed-bandits/03-Simple-Multi-Armed-Bandit.ipynb) lesson, we used Tune to train RLlib, but not train hyperparameters. \n",
    "\n",
    "> **NOTE**: If you have not gone through the RLlib tutorial yet, you may skip the rest of this tutorital, for it takes about 5-6 minutes. The message to take away here is that Tune provides many search algorithms and schedulers that can be specified as arguments. The next three tutoirals shows you how.\n",
    "\n",
    "Now we'll use Tune to train hyperparameters. We'll use the same experimental environment we used in our [RLlib `CartPole` lesson](../ray-rllib/explore-rllib/01-Application-Cart-Pole.ipynb). \n",
    "\n",
    "> **Aside:** In case you haven't gone through the [Ray RLlib tutorial](../ray-rllib/00-Ray-RLlib-Overview.ipynb), [CartPole](https://gym.openai.com/envs/CartPole-v1/) is an [OpenAI Gym](https://gym.openai.com/envs/) environment that simulates a cart that moves left or right while attempting to balance a vertical pole. A _policy_ is trained to optimize changing the velocity up and down to control right and left movement with the goal of keeping the pole balanced for as long as possible.\n",
    "\n",
    "The most important hyperparameters for `CartPole` are for the neural network used to learn how to balance the pole. A simple network suffices. We'll use a fully-connected network with two hidden layers, but use Tune to find an optimal choice for the sizes of the layers. To keep the computation tractable for our purposes, we'll just pick sizes from the list of 20 and 40. \n",
    "\n",
    "It's probably that some specific number between these 10 and 100 is optimal for one layer and a different number is optimal for the other layer. However, the computation required for trying all possible combinations is $O(n^2)$. You should consider trying more numbers if you don't mind waiting!\n",
    "\n",
    "However, the two we've chosen are good enough as we'll see. We'll consider what \"good enough\" means when we look at the results.\n",
    "\n",
    "The next cell runs Tune for this purpose. The comments explain what each argument does. We'll do four tries, one for each combination of the two possible values for the two hidden layers.\n",
    "\n",
    "> **Note:** `tune.run` will handle Ray initialization for us, if it isn't already initialized. To force Tune to throw an error instead, pass the argument `ray_auto_init=False`.\n",
    "\n",
    "The next cell will take 5-6 minutes to run."
   ]
  },
  {
   "cell_type": "code",
   "execution_count": 3,
   "metadata": {
    "scrolled": true
   },
   "outputs": [
    {
     "data": {
      "text/html": [
       "== Status ==<br>Current time: 2022-02-21 11:43:45 (running for 00:03:38.20)<br>Memory usage on this node: 18.5/32.0 GiB<br>Using FIFO scheduling algorithm.<br>Resources requested: 0/12 CPUs, 0/0 GPUs, 0.0/10.18 GiB heap, 0.0/5.09 GiB objects<br>Result logdir: /Users/jules/ray_results/PPO<br>Number of trials: 4/4 (4 TERMINATED)<br><br>"
      ],
      "text/plain": [
       "<IPython.core.display.HTML object>"
      ]
     },
     "metadata": {},
     "output_type": "display_data"
    },
    {
     "name": "stderr",
     "output_type": "stream",
     "text": [
      "2022-02-21 11:43:46,044\tINFO tune.py:636 -- Total run time: 219.32 seconds (218.17 seconds for the tuning loop).\n"
     ]
    }
   ],
   "source": [
    "analysis = tune.run(\n",
    "    \"PPO\",                                    # Use proximal policy optimization to train \n",
    "    stop={\"episode_reward_mean\": 400},        # Stopping criteria, when average reward over the episodes\n",
    "                                              # of training equals 400 out of a maximum possible 500 score.\n",
    "    config={\n",
    "        \"env\": \"CartPole-v1\",                 # Tune can associate this string with the environment.\n",
    "        \"num_gpus\": 0,                        # If you have GPUs, go for it!\n",
    "        \"num_workers\": 6,                     # Number of Ray workers to use; Use one LESS than \n",
    "                                              # the number of cores you want to use (or omit this argument)!\n",
    "        \"model\": {                            # The NN model we'll optimize.\n",
    "            'fcnet_hiddens': [                # \"Fully-connected network with N hidden layers\".\n",
    "                tune.grid_search([20, 40]),   # Try these four values for layer one.\n",
    "                tune.grid_search([20, 40])    # Try these four values for layer two.\n",
    "            ]\n",
    "        },\n",
    "    },\n",
    "    verbose=1\n",
    ")"
   ]
  },
  {
   "cell_type": "markdown",
   "metadata": {},
   "source": [
    "## Understanding the Results\n",
    "\n",
    "First, how long did it take?"
   ]
  },
  {
   "cell_type": "code",
   "execution_count": 4,
   "metadata": {},
   "outputs": [
    {
     "name": "stdout",
     "output_type": "stream",
     "text": [
      " 215.77 seconds,    3.60 minutes\n"
     ]
    }
   ],
   "source": [
    "stats = analysis.stats()\n",
    "secs = stats[\"timestamp\"] - stats[\"start_time\"]\n",
    "print(f'{secs:7.2f} seconds, {secs/60.0:7.2f} minutes')"
   ]
  },
  {
   "cell_type": "markdown",
   "metadata": {},
   "source": [
    "Which one performed best based on our stopping criteria, with mode modes of \"max\" or \"min?"
   ]
  },
  {
   "cell_type": "code",
   "execution_count": 5,
   "metadata": {},
   "outputs": [
    {
     "data": {
      "text/plain": [
       "{'env': 'CartPole-v1',\n",
       " 'num_gpus': 0,\n",
       " 'num_workers': 6,\n",
       " 'model': {'fcnet_hiddens': [20, 20]}}"
      ]
     },
     "execution_count": 5,
     "metadata": {},
     "output_type": "execute_result"
    }
   ],
   "source": [
    "analysis.get_best_config(metric=\"episode_reward_mean\", mode=\"min\")"
   ]
  },
  {
   "cell_type": "code",
   "execution_count": 6,
   "metadata": {},
   "outputs": [
    {
     "data": {
      "text/plain": [
       "{'env': 'CartPole-v1',\n",
       " 'num_gpus': 0,\n",
       " 'num_workers': 6,\n",
       " 'model': {'fcnet_hiddens': [40, 20]}}"
      ]
     },
     "execution_count": 6,
     "metadata": {},
     "output_type": "execute_result"
    }
   ],
   "source": [
    "analysis.get_best_config(metric=\"episode_reward_mean\", mode=\"max\")"
   ]
  },
  {
   "cell_type": "markdown",
   "metadata": {},
   "source": [
    "So, the smallest combination is good enough, even the best according to this metric! \n",
    "\n",
    "Let's look at the data for all of them:"
   ]
  },
  {
   "cell_type": "code",
   "execution_count": 7,
   "metadata": {},
   "outputs": [
    {
     "data": {
      "text/html": [
       "<div>\n",
       "<style scoped>\n",
       "    .dataframe tbody tr th:only-of-type {\n",
       "        vertical-align: middle;\n",
       "    }\n",
       "\n",
       "    .dataframe tbody tr th {\n",
       "        vertical-align: top;\n",
       "    }\n",
       "\n",
       "    .dataframe thead th {\n",
       "        text-align: right;\n",
       "    }\n",
       "</style>\n",
       "<table border=\"1\" class=\"dataframe\">\n",
       "  <thead>\n",
       "    <tr style=\"text-align: right;\">\n",
       "      <th></th>\n",
       "      <th>episode_reward_max</th>\n",
       "      <th>episode_reward_min</th>\n",
       "      <th>episode_reward_mean</th>\n",
       "      <th>episode_len_mean</th>\n",
       "      <th>episodes_this_iter</th>\n",
       "      <th>num_healthy_workers</th>\n",
       "      <th>timesteps_total</th>\n",
       "      <th>timesteps_this_iter</th>\n",
       "      <th>agent_timesteps_total</th>\n",
       "      <th>done</th>\n",
       "      <th>...</th>\n",
       "      <th>info/learner/default_policy/learner_stats/vf_loss</th>\n",
       "      <th>info/learner/default_policy/learner_stats/vf_explained_var</th>\n",
       "      <th>info/learner/default_policy/learner_stats/kl</th>\n",
       "      <th>info/learner/default_policy/learner_stats/entropy</th>\n",
       "      <th>info/learner/default_policy/learner_stats/entropy_coeff</th>\n",
       "      <th>config/env</th>\n",
       "      <th>config/model</th>\n",
       "      <th>config/num_gpus</th>\n",
       "      <th>config/num_workers</th>\n",
       "      <th>logdir</th>\n",
       "    </tr>\n",
       "  </thead>\n",
       "  <tbody>\n",
       "    <tr>\n",
       "      <th>0</th>\n",
       "      <td>500.0</td>\n",
       "      <td>90.0</td>\n",
       "      <td>407.76</td>\n",
       "      <td>407.76</td>\n",
       "      <td>18</td>\n",
       "      <td>6</td>\n",
       "      <td>95904</td>\n",
       "      <td>7992</td>\n",
       "      <td>95904</td>\n",
       "      <td>True</td>\n",
       "      <td>...</td>\n",
       "      <td>3174.3608</td>\n",
       "      <td>2.114363e-07</td>\n",
       "      <td>0.007686</td>\n",
       "      <td>0.494802</td>\n",
       "      <td>0.0</td>\n",
       "      <td>CartPole-v1</td>\n",
       "      <td>{'fcnet_hiddens': [20, 20]}</td>\n",
       "      <td>0</td>\n",
       "      <td>6</td>\n",
       "      <td>/Users/jules/ray_results/PPO/PPO_CartPole-v1_1...</td>\n",
       "    </tr>\n",
       "    <tr>\n",
       "      <th>1</th>\n",
       "      <td>500.0</td>\n",
       "      <td>63.0</td>\n",
       "      <td>431.51</td>\n",
       "      <td>431.51</td>\n",
       "      <td>18</td>\n",
       "      <td>6</td>\n",
       "      <td>79920</td>\n",
       "      <td>7992</td>\n",
       "      <td>79920</td>\n",
       "      <td>True</td>\n",
       "      <td>...</td>\n",
       "      <td>3405.2312</td>\n",
       "      <td>1.544720e-04</td>\n",
       "      <td>0.006029</td>\n",
       "      <td>0.518259</td>\n",
       "      <td>0.0</td>\n",
       "      <td>CartPole-v1</td>\n",
       "      <td>{'fcnet_hiddens': [40, 20]}</td>\n",
       "      <td>0</td>\n",
       "      <td>6</td>\n",
       "      <td>/Users/jules/ray_results/PPO/PPO_CartPole-v1_1...</td>\n",
       "    </tr>\n",
       "    <tr>\n",
       "      <th>2</th>\n",
       "      <td>500.0</td>\n",
       "      <td>72.0</td>\n",
       "      <td>417.58</td>\n",
       "      <td>417.58</td>\n",
       "      <td>17</td>\n",
       "      <td>6</td>\n",
       "      <td>87912</td>\n",
       "      <td>7992</td>\n",
       "      <td>87912</td>\n",
       "      <td>True</td>\n",
       "      <td>...</td>\n",
       "      <td>1804.1877</td>\n",
       "      <td>2.671751e-04</td>\n",
       "      <td>0.005275</td>\n",
       "      <td>0.548551</td>\n",
       "      <td>0.0</td>\n",
       "      <td>CartPole-v1</td>\n",
       "      <td>{'fcnet_hiddens': [20, 40]}</td>\n",
       "      <td>0</td>\n",
       "      <td>6</td>\n",
       "      <td>/Users/jules/ray_results/PPO/PPO_CartPole-v1_1...</td>\n",
       "    </tr>\n",
       "    <tr>\n",
       "      <th>3</th>\n",
       "      <td>500.0</td>\n",
       "      <td>80.0</td>\n",
       "      <td>418.86</td>\n",
       "      <td>418.86</td>\n",
       "      <td>16</td>\n",
       "      <td>6</td>\n",
       "      <td>95904</td>\n",
       "      <td>7992</td>\n",
       "      <td>95904</td>\n",
       "      <td>True</td>\n",
       "      <td>...</td>\n",
       "      <td>1577.3135</td>\n",
       "      <td>1.099887e-01</td>\n",
       "      <td>0.009395</td>\n",
       "      <td>0.517888</td>\n",
       "      <td>0.0</td>\n",
       "      <td>CartPole-v1</td>\n",
       "      <td>{'fcnet_hiddens': [40, 40]}</td>\n",
       "      <td>0</td>\n",
       "      <td>6</td>\n",
       "      <td>/Users/jules/ray_results/PPO/PPO_CartPole-v1_1...</td>\n",
       "    </tr>\n",
       "  </tbody>\n",
       "</table>\n",
       "<p>4 rows × 59 columns</p>\n",
       "</div>"
      ],
      "text/plain": [
       "   episode_reward_max  episode_reward_min  episode_reward_mean  \\\n",
       "0               500.0                90.0               407.76   \n",
       "1               500.0                63.0               431.51   \n",
       "2               500.0                72.0               417.58   \n",
       "3               500.0                80.0               418.86   \n",
       "\n",
       "   episode_len_mean  episodes_this_iter  num_healthy_workers  timesteps_total  \\\n",
       "0            407.76                  18                    6            95904   \n",
       "1            431.51                  18                    6            79920   \n",
       "2            417.58                  17                    6            87912   \n",
       "3            418.86                  16                    6            95904   \n",
       "\n",
       "   timesteps_this_iter  agent_timesteps_total  done  ...  \\\n",
       "0                 7992                  95904  True  ...   \n",
       "1                 7992                  79920  True  ...   \n",
       "2                 7992                  87912  True  ...   \n",
       "3                 7992                  95904  True  ...   \n",
       "\n",
       "   info/learner/default_policy/learner_stats/vf_loss  \\\n",
       "0                                          3174.3608   \n",
       "1                                          3405.2312   \n",
       "2                                          1804.1877   \n",
       "3                                          1577.3135   \n",
       "\n",
       "   info/learner/default_policy/learner_stats/vf_explained_var  \\\n",
       "0                                       2.114363e-07            \n",
       "1                                       1.544720e-04            \n",
       "2                                       2.671751e-04            \n",
       "3                                       1.099887e-01            \n",
       "\n",
       "  info/learner/default_policy/learner_stats/kl  \\\n",
       "0                                     0.007686   \n",
       "1                                     0.006029   \n",
       "2                                     0.005275   \n",
       "3                                     0.009395   \n",
       "\n",
       "  info/learner/default_policy/learner_stats/entropy  \\\n",
       "0                                          0.494802   \n",
       "1                                          0.518259   \n",
       "2                                          0.548551   \n",
       "3                                          0.517888   \n",
       "\n",
       "  info/learner/default_policy/learner_stats/entropy_coeff   config/env  \\\n",
       "0                                                0.0       CartPole-v1   \n",
       "1                                                0.0       CartPole-v1   \n",
       "2                                                0.0       CartPole-v1   \n",
       "3                                                0.0       CartPole-v1   \n",
       "\n",
       "                  config/model  config/num_gpus  config/num_workers  \\\n",
       "0  {'fcnet_hiddens': [20, 20]}                0                   6   \n",
       "1  {'fcnet_hiddens': [40, 20]}                0                   6   \n",
       "2  {'fcnet_hiddens': [20, 40]}                0                   6   \n",
       "3  {'fcnet_hiddens': [40, 40]}                0                   6   \n",
       "\n",
       "                                              logdir  \n",
       "0  /Users/jules/ray_results/PPO/PPO_CartPole-v1_1...  \n",
       "1  /Users/jules/ray_results/PPO/PPO_CartPole-v1_1...  \n",
       "2  /Users/jules/ray_results/PPO/PPO_CartPole-v1_1...  \n",
       "3  /Users/jules/ray_results/PPO/PPO_CartPole-v1_1...  \n",
       "\n",
       "[4 rows x 59 columns]"
      ]
     },
     "execution_count": 7,
     "metadata": {},
     "output_type": "execute_result"
    }
   ],
   "source": [
    "df = analysis.dataframe()\n",
    "df"
   ]
  },
  {
   "cell_type": "markdown",
   "metadata": {},
   "source": [
    "As stated above, all four combinations actually work about equally well, as far as the `episode_reward_mean` mean is concerned. So what's actually best? What's \"good enough\" in this case?\n",
    "\n",
    "It's useful to consider the `training_iteration` (roughly proportional to `episodes_total`) and `timesteps_total`. Let's project out the most interesting data so we can see it more clearly:"
   ]
  },
  {
   "cell_type": "code",
   "execution_count": 8,
   "metadata": {},
   "outputs": [
    {
     "data": {
      "text/html": [
       "<div>\n",
       "<style scoped>\n",
       "    .dataframe tbody tr th:only-of-type {\n",
       "        vertical-align: middle;\n",
       "    }\n",
       "\n",
       "    .dataframe tbody tr th {\n",
       "        vertical-align: top;\n",
       "    }\n",
       "\n",
       "    .dataframe thead th {\n",
       "        text-align: right;\n",
       "    }\n",
       "</style>\n",
       "<table border=\"1\" class=\"dataframe\">\n",
       "  <thead>\n",
       "    <tr style=\"text-align: right;\">\n",
       "      <th></th>\n",
       "      <th>episode_reward_mean</th>\n",
       "      <th>training_iteration</th>\n",
       "      <th>timesteps_total</th>\n",
       "      <th>config/model</th>\n",
       "    </tr>\n",
       "  </thead>\n",
       "  <tbody>\n",
       "    <tr>\n",
       "      <th>1</th>\n",
       "      <td>431.51</td>\n",
       "      <td>10</td>\n",
       "      <td>79920</td>\n",
       "      <td>{'fcnet_hiddens': [40, 20]}</td>\n",
       "    </tr>\n",
       "    <tr>\n",
       "      <th>2</th>\n",
       "      <td>417.58</td>\n",
       "      <td>11</td>\n",
       "      <td>87912</td>\n",
       "      <td>{'fcnet_hiddens': [20, 40]}</td>\n",
       "    </tr>\n",
       "    <tr>\n",
       "      <th>0</th>\n",
       "      <td>407.76</td>\n",
       "      <td>12</td>\n",
       "      <td>95904</td>\n",
       "      <td>{'fcnet_hiddens': [20, 20]}</td>\n",
       "    </tr>\n",
       "    <tr>\n",
       "      <th>3</th>\n",
       "      <td>418.86</td>\n",
       "      <td>12</td>\n",
       "      <td>95904</td>\n",
       "      <td>{'fcnet_hiddens': [40, 40]}</td>\n",
       "    </tr>\n",
       "  </tbody>\n",
       "</table>\n",
       "</div>"
      ],
      "text/plain": [
       "   episode_reward_mean  training_iteration  timesteps_total  \\\n",
       "1               431.51                  10            79920   \n",
       "2               417.58                  11            87912   \n",
       "0               407.76                  12            95904   \n",
       "3               418.86                  12            95904   \n",
       "\n",
       "                  config/model  \n",
       "1  {'fcnet_hiddens': [40, 20]}  \n",
       "2  {'fcnet_hiddens': [20, 40]}  \n",
       "0  {'fcnet_hiddens': [20, 20]}  \n",
       "3  {'fcnet_hiddens': [40, 40]}  "
      ]
     },
     "execution_count": 8,
     "metadata": {},
     "output_type": "execute_result"
    }
   ],
   "source": [
    "df[['episode_reward_mean', 'training_iteration', 'timesteps_total', 'config/model']].sort_values('timesteps_total', ascending=True)"
   ]
  },
  {
   "cell_type": "markdown",
   "metadata": {},
   "source": [
    "We see from this table that the `[20,20]` hyperparameter set took the *most* training iterations, which is understandable as it is the least powerful network configuration. The corresponding number of timesteps was the longest. In contrast, `[40,20]` and `[40,40]` are the fastest to train with almost the same `episode_reward_mean` value.\n",
    "\n",
    "Since all four combinations perform equally well, perhaps it's best to choose the largest network as it trains the fastest. If we need to train the neural network frequently, then fast training times might be most important. This also suggests that we should be sure the trial sizes we used are really best. In a real-world application, you would want to spend more time on HPO, trying a larger set of possible values."
   ]
  },
  {
   "cell_type": "markdown",
   "metadata": {},
   "source": [
    "## Analyzing the Results with TensorBoard \n",
    "\n",
    "Here is the directory where the training data was written for the \"best\" hyperparameter set:"
   ]
  },
  {
   "cell_type": "code",
   "execution_count": 9,
   "metadata": {},
   "outputs": [
    {
     "data": {
      "text/plain": [
       "'/Users/jules/ray_results/PPO/PPO_CartPole-v1_12691_00001_1_fcnet_hiddens_0=40,fcnet_hiddens_1=20_2022-02-21_11-40-25'"
      ]
     },
     "execution_count": 9,
     "metadata": {},
     "output_type": "execute_result"
    }
   ],
   "source": [
    "analysis.get_best_logdir(metric=\"episode_reward_mean\", mode=\"max\")"
   ]
  },
  {
   "cell_type": "markdown",
   "metadata": {},
   "source": [
    "There is a separate directory for each trial run.\n",
    "\n",
    "The easiest way to inspect all the training data, including graphs, is to use [TensorBoard](https://www.tensorflow.org/tensorboard).\n",
    "\n",
    "1. If you are runnng on the Anyscale Platform, click the _TensorBoard_ link. \n",
    "2. If you running this notebook on a laptop, open a terminal window using the `+` under the _Edit_ menu, run the following command, then open the URL shown in the output.\n",
    "\n",
    "```\n",
    "tensorboard --logdir ~/ray_results \n",
    "```"
   ]
  },
  {
   "cell_type": "markdown",
   "metadata": {},
   "source": [
    "Here is a screen shot of TensorBoard after the previous Tune run, showing how _scalars_ like the `episdoe_reward_mean` evolved. Some data shown is for runs with trial values of 60 and 80:\n",
    "\n",
    "![TensorBoard](../images/tune/TensorBoard-CartPole-HPO-scalars.png)"
   ]
  },
  {
   "cell_type": "markdown",
   "metadata": {},
   "source": [
    "Here is a table of the hyperparameter data, similar to what we saw above by looking at the `analysis.dataframe()`:\n",
    "\n",
    "![TensorBoard](../images/tune/TensorBoard-CartPole-HPO-hyperparameters.png)"
   ]
  },
  {
   "cell_type": "markdown",
   "metadata": {},
   "source": [
    "## Other Useful Information \n",
    "\n",
    "The `ray.tune.trial.Trial` object ([documentation](https://docs.ray.io/en/latest/tune/api_docs/internals.html?highlight=Trial#trial-docstring)) records lots of information about particular trials:"
   ]
  },
  {
   "cell_type": "code",
   "execution_count": 10,
   "metadata": {},
   "outputs": [
    {
     "data": {
      "text/plain": [
       "(PPO_CartPole-v1_12691_00001, ray.tune.trial.Trial)"
      ]
     },
     "execution_count": 10,
     "metadata": {},
     "output_type": "execute_result"
    }
   ],
   "source": [
    "trial = analysis.get_best_trial(metric=\"episode_reward_mean\", mode=\"max\")\n",
    "trial, type(trial)"
   ]
  },
  {
   "cell_type": "code",
   "execution_count": 11,
   "metadata": {},
   "outputs": [
    {
     "data": {
      "text/plain": [
       "{'episode_reward_mean': 400}"
      ]
     },
     "execution_count": 11,
     "metadata": {},
     "output_type": "execute_result"
    }
   ],
   "source": [
    "trial.stopping_criterion"
   ]
  },
  {
   "cell_type": "code",
   "execution_count": 12,
   "metadata": {
    "scrolled": true
   },
   "outputs": [
    {
     "data": {
      "text/plain": [
       "{'episode_reward_max': {'max': 500.0,\n",
       "  'min': 86.0,\n",
       "  'avg': 384.6,\n",
       "  'last': 500.0,\n",
       "  'last-5-avg': 500.0,\n",
       "  'last-10-avg': 384.6},\n",
       " 'episode_reward_min': {'max': 63.0,\n",
       "  'min': 8.0,\n",
       "  'avg': 23.6,\n",
       "  'last': 63.0,\n",
       "  'last-5-avg': 38.0,\n",
       "  'last-10-avg': 23.6},\n",
       " 'episode_reward_mean': {'max': 431.51,\n",
       "  'min': 22.17183098591549,\n",
       "  'avg': 208.09919017406324,\n",
       "  'last': 431.51,\n",
       "  'last-5-avg': 334.028,\n",
       "  'last-10-avg': 208.09919017406327},\n",
       " 'episode_len_mean': {'max': 431.51,\n",
       "  'min': 22.17183098591549,\n",
       "  'avg': 208.09919017406324,\n",
       "  'last': 431.51,\n",
       "  'last-5-avg': 334.028,\n",
       "  'last-10-avg': 208.09919017406327},\n",
       " 'episodes_this_iter': {'max': 355,\n",
       "  'min': 15,\n",
       "  'avg': 85.4,\n",
       "  'last': 18,\n",
       "  'last-5-avg': 17.6,\n",
       "  'last-10-avg': 85.4},\n",
       " 'num_healthy_workers': {'max': 6,\n",
       "  'min': 6,\n",
       "  'avg': 6.0,\n",
       "  'last': 6,\n",
       "  'last-5-avg': 6.0,\n",
       "  'last-10-avg': 6.0},\n",
       " 'timesteps_total': {'max': 79920,\n",
       "  'min': 7992,\n",
       "  'avg': 43956.0,\n",
       "  'last': 79920,\n",
       "  'last-5-avg': 63936.0,\n",
       "  'last-10-avg': 43956.0},\n",
       " 'timesteps_this_iter': {'max': 7992,\n",
       "  'min': 7992,\n",
       "  'avg': 7992.0,\n",
       "  'last': 7992,\n",
       "  'last-5-avg': 7992.0,\n",
       "  'last-10-avg': 7992.0},\n",
       " 'agent_timesteps_total': {'max': 79920,\n",
       "  'min': 7992,\n",
       "  'avg': 43956.0,\n",
       "  'last': 79920,\n",
       "  'last-5-avg': 63936.0,\n",
       "  'last-10-avg': 43956.0},\n",
       " 'done': {'max': True,\n",
       "  'min': False,\n",
       "  'avg': 0.1,\n",
       "  'last': True,\n",
       "  'last-5-avg': 0.2,\n",
       "  'last-10-avg': 0.1},\n",
       " 'episodes_total': {'max': 854,\n",
       "  'min': 355,\n",
       "  'avg': 721.7,\n",
       "  'last': 854,\n",
       "  'last-5-avg': 819.4,\n",
       "  'last-10-avg': 721.7},\n",
       " 'training_iteration': {'max': 10,\n",
       "  'min': 1,\n",
       "  'avg': 5.5,\n",
       "  'last': 10,\n",
       "  'last-5-avg': 8.0,\n",
       "  'last-10-avg': 5.5},\n",
       " 'time_this_iter_s': {'max': 3.956676959991455,\n",
       "  'min': 3.2084579467773438,\n",
       "  'avg': 3.3711820363998415,\n",
       "  'last': 3.239003896713257,\n",
       "  'last-5-avg': 3.2397721290588377,\n",
       "  'last-10-avg': 3.3711820363998415},\n",
       " 'time_total_s': {'max': 33.71182036399841,\n",
       "  'min': 3.956676959991455,\n",
       "  'avg': 19.01336646080017,\n",
       "  'last': 33.71182036399841,\n",
       "  'last-5-avg': 27.238251161575317,\n",
       "  'last-10-avg': 19.01336646080017},\n",
       " 'time_since_restore': {'max': 33.71182036399841,\n",
       "  'min': 3.956676959991455,\n",
       "  'avg': 19.01336646080017,\n",
       "  'last': 33.71182036399841,\n",
       "  'last-5-avg': 27.238251161575317,\n",
       "  'last-10-avg': 19.01336646080017},\n",
       " 'timesteps_since_restore': {'max': 79920,\n",
       "  'min': 7992,\n",
       "  'avg': 43956.0,\n",
       "  'last': 79920,\n",
       "  'last-5-avg': 63936.0,\n",
       "  'last-10-avg': 43956.0},\n",
       " 'iterations_since_restore': {'max': 10,\n",
       "  'min': 1,\n",
       "  'avg': 5.5,\n",
       "  'last': 10,\n",
       "  'last-5-avg': 8.0,\n",
       "  'last-10-avg': 5.5},\n",
       " 'sampler_perf/mean_raw_obs_processing_ms': {'max': 0.11978001389636943,\n",
       "  'min': 0.09945128903398583,\n",
       "  'avg': 0.1070911717443297,\n",
       "  'last': 0.09945128903398583,\n",
       "  'last-5-avg': 0.10247121689981278,\n",
       "  'last-10-avg': 0.1070911717443297},\n",
       " 'sampler_perf/mean_inference_ms': {'max': 0.7029431361226469,\n",
       "  'min': 0.6386028166912332,\n",
       "  'avg': 0.6617912480365122,\n",
       "  'last': 0.6386028166912332,\n",
       "  'last-5-avg': 0.6491971536376088,\n",
       "  'last-10-avg': 0.6617912480365122},\n",
       " 'sampler_perf/mean_action_processing_ms': {'max': 0.07591220503074171,\n",
       "  'min': 0.07171592799489977,\n",
       "  'avg': 0.07364508576641796,\n",
       "  'last': 0.07171592799489977,\n",
       "  'last-5-avg': 0.07277156617721148,\n",
       "  'last-10-avg': 0.07364508576641796},\n",
       " 'sampler_perf/mean_env_wait_ms': {'max': 0.07398962670992464,\n",
       "  'min': 0.06963671612480787,\n",
       "  'avg': 0.07162627511848618,\n",
       "  'last': 0.06963671612480787,\n",
       "  'last-5-avg': 0.07070793590867815,\n",
       "  'last-10-avg': 0.07162627511848621},\n",
       " 'sampler_perf/mean_env_render_ms': {'max': 0.0,\n",
       "  'min': 0.0,\n",
       "  'avg': 0.0,\n",
       "  'last': 0.0,\n",
       "  'last-5-avg': 0.0,\n",
       "  'last-10-avg': 0.0},\n",
       " 'timers/sample_time_ms': {'max': 3174.707,\n",
       "  'min': 1590.22,\n",
       "  'avg': 2896.2802,\n",
       "  'last': 3174.707,\n",
       "  'last-5-avg': 3150.2491999999997,\n",
       "  'last-10-avg': 2896.2802},\n",
       " 'timers/sample_throughput': {'max': 5025.719,\n",
       "  'min': 2517.398,\n",
       "  'avg': 2876.3705000000004,\n",
       "  'last': 2517.398,\n",
       "  'last-5-avg': 2537.0466,\n",
       "  'last-10-avg': 2876.3705},\n",
       " 'timers/load_time_ms': {'max': 0.304,\n",
       "  'min': 0.274,\n",
       "  'avg': 0.2832,\n",
       "  'last': 0.274,\n",
       "  'last-5-avg': 0.278,\n",
       "  'last-10-avg': 0.2832},\n",
       " 'timers/load_throughput': {'max': 29146054.75,\n",
       "  'min': 26290884.367,\n",
       "  'avg': 28230554.518000003,\n",
       "  'last': 29146054.75,\n",
       "  'last-5-avg': 28744112.4472,\n",
       "  'last-10-avg': 28230554.518},\n",
       " 'timers/learn_time_ms': {'max': 2366.463,\n",
       "  'min': 2166.023,\n",
       "  'avg': 2229.2317,\n",
       "  'last': 2166.023,\n",
       "  'last-5-avg': 2181.5951999999997,\n",
       "  'last-10-avg': 2229.2317},\n",
       " 'timers/learn_throughput': {'max': 3689.712,\n",
       "  'min': 3377.192,\n",
       "  'avg': 3587.9431,\n",
       "  'last': 3689.712,\n",
       "  'last-5-avg': 3663.4986,\n",
       "  'last-10-avg': 3587.9431000000004},\n",
       " 'timers/update_time_ms': {'max': 2.828,\n",
       "  'min': 2.506,\n",
       "  'avg': 2.5919000000000003,\n",
       "  'last': 2.579,\n",
       "  'last-5-avg': 2.5312,\n",
       "  'last-10-avg': 2.5919000000000003},\n",
       " 'info/num_steps_sampled': {'max': 79920,\n",
       "  'min': 7992,\n",
       "  'avg': 43956.0,\n",
       "  'last': 79920,\n",
       "  'last-5-avg': 63936.0,\n",
       "  'last-10-avg': 43956.0},\n",
       " 'info/num_agent_steps_sampled': {'max': 79920,\n",
       "  'min': 7992,\n",
       "  'avg': 43956.0,\n",
       "  'last': 79920,\n",
       "  'last-5-avg': 63936.0,\n",
       "  'last-10-avg': 43956.0},\n",
       " 'info/num_steps_trained': {'max': 79920,\n",
       "  'min': 7992,\n",
       "  'avg': 43956.0,\n",
       "  'last': 79920,\n",
       "  'last-5-avg': 63936.0,\n",
       "  'last-10-avg': 43956.0},\n",
       " 'info/num_steps_trained_this_iter': {'max': 7992,\n",
       "  'min': 7992,\n",
       "  'avg': 7992.0,\n",
       "  'last': 7992,\n",
       "  'last-5-avg': 7992.0,\n",
       "  'last-10-avg': 7992.0},\n",
       " 'info/num_agent_steps_trained': {'max': 79920,\n",
       "  'min': 7992,\n",
       "  'avg': 43956.0,\n",
       "  'last': 79920,\n",
       "  'last-5-avg': 63936.0,\n",
       "  'last-10-avg': 43956.0},\n",
       " 'perf/cpu_util_percent': {'max': 38.5,\n",
       "  'min': 33.480000000000004,\n",
       "  'avg': 36.48166666666666,\n",
       "  'last': 35.44,\n",
       "  'last-5-avg': 36.164,\n",
       "  'last-10-avg': 36.48166666666667},\n",
       " 'perf/ram_util_percent': {'max': 58.6,\n",
       "  'min': 57.94,\n",
       "  'avg': 58.2645,\n",
       "  'last': 57.94,\n",
       "  'last-5-avg': 58.085,\n",
       "  'last-10-avg': 58.2645},\n",
       " 'info/learner/default_policy/learner_stats/cur_kl_coeff': {'max': 0.20000000298023224,\n",
       "  'min': 0.0062500000931322575,\n",
       "  'avg': 0.11937500177882612,\n",
       "  'last': 0.0062500000931322575,\n",
       "  'last-5-avg': 0.038750000577419993,\n",
       "  'last-10-avg': 0.11937500177882612},\n",
       " 'info/learner/default_policy/learner_stats/cur_lr': {'max': 4.999999873689376e-05,\n",
       "  'min': 4.999999873689376e-05,\n",
       "  'avg': 4.999999873689376e-05,\n",
       "  'last': 4.999999873689376e-05,\n",
       "  'last-5-avg': 4.999999873689376e-05,\n",
       "  'last-10-avg': 4.999999873689376e-05},\n",
       " 'info/learner/default_policy/learner_stats/total_loss': {'max': 4029.9727,\n",
       "  'min': 254.28647,\n",
       "  'avg': 2683.2043579101564,\n",
       "  'last': 3405.2185,\n",
       "  'last-5-avg': 3797.668408203125,\n",
       "  'last-10-avg': 2683.2043579101564},\n",
       " 'info/learner/default_policy/learner_stats/policy_loss': {'max': -0.011688832,\n",
       "  'min': -0.030491458,\n",
       "  'avg': -0.016739666648209094,\n",
       "  'last': -0.012741774,\n",
       "  'last-5-avg': -0.012280343659222126,\n",
       "  'last-10-avg': -0.016739666648209094},\n",
       " 'info/learner/default_policy/learner_stats/vf_loss': {'max': 4029.984,\n",
       "  'min': 254.31323,\n",
       "  'avg': 2683.2198791503906,\n",
       "  'last': 3405.2312,\n",
       "  'last-5-avg': 3797.68046875,\n",
       "  'last-10-avg': 2683.2198791503906},\n",
       " 'info/learner/default_policy/learner_stats/vf_explained_var': {'max': 0.011999284,\n",
       "  'min': 1.5510635e-05,\n",
       "  'avg': 0.00364305084112857,\n",
       "  'last': 0.000154472,\n",
       "  'last-5-avg': 0.00012389559778966941,\n",
       "  'last-10-avg': 0.00364305084112857},\n",
       " 'info/learner/default_policy/learner_stats/kl': {'max': 0.018747695,\n",
       "  'min': 0.0028825437,\n",
       "  'avg': 0.007641367148607969,\n",
       "  'last': 0.0060289423,\n",
       "  'last-5-avg': 0.00419891532510519,\n",
       "  'last-10-avg': 0.007641367148607969},\n",
       " 'info/learner/default_policy/learner_stats/entropy': {'max': 0.67443204,\n",
       "  'min': 0.5043422,\n",
       "  'avg': 0.5643660247325898,\n",
       "  'last': 0.51825935,\n",
       "  'last-5-avg': 0.5229275107383728,\n",
       "  'last-10-avg': 0.5643660247325897},\n",
       " 'info/learner/default_policy/learner_stats/entropy_coeff': {'max': 0.0,\n",
       "  'min': 0.0,\n",
       "  'avg': 0.0,\n",
       "  'last': 0.0,\n",
       "  'last-5-avg': 0.0,\n",
       "  'last-10-avg': 0.0}}"
      ]
     },
     "execution_count": 12,
     "metadata": {},
     "output_type": "execute_result"
    }
   ],
   "source": [
    "trial.metric_analysis"
   ]
  },
  {
   "cell_type": "markdown",
   "metadata": {},
   "source": [
    "How long did it take??"
   ]
  },
  {
   "cell_type": "code",
   "execution_count": 13,
   "metadata": {},
   "outputs": [
    {
     "data": {
      "text/plain": [
       "{'start_time': 1645472407.314686, 'timestamp': 1645472623.0816388}"
      ]
     },
     "execution_count": 13,
     "metadata": {},
     "output_type": "execute_result"
    }
   ],
   "source": [
    "stats = analysis.stats()\n",
    "stats"
   ]
  },
  {
   "cell_type": "code",
   "execution_count": 14,
   "metadata": {},
   "outputs": [
    {
     "name": "stdout",
     "output_type": "stream",
     "text": [
      " 215.77 seconds,    3.60 minutes\n"
     ]
    }
   ],
   "source": [
    "secs = stats[\"timestamp\"] - stats[\"start_time\"]\n",
    "print(f'{secs:7.2f} seconds, {secs/60.0:7.2f} minutes')"
   ]
  },
  {
   "cell_type": "code",
   "execution_count": 15,
   "metadata": {},
   "outputs": [
    {
     "data": {
      "text/plain": [
       "{'_insufficient_resources_manager': <ray.tune.insufficient_resources_manager.InsufficientResourcesManager at 0x7facd0059b50>,\n",
       " '_max_pending_trials': 16,\n",
       " '_metric': None,\n",
       " '_total_time': 152.68126916885376,\n",
       " '_iteration': 9263,\n",
       " '_has_errored': False,\n",
       " '_fail_fast': False,\n",
       " '_server_port': None,\n",
       " '_cached_trial_decisions': {},\n",
       " '_queued_trial_decisions': {},\n",
       " '_updated_queue': True,\n",
       " '_result_wait_time': 1,\n",
       " '_should_stop_experiment': False,\n",
       " '_local_checkpoint_dir': '/Users/jules/ray_results/PPO',\n",
       " '_remote_checkpoint_dir': None,\n",
       " '_stopper': <ray.tune.stopper.NoopStopper at 0x7fad61808c50>,\n",
       " '_resumed': False,\n",
       " '_start_time': 1645472407.314686,\n",
       " '_last_checkpoint_time': -inf,\n",
       " '_session_str': '2022-02-21_11-40-07',\n",
       " 'checkpoint_file': '/Users/jules/ray_results/PPO/experiment_state-2022-02-21_11-40-07.json',\n",
       " '_checkpoint_period': 'auto',\n",
       " 'launch_web_server': False}"
      ]
     },
     "execution_count": 15,
     "metadata": {},
     "output_type": "execute_result"
    }
   ],
   "source": [
    "analysis.runner_data()"
   ]
  },
  {
   "cell_type": "markdown",
   "metadata": {},
   "source": [
    "We used grid search here, which is a naïve approach. In subsequent lessons, we'll explore how to optimize the search process using some of Tune's built-in algorithms for this purpose."
   ]
  },
  {
   "cell_type": "markdown",
   "metadata": {},
   "source": [
    "## Exercise - Try More Neural Network Sizes\n",
    "\n",
    "Repeat the experiment above using the sizes `[20, 40, 60, 80, 100]` or some subset of these numbers, depending on how long you are willing to wait. (It takes about 25 minutes on a recent-vintage laptop.) What combination appears to be best, given the considerations we discussed above?\n",
    "\n",
    "> **Note:** The exercise solution for this tutorial can be found [here](solutions/01-Understanding-Hyperparameter-Tuning-Solutions.ipynb)."
   ]
  },
  {
   "cell_type": "code",
   "execution_count": 16,
   "metadata": {},
   "outputs": [],
   "source": [
    "ray.shutdown()  # \"Undo ray.init()\"."
   ]
  }
 ],
 "metadata": {
  "kernelspec": {
   "display_name": "Python 3",
   "language": "python",
   "name": "python3"
  },
  "language_info": {
   "codemirror_mode": {
    "name": "ipython",
    "version": 3
   },
   "file_extension": ".py",
   "mimetype": "text/x-python",
   "name": "python",
   "nbconvert_exporter": "python",
   "pygments_lexer": "ipython3",
   "version": "3.8.5"
  }
 },
 "nbformat": 4,
 "nbformat_minor": 4
}
